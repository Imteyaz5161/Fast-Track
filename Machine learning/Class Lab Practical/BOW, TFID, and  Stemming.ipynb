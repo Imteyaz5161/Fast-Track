{
 "cells": [
  {
   "cell_type": "code",
   "execution_count": 46,
   "id": "6fe1fdf1",
   "metadata": {},
   "outputs": [],
   "source": [
    "paragraph=\"This is the NLP session that is going on and finally we are happy. Is everyone happy. Ineuron is a company where we teach all the tech\""
   ]
  },
  {
   "cell_type": "code",
   "execution_count": 47,
   "id": "55fd2af8",
   "metadata": {},
   "outputs": [],
   "source": [
    "import nltk"
   ]
  },
  {
   "cell_type": "code",
   "execution_count": 48,
   "id": "3fec7114",
   "metadata": {},
   "outputs": [
    {
     "name": "stderr",
     "output_type": "stream",
     "text": [
      "[nltk_data] Downloading package punkt to\n",
      "[nltk_data]     C:\\Users\\mdimt\\AppData\\Roaming\\nltk_data...\n",
      "[nltk_data]   Package punkt is already up-to-date!\n"
     ]
    },
    {
     "data": {
      "text/plain": [
       "True"
      ]
     },
     "execution_count": 48,
     "metadata": {},
     "output_type": "execute_result"
    }
   ],
   "source": [
    "nltk.download('punkt')"
   ]
  },
  {
   "cell_type": "code",
   "execution_count": 49,
   "id": "6454f7a9",
   "metadata": {},
   "outputs": [],
   "source": [
    "sentences=nltk.sent_tokenize(paragraph)"
   ]
  },
  {
   "cell_type": "code",
   "execution_count": 50,
   "id": "01c13d18",
   "metadata": {},
   "outputs": [
    {
     "data": {
      "text/plain": [
       "['This',\n",
       " 'is',\n",
       " 'the',\n",
       " 'NLP',\n",
       " 'session',\n",
       " 'that',\n",
       " 'is',\n",
       " 'going',\n",
       " 'on',\n",
       " 'and',\n",
       " 'finally',\n",
       " 'we',\n",
       " 'are',\n",
       " 'happy',\n",
       " '.',\n",
       " 'Is',\n",
       " 'everyone',\n",
       " 'happy',\n",
       " '.',\n",
       " 'Ineuron',\n",
       " 'is',\n",
       " 'a',\n",
       " 'company',\n",
       " 'where',\n",
       " 'we',\n",
       " 'teach',\n",
       " 'all',\n",
       " 'the',\n",
       " 'tech']"
      ]
     },
     "execution_count": 50,
     "metadata": {},
     "output_type": "execute_result"
    }
   ],
   "source": [
    "## Tokenization\n",
    "nltk.word_tokenize(paragraph)"
   ]
  },
  {
   "cell_type": "code",
   "execution_count": 51,
   "id": "893d32a4",
   "metadata": {},
   "outputs": [],
   "source": [
    "from nltk.stem import PorterStemmer\n"
   ]
  },
  {
   "cell_type": "code",
   "execution_count": 52,
   "id": "900bdb7c",
   "metadata": {},
   "outputs": [],
   "source": [
    "Stemmer=PorterStemmer()"
   ]
  },
  {
   "cell_type": "code",
   "execution_count": 53,
   "id": "8dadae98",
   "metadata": {},
   "outputs": [
    {
     "data": {
      "text/plain": [
       "'happi'"
      ]
     },
     "execution_count": 53,
     "metadata": {},
     "output_type": "execute_result"
    }
   ],
   "source": [
    "Stemmer.stem(\"happy\")"
   ]
  },
  {
   "cell_type": "code",
   "execution_count": 54,
   "id": "c8423a68",
   "metadata": {},
   "outputs": [
    {
     "data": {
      "text/plain": [
       "'organ'"
      ]
     },
     "execution_count": 54,
     "metadata": {},
     "output_type": "execute_result"
    }
   ],
   "source": [
    "Stemmer.stem(\"organizations\")"
   ]
  },
  {
   "cell_type": "code",
   "execution_count": 55,
   "id": "1c27c5be",
   "metadata": {},
   "outputs": [],
   "source": [
    "from nltk.stem import WordNetLemmatizer"
   ]
  },
  {
   "cell_type": "code",
   "execution_count": 56,
   "id": "b737fbed",
   "metadata": {},
   "outputs": [],
   "source": [
    "lemmatizer=WordNetLemmatizer()"
   ]
  },
  {
   "cell_type": "code",
   "execution_count": 57,
   "id": "685a904c",
   "metadata": {},
   "outputs": [
    {
     "name": "stderr",
     "output_type": "stream",
     "text": [
      "[nltk_data] Downloading package wordnet to\n",
      "[nltk_data]     C:\\Users\\mdimt\\AppData\\Roaming\\nltk_data...\n",
      "[nltk_data]   Package wordnet is already up-to-date!\n"
     ]
    },
    {
     "data": {
      "text/plain": [
       "True"
      ]
     },
     "execution_count": 57,
     "metadata": {},
     "output_type": "execute_result"
    }
   ],
   "source": [
    "nltk.download('wordnet')"
   ]
  },
  {
   "cell_type": "code",
   "execution_count": 58,
   "id": "e23c0be6",
   "metadata": {},
   "outputs": [
    {
     "data": {
      "text/plain": [
       "'history'"
      ]
     },
     "execution_count": 58,
     "metadata": {},
     "output_type": "execute_result"
    }
   ],
   "source": [
    "lemmatizer.lemmatize(\"history\")"
   ]
  },
  {
   "cell_type": "code",
   "execution_count": 59,
   "id": "e8349f0f",
   "metadata": {},
   "outputs": [
    {
     "data": {
      "text/plain": [
       "['This is the NLP session that is going on and finally we are happy.',\n",
       " 'Is everyone happy.',\n",
       " 'Ineuron is a company where we teach all the tech']"
      ]
     },
     "execution_count": 59,
     "metadata": {},
     "output_type": "execute_result"
    }
   ],
   "source": [
    "sentences"
   ]
  },
  {
   "cell_type": "code",
   "execution_count": 60,
   "id": "e6256c1e",
   "metadata": {},
   "outputs": [
    {
     "name": "stdout",
     "output_type": "stream",
     "text": [
      "['thi', 'is', 'the', 'nlp', 'session', 'that', 'is', 'go', 'on', 'and', 'final', 'we', 'are', 'happi', '.']\n",
      "['is', 'everyon', 'happi', '.']\n",
      "['ineuron', 'is', 'a', 'compani', 'where', 'we', 'teach', 'all', 'the', 'tech']\n"
     ]
    }
   ],
   "source": [
    "corpus=[]\n",
    "for i in range(len(sentences)):\n",
    "    words=nltk.word_tokenize(sentences[i])\n",
    "    words=[Stemmer.stem(word) for word in words]\n",
    "    print(words)\n",
    "    corpus.append(' '.join(words))"
   ]
  },
  {
   "cell_type": "code",
   "execution_count": 61,
   "id": "4d8aef03",
   "metadata": {},
   "outputs": [
    {
     "data": {
      "text/plain": [
       "['thi is the nlp session that is go on and final we are happi .',\n",
       " 'is everyon happi .',\n",
       " 'ineuron is a compani where we teach all the tech']"
      ]
     },
     "execution_count": 61,
     "metadata": {},
     "output_type": "execute_result"
    }
   ],
   "source": [
    "corpus"
   ]
  },
  {
   "cell_type": "code",
   "execution_count": 62,
   "id": "15936f3d",
   "metadata": {},
   "outputs": [
    {
     "name": "stdout",
     "output_type": "stream",
     "text": [
      "['This', 'is', 'the', 'NLP', 'session', 'that', 'is', 'going', 'on', 'and', 'finally', 'we', 'are', 'happy', '.']\n",
      "['Is', 'everyone', 'happy', '.']\n",
      "['Ineuron', 'is', 'a', 'company', 'where', 'we', 'teach', 'all', 'the', 'tech']\n"
     ]
    }
   ],
   "source": [
    "corpus=[]\n",
    "for i in range(len(sentences)):\n",
    "    words=nltk.word_tokenize(sentences[i])\n",
    "    words=[lemmatizer.lemmatize(word) for word in words]\n",
    "    print(words)\n",
    "    corpus.append(' '.join(words))"
   ]
  },
  {
   "cell_type": "code",
   "execution_count": 63,
   "id": "0924b232",
   "metadata": {
    "scrolled": true
   },
   "outputs": [],
   "source": [
    "paragraph=\"\"\"\n",
    "Ratan Naval Tata (born 28 December 1937) is an Indian industrialist, philanthropist and former chairman of Tata Sons. He was a chairman of the Tata Group from 1990 to 2012, and interim chairman from October 2016 through February 2017. He continues to head its charitable trusts.[2][3] In 2008, he received the Padma Vibhushan, the second highest civilian honour in India, after receiving the Padma Bhushan, the third highest civilian honour in 2000.[4]\n",
    "\n",
    "He is the son of Naval Tata, who was adopted by Ratanji Tata, son of Jamsetji Tata, the founder of the Tata Group. He graduated from the Cornell University College of Architecture with a bachelor's degree in architecture.[5] He joined Tata in 1961, where he worked on the shop floor of Tata Steel. He later succeeded J. R. D. Tata as chairman of Tata Sons upon the latter's retirement in 1991. Under his tenure the Tata Group acquired Tetley, Jaguar Land Rover, and Corus, in an attempt to turn Tata from a largely India-centric group into a global business. Tata is also one of the largest philanthropists in the world, having donated around 60–65% of his income to charity.\n",
    "\"\"\""
   ]
  },
  {
   "cell_type": "code",
   "execution_count": 64,
   "id": "b95b73f5",
   "metadata": {},
   "outputs": [
    {
     "data": {
      "text/plain": [
       "\"\\nRatan Naval Tata (born 28 December 1937) is an Indian industrialist, philanthropist and former chairman of Tata Sons. He was a chairman of the Tata Group from 1990 to 2012, and interim chairman from October 2016 through February 2017. He continues to head its charitable trusts.[2][3] In 2008, he received the Padma Vibhushan, the second highest civilian honour in India, after receiving the Padma Bhushan, the third highest civilian honour in 2000.[4]\\n\\nHe is the son of Naval Tata, who was adopted by Ratanji Tata, son of Jamsetji Tata, the founder of the Tata Group. He graduated from the Cornell University College of Architecture with a bachelor's degree in architecture.[5] He joined Tata in 1961, where he worked on the shop floor of Tata Steel. He later succeeded J. R. D. Tata as chairman of Tata Sons upon the latter's retirement in 1991. Under his tenure the Tata Group acquired Tetley, Jaguar Land Rover, and Corus, in an attempt to turn Tata from a largely India-centric group into a global business. Tata is also one of the largest philanthropists in the world, having donated around 60–65% of his income to charity.\\n\""
      ]
     },
     "execution_count": 64,
     "metadata": {},
     "output_type": "execute_result"
    }
   ],
   "source": [
    "paragraph"
   ]
  },
  {
   "cell_type": "code",
   "execution_count": 65,
   "id": "7fd93641",
   "metadata": {},
   "outputs": [],
   "source": [
    "sentences=nltk.sent_tokenize(paragraph)"
   ]
  },
  {
   "cell_type": "code",
   "execution_count": 66,
   "id": "2c0a2b20",
   "metadata": {},
   "outputs": [
    {
     "data": {
      "text/plain": [
       "['\\nRatan Naval Tata (born 28 December 1937) is an Indian industrialist, philanthropist and former chairman of Tata Sons.',\n",
       " 'He was a chairman of the Tata Group from 1990 to 2012, and interim chairman from October 2016 through February 2017.',\n",
       " 'He continues to head its charitable trusts.',\n",
       " '[2][3] In 2008, he received the Padma Vibhushan, the second highest civilian honour in India, after receiving the Padma Bhushan, the third highest civilian honour in 2000.',\n",
       " '[4]\\n\\nHe is the son of Naval Tata, who was adopted by Ratanji Tata, son of Jamsetji Tata, the founder of the Tata Group.',\n",
       " \"He graduated from the Cornell University College of Architecture with a bachelor's degree in architecture.\",\n",
       " '[5] He joined Tata in 1961, where he worked on the shop floor of Tata Steel.',\n",
       " \"He later succeeded J. R. D. Tata as chairman of Tata Sons upon the latter's retirement in 1991.\",\n",
       " 'Under his tenure the Tata Group acquired Tetley, Jaguar Land Rover, and Corus, in an attempt to turn Tata from a largely India-centric group into a global business.',\n",
       " 'Tata is also one of the largest philanthropists in the world, having donated around 60–65% of his income to charity.']"
      ]
     },
     "execution_count": 66,
     "metadata": {},
     "output_type": "execute_result"
    }
   ],
   "source": [
    "sentences"
   ]
  },
  {
   "cell_type": "code",
   "execution_count": 67,
   "id": "3cb31468",
   "metadata": {},
   "outputs": [
    {
     "name": "stdout",
     "output_type": "stream",
     "text": [
      "['Ratan', 'Naval', 'Tata', '(', 'born', '28', 'December', '1937', ')', 'is', 'an', 'Indian', 'industrialist', ',', 'philanthropist', 'and', 'former', 'chairman', 'of', 'Tata', 'Sons', '.']\n",
      "['He', 'wa', 'a', 'chairman', 'of', 'the', 'Tata', 'Group', 'from', '1990', 'to', '2012', ',', 'and', 'interim', 'chairman', 'from', 'October', '2016', 'through', 'February', '2017', '.']\n",
      "['He', 'continues', 'to', 'head', 'it', 'charitable', 'trust', '.']\n",
      "['[', '2', ']', '[', '3', ']', 'In', '2008', ',', 'he', 'received', 'the', 'Padma', 'Vibhushan', ',', 'the', 'second', 'highest', 'civilian', 'honour', 'in', 'India', ',', 'after', 'receiving', 'the', 'Padma', 'Bhushan', ',', 'the', 'third', 'highest', 'civilian', 'honour', 'in', '2000', '.']\n",
      "['[', '4', ']', 'He', 'is', 'the', 'son', 'of', 'Naval', 'Tata', ',', 'who', 'wa', 'adopted', 'by', 'Ratanji', 'Tata', ',', 'son', 'of', 'Jamsetji', 'Tata', ',', 'the', 'founder', 'of', 'the', 'Tata', 'Group', '.']\n",
      "['He', 'graduated', 'from', 'the', 'Cornell', 'University', 'College', 'of', 'Architecture', 'with', 'a', 'bachelor', \"'s\", 'degree', 'in', 'architecture', '.']\n",
      "['[', '5', ']', 'He', 'joined', 'Tata', 'in', '1961', ',', 'where', 'he', 'worked', 'on', 'the', 'shop', 'floor', 'of', 'Tata', 'Steel', '.']\n",
      "['He', 'later', 'succeeded', 'J.', 'R.', 'D.', 'Tata', 'a', 'chairman', 'of', 'Tata', 'Sons', 'upon', 'the', 'latter', \"'s\", 'retirement', 'in', '1991', '.']\n",
      "['Under', 'his', 'tenure', 'the', 'Tata', 'Group', 'acquired', 'Tetley', ',', 'Jaguar', 'Land', 'Rover', ',', 'and', 'Corus', ',', 'in', 'an', 'attempt', 'to', 'turn', 'Tata', 'from', 'a', 'largely', 'India-centric', 'group', 'into', 'a', 'global', 'business', '.']\n",
      "['Tata', 'is', 'also', 'one', 'of', 'the', 'largest', 'philanthropist', 'in', 'the', 'world', ',', 'having', 'donated', 'around', '60–65', '%', 'of', 'his', 'income', 'to', 'charity', '.']\n"
     ]
    }
   ],
   "source": [
    "corpus=[]\n",
    "for i in range(len(sentences)):\n",
    "    words=nltk.word_tokenize(sentences[i])\n",
    "    words=[lemmatizer.lemmatize(word) for word in words]\n",
    "    print(words)\n",
    "    corpus.append(' '.join(words))"
   ]
  },
  {
   "cell_type": "code",
   "execution_count": 68,
   "id": "b48119da",
   "metadata": {},
   "outputs": [
    {
     "data": {
      "text/plain": [
       "['Ratan Naval Tata ( born 28 December 1937 ) is an Indian industrialist , philanthropist and former chairman of Tata Sons .',\n",
       " 'He wa a chairman of the Tata Group from 1990 to 2012 , and interim chairman from October 2016 through February 2017 .',\n",
       " 'He continues to head it charitable trust .',\n",
       " '[ 2 ] [ 3 ] In 2008 , he received the Padma Vibhushan , the second highest civilian honour in India , after receiving the Padma Bhushan , the third highest civilian honour in 2000 .',\n",
       " '[ 4 ] He is the son of Naval Tata , who wa adopted by Ratanji Tata , son of Jamsetji Tata , the founder of the Tata Group .',\n",
       " \"He graduated from the Cornell University College of Architecture with a bachelor 's degree in architecture .\",\n",
       " '[ 5 ] He joined Tata in 1961 , where he worked on the shop floor of Tata Steel .',\n",
       " \"He later succeeded J. R. D. Tata a chairman of Tata Sons upon the latter 's retirement in 1991 .\",\n",
       " 'Under his tenure the Tata Group acquired Tetley , Jaguar Land Rover , and Corus , in an attempt to turn Tata from a largely India-centric group into a global business .',\n",
       " 'Tata is also one of the largest philanthropist in the world , having donated around 60–65 % of his income to charity .']"
      ]
     },
     "execution_count": 68,
     "metadata": {},
     "output_type": "execute_result"
    }
   ],
   "source": [
    "corpus"
   ]
  },
  {
   "cell_type": "code",
   "execution_count": 69,
   "id": "c35f6026",
   "metadata": {},
   "outputs": [
    {
     "data": {
      "text/plain": [
       "'going'"
      ]
     },
     "execution_count": 69,
     "metadata": {},
     "output_type": "execute_result"
    }
   ],
   "source": [
    "lemmatizer.lemmatize(\"going\")"
   ]
  },
  {
   "cell_type": "code",
   "execution_count": 70,
   "id": "99ac81af",
   "metadata": {},
   "outputs": [
    {
     "name": "stdout",
     "output_type": "stream",
     "text": [
      "['ratan', 'naval', 'tata', '(', 'born', '28', 'decemb', '1937', ')', 'is', 'an', 'indian', 'industrialist', ',', 'philanthropist', 'and', 'former', 'chairman', 'of', 'tata', 'son', '.']\n",
      "['he', 'wa', 'a', 'chairman', 'of', 'the', 'tata', 'group', 'from', '1990', 'to', '2012', ',', 'and', 'interim', 'chairman', 'from', 'octob', '2016', 'through', 'februari', '2017', '.']\n",
      "['he', 'continu', 'to', 'head', 'it', 'charit', 'trust', '.']\n",
      "['[', '2', ']', '[', '3', ']', 'in', '2008', ',', 'he', 'receiv', 'the', 'padma', 'vibhushan', ',', 'the', 'second', 'highest', 'civilian', 'honour', 'in', 'india', ',', 'after', 'receiv', 'the', 'padma', 'bhushan', ',', 'the', 'third', 'highest', 'civilian', 'honour', 'in', '2000', '.']\n",
      "['[', '4', ']', 'he', 'is', 'the', 'son', 'of', 'naval', 'tata', ',', 'who', 'wa', 'adopt', 'by', 'ratanji', 'tata', ',', 'son', 'of', 'jamsetji', 'tata', ',', 'the', 'founder', 'of', 'the', 'tata', 'group', '.']\n",
      "['he', 'graduat', 'from', 'the', 'cornel', 'univers', 'colleg', 'of', 'architectur', 'with', 'a', 'bachelor', \"'s\", 'degre', 'in', 'architectur', '.']\n",
      "['[', '5', ']', 'he', 'join', 'tata', 'in', '1961', ',', 'where', 'he', 'work', 'on', 'the', 'shop', 'floor', 'of', 'tata', 'steel', '.']\n",
      "['he', 'later', 'succeed', 'j.', 'r.', 'd.', 'tata', 'as', 'chairman', 'of', 'tata', 'son', 'upon', 'the', 'latter', \"'s\", 'retir', 'in', '1991', '.']\n",
      "['under', 'hi', 'tenur', 'the', 'tata', 'group', 'acquir', 'tetley', ',', 'jaguar', 'land', 'rover', ',', 'and', 'coru', ',', 'in', 'an', 'attempt', 'to', 'turn', 'tata', 'from', 'a', 'larg', 'india-centr', 'group', 'into', 'a', 'global', 'busi', '.']\n",
      "['tata', 'is', 'also', 'one', 'of', 'the', 'largest', 'philanthropist', 'in', 'the', 'world', ',', 'have', 'donat', 'around', '60–65', '%', 'of', 'hi', 'incom', 'to', 'chariti', '.']\n"
     ]
    }
   ],
   "source": [
    "corpus=[]\n",
    "for i in range(len(sentences)):\n",
    "    words=nltk.word_tokenize(sentences[i])\n",
    "    words=[Stemmer.stem(word) for word in words]\n",
    "    print(words)\n",
    "    corpus.append(' '.join(words))"
   ]
  },
  {
   "cell_type": "code",
   "execution_count": 71,
   "id": "eceb6cd0",
   "metadata": {},
   "outputs": [
    {
     "data": {
      "text/plain": [
       "['ratan naval tata ( born 28 decemb 1937 ) is an indian industrialist , philanthropist and former chairman of tata son .',\n",
       " 'he wa a chairman of the tata group from 1990 to 2012 , and interim chairman from octob 2016 through februari 2017 .',\n",
       " 'he continu to head it charit trust .',\n",
       " '[ 2 ] [ 3 ] in 2008 , he receiv the padma vibhushan , the second highest civilian honour in india , after receiv the padma bhushan , the third highest civilian honour in 2000 .',\n",
       " '[ 4 ] he is the son of naval tata , who wa adopt by ratanji tata , son of jamsetji tata , the founder of the tata group .',\n",
       " \"he graduat from the cornel univers colleg of architectur with a bachelor 's degre in architectur .\",\n",
       " '[ 5 ] he join tata in 1961 , where he work on the shop floor of tata steel .',\n",
       " \"he later succeed j. r. d. tata as chairman of tata son upon the latter 's retir in 1991 .\",\n",
       " 'under hi tenur the tata group acquir tetley , jaguar land rover , and coru , in an attempt to turn tata from a larg india-centr group into a global busi .',\n",
       " 'tata is also one of the largest philanthropist in the world , have donat around 60–65 % of hi incom to chariti .']"
      ]
     },
     "execution_count": 71,
     "metadata": {},
     "output_type": "execute_result"
    }
   ],
   "source": [
    "corpus"
   ]
  },
  {
   "cell_type": "code",
   "execution_count": 72,
   "id": "53997158",
   "metadata": {},
   "outputs": [
    {
     "name": "stderr",
     "output_type": "stream",
     "text": [
      "[nltk_data] Downloading package stopwords to\n",
      "[nltk_data]     C:\\Users\\mdimt\\AppData\\Roaming\\nltk_data...\n",
      "[nltk_data]   Package stopwords is already up-to-date!\n"
     ]
    },
    {
     "data": {
      "text/plain": [
       "True"
      ]
     },
     "execution_count": 72,
     "metadata": {},
     "output_type": "execute_result"
    }
   ],
   "source": [
    "nltk.download('stopwords')"
   ]
  },
  {
   "cell_type": "code",
   "execution_count": 73,
   "id": "98bc8c5e",
   "metadata": {},
   "outputs": [
    {
     "data": {
      "text/plain": [
       "['i',\n",
       " 'me',\n",
       " 'my',\n",
       " 'myself',\n",
       " 'we',\n",
       " 'our',\n",
       " 'ours',\n",
       " 'ourselves',\n",
       " 'you',\n",
       " \"you're\",\n",
       " \"you've\",\n",
       " \"you'll\",\n",
       " \"you'd\",\n",
       " 'your',\n",
       " 'yours',\n",
       " 'yourself',\n",
       " 'yourselves',\n",
       " 'he',\n",
       " 'him',\n",
       " 'his',\n",
       " 'himself',\n",
       " 'she',\n",
       " \"she's\",\n",
       " 'her',\n",
       " 'hers',\n",
       " 'herself',\n",
       " 'it',\n",
       " \"it's\",\n",
       " 'its',\n",
       " 'itself',\n",
       " 'they',\n",
       " 'them',\n",
       " 'their',\n",
       " 'theirs',\n",
       " 'themselves',\n",
       " 'what',\n",
       " 'which',\n",
       " 'who',\n",
       " 'whom',\n",
       " 'this',\n",
       " 'that',\n",
       " \"that'll\",\n",
       " 'these',\n",
       " 'those',\n",
       " 'am',\n",
       " 'is',\n",
       " 'are',\n",
       " 'was',\n",
       " 'were',\n",
       " 'be',\n",
       " 'been',\n",
       " 'being',\n",
       " 'have',\n",
       " 'has',\n",
       " 'had',\n",
       " 'having',\n",
       " 'do',\n",
       " 'does',\n",
       " 'did',\n",
       " 'doing',\n",
       " 'a',\n",
       " 'an',\n",
       " 'the',\n",
       " 'and',\n",
       " 'but',\n",
       " 'if',\n",
       " 'or',\n",
       " 'because',\n",
       " 'as',\n",
       " 'until',\n",
       " 'while',\n",
       " 'of',\n",
       " 'at',\n",
       " 'by',\n",
       " 'for',\n",
       " 'with',\n",
       " 'about',\n",
       " 'against',\n",
       " 'between',\n",
       " 'into',\n",
       " 'through',\n",
       " 'during',\n",
       " 'before',\n",
       " 'after',\n",
       " 'above',\n",
       " 'below',\n",
       " 'to',\n",
       " 'from',\n",
       " 'up',\n",
       " 'down',\n",
       " 'in',\n",
       " 'out',\n",
       " 'on',\n",
       " 'off',\n",
       " 'over',\n",
       " 'under',\n",
       " 'again',\n",
       " 'further',\n",
       " 'then',\n",
       " 'once',\n",
       " 'here',\n",
       " 'there',\n",
       " 'when',\n",
       " 'where',\n",
       " 'why',\n",
       " 'how',\n",
       " 'all',\n",
       " 'any',\n",
       " 'both',\n",
       " 'each',\n",
       " 'few',\n",
       " 'more',\n",
       " 'most',\n",
       " 'other',\n",
       " 'some',\n",
       " 'such',\n",
       " 'no',\n",
       " 'nor',\n",
       " 'not',\n",
       " 'only',\n",
       " 'own',\n",
       " 'same',\n",
       " 'so',\n",
       " 'than',\n",
       " 'too',\n",
       " 'very',\n",
       " 's',\n",
       " 't',\n",
       " 'can',\n",
       " 'will',\n",
       " 'just',\n",
       " 'don',\n",
       " \"don't\",\n",
       " 'should',\n",
       " \"should've\",\n",
       " 'now',\n",
       " 'd',\n",
       " 'll',\n",
       " 'm',\n",
       " 'o',\n",
       " 're',\n",
       " 've',\n",
       " 'y',\n",
       " 'ain',\n",
       " 'aren',\n",
       " \"aren't\",\n",
       " 'couldn',\n",
       " \"couldn't\",\n",
       " 'didn',\n",
       " \"didn't\",\n",
       " 'doesn',\n",
       " \"doesn't\",\n",
       " 'hadn',\n",
       " \"hadn't\",\n",
       " 'hasn',\n",
       " \"hasn't\",\n",
       " 'haven',\n",
       " \"haven't\",\n",
       " 'isn',\n",
       " \"isn't\",\n",
       " 'ma',\n",
       " 'mightn',\n",
       " \"mightn't\",\n",
       " 'mustn',\n",
       " \"mustn't\",\n",
       " 'needn',\n",
       " \"needn't\",\n",
       " 'shan',\n",
       " \"shan't\",\n",
       " 'shouldn',\n",
       " \"shouldn't\",\n",
       " 'wasn',\n",
       " \"wasn't\",\n",
       " 'weren',\n",
       " \"weren't\",\n",
       " 'won',\n",
       " \"won't\",\n",
       " 'wouldn',\n",
       " \"wouldn't\"]"
      ]
     },
     "execution_count": 73,
     "metadata": {},
     "output_type": "execute_result"
    }
   ],
   "source": [
    "from nltk.corpus import stopwords\n",
    "stopwords.words('english')"
   ]
  },
  {
   "cell_type": "code",
   "execution_count": 74,
   "id": "a674778d",
   "metadata": {},
   "outputs": [],
   "source": [
    "stop_words=stopwords.words('english')"
   ]
  },
  {
   "cell_type": "code",
   "execution_count": 75,
   "id": "e6fc5ee0",
   "metadata": {},
   "outputs": [
    {
     "data": {
      "text/plain": [
       "['i',\n",
       " 'me',\n",
       " 'my',\n",
       " 'myself',\n",
       " 'we',\n",
       " 'our',\n",
       " 'ours',\n",
       " 'ourselves',\n",
       " 'you',\n",
       " \"you're\",\n",
       " \"you've\",\n",
       " \"you'll\",\n",
       " \"you'd\",\n",
       " 'your',\n",
       " 'yours',\n",
       " 'yourself',\n",
       " 'yourselves',\n",
       " 'he',\n",
       " 'him',\n",
       " 'his',\n",
       " 'himself',\n",
       " 'she',\n",
       " \"she's\",\n",
       " 'her',\n",
       " 'hers',\n",
       " 'herself',\n",
       " 'it',\n",
       " \"it's\",\n",
       " 'its',\n",
       " 'itself',\n",
       " 'they',\n",
       " 'them',\n",
       " 'their',\n",
       " 'theirs',\n",
       " 'themselves',\n",
       " 'what',\n",
       " 'which',\n",
       " 'who',\n",
       " 'whom',\n",
       " 'this',\n",
       " 'that',\n",
       " \"that'll\",\n",
       " 'these',\n",
       " 'those',\n",
       " 'am',\n",
       " 'is',\n",
       " 'are',\n",
       " 'was',\n",
       " 'were',\n",
       " 'be',\n",
       " 'been',\n",
       " 'being',\n",
       " 'have',\n",
       " 'has',\n",
       " 'had',\n",
       " 'having',\n",
       " 'do',\n",
       " 'does',\n",
       " 'did',\n",
       " 'doing',\n",
       " 'a',\n",
       " 'an',\n",
       " 'the',\n",
       " 'and',\n",
       " 'but',\n",
       " 'if',\n",
       " 'or',\n",
       " 'because',\n",
       " 'as',\n",
       " 'until',\n",
       " 'while',\n",
       " 'of',\n",
       " 'at',\n",
       " 'by',\n",
       " 'for',\n",
       " 'with',\n",
       " 'about',\n",
       " 'against',\n",
       " 'between',\n",
       " 'into',\n",
       " 'through',\n",
       " 'during',\n",
       " 'before',\n",
       " 'after',\n",
       " 'above',\n",
       " 'below',\n",
       " 'to',\n",
       " 'from',\n",
       " 'up',\n",
       " 'down',\n",
       " 'in',\n",
       " 'out',\n",
       " 'on',\n",
       " 'off',\n",
       " 'over',\n",
       " 'under',\n",
       " 'again',\n",
       " 'further',\n",
       " 'then',\n",
       " 'once',\n",
       " 'here',\n",
       " 'there',\n",
       " 'when',\n",
       " 'where',\n",
       " 'why',\n",
       " 'how',\n",
       " 'all',\n",
       " 'any',\n",
       " 'both',\n",
       " 'each',\n",
       " 'few',\n",
       " 'more',\n",
       " 'most',\n",
       " 'other',\n",
       " 'some',\n",
       " 'such',\n",
       " 'no',\n",
       " 'nor',\n",
       " 'not',\n",
       " 'only',\n",
       " 'own',\n",
       " 'same',\n",
       " 'so',\n",
       " 'than',\n",
       " 'too',\n",
       " 'very',\n",
       " 's',\n",
       " 't',\n",
       " 'can',\n",
       " 'will',\n",
       " 'just',\n",
       " 'don',\n",
       " \"don't\",\n",
       " 'should',\n",
       " \"should've\",\n",
       " 'now',\n",
       " 'd',\n",
       " 'll',\n",
       " 'm',\n",
       " 'o',\n",
       " 're',\n",
       " 've',\n",
       " 'y',\n",
       " 'ain',\n",
       " 'aren',\n",
       " \"aren't\",\n",
       " 'couldn',\n",
       " \"couldn't\",\n",
       " 'didn',\n",
       " \"didn't\",\n",
       " 'doesn',\n",
       " \"doesn't\",\n",
       " 'hadn',\n",
       " \"hadn't\",\n",
       " 'hasn',\n",
       " \"hasn't\",\n",
       " 'haven',\n",
       " \"haven't\",\n",
       " 'isn',\n",
       " \"isn't\",\n",
       " 'ma',\n",
       " 'mightn',\n",
       " \"mightn't\",\n",
       " 'mustn',\n",
       " \"mustn't\",\n",
       " 'needn',\n",
       " \"needn't\",\n",
       " 'shan',\n",
       " \"shan't\",\n",
       " 'shouldn',\n",
       " \"shouldn't\",\n",
       " 'wasn',\n",
       " \"wasn't\",\n",
       " 'weren',\n",
       " \"weren't\",\n",
       " 'won',\n",
       " \"won't\",\n",
       " 'wouldn',\n",
       " \"wouldn't\"]"
      ]
     },
     "execution_count": 75,
     "metadata": {},
     "output_type": "execute_result"
    }
   ],
   "source": [
    "stop_words"
   ]
  },
  {
   "cell_type": "code",
   "execution_count": 76,
   "id": "30cf9046",
   "metadata": {},
   "outputs": [
    {
     "name": "stdout",
     "output_type": "stream",
     "text": [
      "change\n",
      "change\n",
      "changing\n",
      "changer\n",
      "changeable\n"
     ]
    }
   ],
   "source": [
    "for i in [\"changes\",\"change\",\"changing\",\"changer\",\"changeable\"]:\n",
    "    print(lemmatizer.lemmatize(i))"
   ]
  },
  {
   "cell_type": "code",
   "execution_count": 77,
   "id": "64ac97db",
   "metadata": {},
   "outputs": [
    {
     "name": "stdout",
     "output_type": "stream",
     "text": [
      "better : good\n"
     ]
    }
   ],
   "source": [
    "print(\"better :\", lemmatizer.lemmatize(\"better\", pos =\"a\"))"
   ]
  },
  {
   "cell_type": "code",
   "execution_count": 78,
   "id": "429317b4",
   "metadata": {},
   "outputs": [
    {
     "data": {
      "text/plain": [
       "'wa'"
      ]
     },
     "execution_count": 78,
     "metadata": {},
     "output_type": "execute_result"
    }
   ],
   "source": [
    "lemmatizer.lemmatize(\"was\")"
   ]
  },
  {
   "cell_type": "code",
   "execution_count": 79,
   "id": "823a4341",
   "metadata": {},
   "outputs": [
    {
     "data": {
      "text/plain": [
       "['ratan naval tata ( born 28 decemb 1937 ) is an indian industrialist , philanthropist and former chairman of tata son .',\n",
       " 'he wa a chairman of the tata group from 1990 to 2012 , and interim chairman from octob 2016 through februari 2017 .',\n",
       " 'he continu to head it charit trust .',\n",
       " '[ 2 ] [ 3 ] in 2008 , he receiv the padma vibhushan , the second highest civilian honour in india , after receiv the padma bhushan , the third highest civilian honour in 2000 .',\n",
       " '[ 4 ] he is the son of naval tata , who wa adopt by ratanji tata , son of jamsetji tata , the founder of the tata group .',\n",
       " \"he graduat from the cornel univers colleg of architectur with a bachelor 's degre in architectur .\",\n",
       " '[ 5 ] he join tata in 1961 , where he work on the shop floor of tata steel .',\n",
       " \"he later succeed j. r. d. tata as chairman of tata son upon the latter 's retir in 1991 .\",\n",
       " 'under hi tenur the tata group acquir tetley , jaguar land rover , and coru , in an attempt to turn tata from a larg india-centr group into a global busi .',\n",
       " 'tata is also one of the largest philanthropist in the world , have donat around 60–65 % of hi incom to chariti .']"
      ]
     },
     "execution_count": 79,
     "metadata": {},
     "output_type": "execute_result"
    }
   ],
   "source": [
    "corpus"
   ]
  },
  {
   "cell_type": "code",
   "execution_count": 80,
   "id": "9c9ce777",
   "metadata": {},
   "outputs": [
    {
     "name": "stdout",
     "output_type": "stream",
     "text": [
      "['ratan', 'naval', 'tata', '(', 'born', '28', 'december', '1937', ')', 'indian', 'industrialist', ',', 'philanthropist', 'former', 'chairman', 'tata', 'son', '.']\n",
      "['chairman', 'tata', 'group', '1990', '2012', ',', 'interim', 'chairman', 'october', '2016', 'february', '2017', '.']\n",
      "['continues', 'head', 'charitable', 'trust', '.']\n",
      "['[', '2', ']', '[', '3', ']', '2008', ',', 'received', 'padma', 'vibhushan', ',', 'second', 'highest', 'civilian', 'honour', 'india', ',', 'receiving', 'padma', 'bhushan', ',', 'third', 'highest', 'civilian', 'honour', '2000', '.']\n",
      "['[', '4', ']', 'son', 'naval', 'tata', ',', 'adopted', 'ratanji', 'tata', ',', 'son', 'jamsetji', 'tata', ',', 'founder', 'tata', 'group', '.']\n",
      "['graduated', 'cornell', 'university', 'college', 'architecture', 'bachelor', \"'s\", 'degree', 'architecture', '.']\n",
      "['[', '5', ']', 'joined', 'tata', '1961', ',', 'worked', 'shop', 'floor', 'tata', 'steel', '.']\n",
      "['later', 'succeeded', 'j.', 'r.', 'd.', 'tata', 'chairman', 'tata', 'son', 'upon', 'latter', \"'s\", 'retirement', '1991', '.']\n",
      "['tenure', 'tata', 'group', 'acquired', 'tetley', ',', 'jaguar', 'land', 'rover', ',', 'corus', ',', 'attempt', 'turn', 'tata', 'largely', 'india-centric', 'group', 'global', 'business', '.']\n",
      "['tata', 'also', 'one', 'largest', 'philanthropist', 'world', ',', 'donated', 'around', '60–65', '%', 'income', 'charity', '.']\n"
     ]
    }
   ],
   "source": [
    "corpus=[]\n",
    "for i in range(len(sentences)):\n",
    "    words=nltk.word_tokenize(sentences[i].lower())\n",
    "    words=[lemmatizer.lemmatize(word) for word in words if not word in stop_words]\n",
    "    print(words)\n",
    "    corpus.append(' '.join(words))"
   ]
  },
  {
   "cell_type": "code",
   "execution_count": 81,
   "id": "d97001a5",
   "metadata": {},
   "outputs": [
    {
     "data": {
      "text/plain": [
       "['ratan naval tata ( born 28 december 1937 ) indian industrialist , philanthropist former chairman tata son .',\n",
       " 'chairman tata group 1990 2012 , interim chairman october 2016 february 2017 .',\n",
       " 'continues head charitable trust .',\n",
       " '[ 2 ] [ 3 ] 2008 , received padma vibhushan , second highest civilian honour india , receiving padma bhushan , third highest civilian honour 2000 .',\n",
       " '[ 4 ] son naval tata , adopted ratanji tata , son jamsetji tata , founder tata group .',\n",
       " \"graduated cornell university college architecture bachelor 's degree architecture .\",\n",
       " '[ 5 ] joined tata 1961 , worked shop floor tata steel .',\n",
       " \"later succeeded j. r. d. tata chairman tata son upon latter 's retirement 1991 .\",\n",
       " 'tenure tata group acquired tetley , jaguar land rover , corus , attempt turn tata largely india-centric group global business .',\n",
       " 'tata also one largest philanthropist world , donated around 60–65 % income charity .']"
      ]
     },
     "execution_count": 81,
     "metadata": {},
     "output_type": "execute_result"
    }
   ],
   "source": [
    "corpus"
   ]
  },
  {
   "cell_type": "code",
   "execution_count": 82,
   "id": "4a4228ac",
   "metadata": {},
   "outputs": [],
   "source": [
    "from sklearn.feature_extraction.text import CountVectorizer"
   ]
  },
  {
   "cell_type": "code",
   "execution_count": 83,
   "id": "8e4ee79f",
   "metadata": {},
   "outputs": [
    {
     "data": {
      "text/plain": [
       "['\\nRatan Naval Tata (born 28 December 1937) is an Indian industrialist, philanthropist and former chairman of Tata Sons.',\n",
       " 'He was a chairman of the Tata Group from 1990 to 2012, and interim chairman from October 2016 through February 2017.',\n",
       " 'He continues to head its charitable trusts.',\n",
       " '[2][3] In 2008, he received the Padma Vibhushan, the second highest civilian honour in India, after receiving the Padma Bhushan, the third highest civilian honour in 2000.',\n",
       " '[4]\\n\\nHe is the son of Naval Tata, who was adopted by Ratanji Tata, son of Jamsetji Tata, the founder of the Tata Group.',\n",
       " \"He graduated from the Cornell University College of Architecture with a bachelor's degree in architecture.\",\n",
       " '[5] He joined Tata in 1961, where he worked on the shop floor of Tata Steel.',\n",
       " \"He later succeeded J. R. D. Tata as chairman of Tata Sons upon the latter's retirement in 1991.\",\n",
       " 'Under his tenure the Tata Group acquired Tetley, Jaguar Land Rover, and Corus, in an attempt to turn Tata from a largely India-centric group into a global business.',\n",
       " 'Tata is also one of the largest philanthropists in the world, having donated around 60–65% of his income to charity.']"
      ]
     },
     "execution_count": 83,
     "metadata": {},
     "output_type": "execute_result"
    }
   ],
   "source": [
    "sentences"
   ]
  },
  {
   "cell_type": "code",
   "execution_count": 84,
   "id": "9b479c52",
   "metadata": {},
   "outputs": [],
   "source": [
    "cv=CountVectorizer(binary=True)"
   ]
  },
  {
   "cell_type": "code",
   "execution_count": 85,
   "id": "66f41fd8",
   "metadata": {},
   "outputs": [
    {
     "name": "stdout",
     "output_type": "stream",
     "text": [
      "['ratan', 'naval', 'tata', 'born', '28', 'decemb', '1937', 'indian', 'industrialist', 'philanthropist', 'former', 'chairman', 'tata', 'son']\n",
      "['chairman', 'tata', 'group', '1990', '2012', 'interim', 'chairman', 'octob', '2016', 'februari', '2017']\n",
      "['continu', 'head', 'charit', 'trust']\n",
      "['[2][3]', '2008', 'receiv', 'padma', 'vibhushan', 'second', 'highest', 'civilian', 'honour', 'india', 'receiv', 'padma', 'bhushan', 'third', 'highest', 'civilian', 'honour', '2000']\n",
      "['[4]', 'son', 'naval', 'tata', 'adopt', 'ratanji', 'tata', 'son', 'jamsetji', 'tata', 'founder', 'tata', 'group']\n",
      "['graduat', 'cornel', 'univers', 'colleg', 'architectur', 'bachelor', 'degre', 'architectur']\n",
      "['[5]', 'join', 'tata', '1961', 'work', 'shop', 'floor', 'tata', 'steel']\n",
      "['later', 'succeed', 'j', 'r', 'tata', 'chairman', 'tata', 'son', 'upon', 'latter', 'retir', '1991']\n",
      "['tenur', 'tata', 'group', 'acquir', 'tetley', 'jaguar', 'land', 'rover', 'coru', 'attempt', 'turn', 'tata', 'larg', 'india', 'centric', 'group', 'global', 'busi']\n",
      "['tata', 'also', 'one', 'largest', 'philanthropist', 'world', 'donat', 'around', '60', '65', 'incom', 'chariti']\n"
     ]
    }
   ],
   "source": [
    "import re\n",
    "corpus=[]\n",
    "for i in range(len(sentences)):\n",
    "    text=re.sub('[^a-zA-z0-9]',' ',sentences[i])\n",
    "    text=text.lower()\n",
    "    words=text.split()\n",
    "    words=[Stemmer.stem(word) for word in words if not word in stop_words]\n",
    "    print(words)\n",
    "    corpus.append(' '.join(words))"
   ]
  },
  {
   "cell_type": "code",
   "execution_count": 86,
   "id": "773ee9e6",
   "metadata": {},
   "outputs": [
    {
     "data": {
      "text/plain": [
       "['ratan naval tata born 28 decemb 1937 indian industrialist philanthropist former chairman tata son',\n",
       " 'chairman tata group 1990 2012 interim chairman octob 2016 februari 2017',\n",
       " 'continu head charit trust',\n",
       " '[2][3] 2008 receiv padma vibhushan second highest civilian honour india receiv padma bhushan third highest civilian honour 2000',\n",
       " '[4] son naval tata adopt ratanji tata son jamsetji tata founder tata group',\n",
       " 'graduat cornel univers colleg architectur bachelor degre architectur',\n",
       " '[5] join tata 1961 work shop floor tata steel',\n",
       " 'later succeed j r tata chairman tata son upon latter retir 1991',\n",
       " 'tenur tata group acquir tetley jaguar land rover coru attempt turn tata larg india centric group global busi',\n",
       " 'tata also one largest philanthropist world donat around 60 65 incom chariti']"
      ]
     },
     "execution_count": 86,
     "metadata": {},
     "output_type": "execute_result"
    }
   ],
   "source": [
    "corpus"
   ]
  },
  {
   "cell_type": "code",
   "execution_count": 87,
   "id": "75bbeebc",
   "metadata": {},
   "outputs": [],
   "source": [
    "from sklearn.feature_extraction.text import CountVectorizer"
   ]
  },
  {
   "cell_type": "code",
   "execution_count": 88,
   "id": "8dea8fcd",
   "metadata": {},
   "outputs": [],
   "source": [
    "cv=CountVectorizer(binary=True, ngram_range=(1,2))"
   ]
  },
  {
   "cell_type": "code",
   "execution_count": 89,
   "id": "af117b84",
   "metadata": {},
   "outputs": [
    {
     "data": {
      "text/plain": [
       "array([[1, 1, 0, ..., 0, 0, 0],\n",
       "       [0, 0, 0, ..., 0, 0, 0],\n",
       "       [0, 0, 0, ..., 0, 0, 0],\n",
       "       ...,\n",
       "       [0, 0, 0, ..., 0, 0, 0],\n",
       "       [0, 0, 0, ..., 0, 0, 0],\n",
       "       [0, 0, 0, ..., 0, 1, 1]], dtype=int64)"
      ]
     },
     "execution_count": 89,
     "metadata": {},
     "output_type": "execute_result"
    }
   ],
   "source": [
    "##applied BOW\n",
    "cv.fit_transform(corpus).toarray()"
   ]
  },
  {
   "cell_type": "code",
   "execution_count": 93,
   "id": "2ad57051",
   "metadata": {},
   "outputs": [
    {
     "data": {
      "text/plain": [
       "array([[0, 0, 0, 0, 0, 0, 0, 0, 0, 0, 0, 0, 0, 0, 0, 0, 0, 0, 0, 0, 0, 0,\n",
       "        0, 0, 0, 0, 0, 0, 0, 0, 0, 0, 0, 0, 0, 0, 0, 0, 0, 0, 0, 0, 0, 0,\n",
       "        0, 0, 0, 0, 0, 0, 0, 0, 0, 0, 0, 0, 0, 0, 0, 0, 0, 0, 0, 0, 0, 0,\n",
       "        0, 0, 0, 0, 0, 0, 0, 0, 0, 0, 0, 0, 0, 0, 0, 0, 0, 0, 0, 0, 0, 0,\n",
       "        0, 0, 0, 0, 0, 0, 0, 0, 0, 0, 0, 0, 0, 0, 0, 0, 0, 0, 0, 0, 0, 0,\n",
       "        0, 0, 0, 0, 0, 0, 0, 0, 0, 0, 0, 0, 0, 0, 0, 0, 1, 0, 0, 0, 0, 0,\n",
       "        0, 0, 0, 0, 0, 0, 0, 0, 0, 0, 0, 0, 0, 0, 0, 1, 0, 0, 0, 0, 0, 0,\n",
       "        0, 0, 0, 0, 0, 0, 0, 0, 0, 0, 0, 0, 0, 0, 0, 0, 0, 0, 0, 0, 0, 0,\n",
       "        0]], dtype=int64)"
      ]
     },
     "execution_count": 93,
     "metadata": {},
     "output_type": "execute_result"
    }
   ],
   "source": [
    "## new test data\n",
    "data=[\"I want to visit ratan tata\"]\n",
    "\n",
    "cv.transform(data).toarray()"
   ]
  },
  {
   "cell_type": "code",
   "execution_count": null,
   "id": "489cbccf",
   "metadata": {},
   "outputs": [],
   "source": [
    "import pickle\n",
    "pickle.dumb(open('tfidf.pkl','wb'))"
   ]
  },
  {
   "cell_type": "code",
   "execution_count": 98,
   "id": "5503f728",
   "metadata": {},
   "outputs": [
    {
     "data": {
      "text/plain": [
       "{'ratan': 126,\n",
       " 'naval': 114,\n",
       " 'tata': 147,\n",
       " 'born': 37,\n",
       " '28': 15,\n",
       " 'decemb': 58,\n",
       " '1937': 0,\n",
       " 'indian': 92,\n",
       " 'industrialist': 94,\n",
       " 'philanthropist': 123,\n",
       " 'former': 68,\n",
       " 'chairman': 42,\n",
       " 'son': 140,\n",
       " 'ratan naval': 127,\n",
       " 'naval tata': 115,\n",
       " 'tata born': 151,\n",
       " 'born 28': 38,\n",
       " '28 decemb': 16,\n",
       " 'decemb 1937': 59,\n",
       " '1937 indian': 1,\n",
       " 'indian industrialist': 93,\n",
       " 'industrialist philanthropist': 95,\n",
       " 'philanthropist former': 124,\n",
       " 'former chairman': 69,\n",
       " 'chairman tata': 44,\n",
       " 'tata son': 156,\n",
       " 'group': 76,\n",
       " '1990': 4,\n",
       " '2012': 10,\n",
       " 'interim': 96,\n",
       " 'octob': 116,\n",
       " '2016': 12,\n",
       " 'februari': 64,\n",
       " '2017': 14,\n",
       " 'tata group': 154,\n",
       " 'group 1990': 77,\n",
       " '1990 2012': 5,\n",
       " '2012 interim': 11,\n",
       " 'interim chairman': 97,\n",
       " 'chairman octob': 43,\n",
       " 'octob 2016': 117,\n",
       " '2016 februari': 13,\n",
       " 'februari 2017': 65,\n",
       " 'continu': 52,\n",
       " 'head': 80,\n",
       " 'charit': 45,\n",
       " 'trust': 164,\n",
       " 'continu head': 53,\n",
       " 'head charit': 81,\n",
       " 'charit trust': 46,\n",
       " '2008': 8,\n",
       " 'receiv': 130,\n",
       " 'padma': 120,\n",
       " 'vibhushan': 171,\n",
       " 'second': 136,\n",
       " 'highest': 82,\n",
       " 'civilian': 48,\n",
       " 'honour': 84,\n",
       " 'india': 89,\n",
       " 'bhushan': 35,\n",
       " 'third': 162,\n",
       " '2000': 7,\n",
       " '2008 receiv': 9,\n",
       " 'receiv padma': 131,\n",
       " 'padma vibhushan': 122,\n",
       " 'vibhushan second': 172,\n",
       " 'second highest': 137,\n",
       " 'highest civilian': 83,\n",
       " 'civilian honour': 49,\n",
       " 'honour india': 86,\n",
       " 'india receiv': 91,\n",
       " 'padma bhushan': 121,\n",
       " 'bhushan third': 36,\n",
       " 'third highest': 163,\n",
       " 'honour 2000': 85,\n",
       " 'adopt': 23,\n",
       " 'ratanji': 128,\n",
       " 'jamsetji': 100,\n",
       " 'founder': 70,\n",
       " 'son naval': 142,\n",
       " 'tata adopt': 149,\n",
       " 'adopt ratanji': 24,\n",
       " 'ratanji tata': 129,\n",
       " 'son jamsetji': 141,\n",
       " 'jamsetji tata': 101,\n",
       " 'tata founder': 153,\n",
       " 'founder tata': 71,\n",
       " 'graduat': 74,\n",
       " 'cornel': 54,\n",
       " 'univers': 167,\n",
       " 'colleg': 50,\n",
       " 'architectur': 27,\n",
       " 'bachelor': 33,\n",
       " 'degre': 60,\n",
       " 'graduat cornel': 75,\n",
       " 'cornel univers': 55,\n",
       " 'univers colleg': 168,\n",
       " 'colleg architectur': 51,\n",
       " 'architectur bachelor': 28,\n",
       " 'bachelor degre': 34,\n",
       " 'degre architectur': 61,\n",
       " 'join': 102,\n",
       " '1961': 2,\n",
       " 'work': 173,\n",
       " 'shop': 138,\n",
       " 'floor': 66,\n",
       " 'steel': 144,\n",
       " 'join tata': 103,\n",
       " 'tata 1961': 148,\n",
       " '1961 work': 3,\n",
       " 'work shop': 174,\n",
       " 'shop floor': 139,\n",
       " 'floor tata': 67,\n",
       " 'tata steel': 157,\n",
       " 'later': 110,\n",
       " 'succeed': 145,\n",
       " 'upon': 169,\n",
       " 'latter': 112,\n",
       " 'retir': 132,\n",
       " '1991': 6,\n",
       " 'later succeed': 111,\n",
       " 'succeed tata': 146,\n",
       " 'tata chairman': 152,\n",
       " 'son upon': 143,\n",
       " 'upon latter': 170,\n",
       " 'latter retir': 113,\n",
       " 'retir 1991': 133,\n",
       " 'tenur': 158,\n",
       " 'acquir': 21,\n",
       " 'tetley': 160,\n",
       " 'jaguar': 98,\n",
       " 'land': 104,\n",
       " 'rover': 134,\n",
       " 'coru': 56,\n",
       " 'attempt': 31,\n",
       " 'turn': 165,\n",
       " 'larg': 106,\n",
       " 'centric': 40,\n",
       " 'global': 72,\n",
       " 'busi': 39,\n",
       " 'tenur tata': 159,\n",
       " 'group acquir': 78,\n",
       " 'acquir tetley': 22,\n",
       " 'tetley jaguar': 161,\n",
       " 'jaguar land': 99,\n",
       " 'land rover': 105,\n",
       " 'rover coru': 135,\n",
       " 'coru attempt': 57,\n",
       " 'attempt turn': 32,\n",
       " 'turn tata': 166,\n",
       " 'tata larg': 155,\n",
       " 'larg india': 107,\n",
       " 'india centric': 90,\n",
       " 'centric group': 41,\n",
       " 'group global': 79,\n",
       " 'global busi': 73,\n",
       " 'also': 25,\n",
       " 'one': 118,\n",
       " 'largest': 108,\n",
       " 'world': 175,\n",
       " 'donat': 62,\n",
       " 'around': 29,\n",
       " '60': 17,\n",
       " '65': 19,\n",
       " 'incom': 87,\n",
       " 'chariti': 47,\n",
       " 'tata also': 150,\n",
       " 'also one': 26,\n",
       " 'one largest': 119,\n",
       " 'largest philanthropist': 109,\n",
       " 'philanthropist world': 125,\n",
       " 'world donat': 176,\n",
       " 'donat around': 63,\n",
       " 'around 60': 30,\n",
       " '60 65': 18,\n",
       " '65 incom': 20,\n",
       " 'incom chariti': 88}"
      ]
     },
     "execution_count": 98,
     "metadata": {},
     "output_type": "execute_result"
    }
   ],
   "source": [
    "cv.vocabulary_"
   ]
  },
  {
   "cell_type": "code",
   "execution_count": 99,
   "id": "0355782f",
   "metadata": {},
   "outputs": [],
   "source": [
    "from sklearn.feature_extraction.text import TfidfVectorizer"
   ]
  },
  {
   "cell_type": "code",
   "execution_count": 100,
   "id": "e619b199",
   "metadata": {},
   "outputs": [],
   "source": [
    "tf_idf=TfidfVectorizer()"
   ]
  },
  {
   "cell_type": "code",
   "execution_count": 101,
   "id": "0698a34d",
   "metadata": {},
   "outputs": [
    {
     "data": {
      "text/plain": [
       "array([[0.29485773, 0.        , 0.        , 0.        , 0.        ,\n",
       "        0.        , 0.        , 0.        , 0.        , 0.29485773,\n",
       "        0.        , 0.        , 0.        , 0.        , 0.        ,\n",
       "        0.        , 0.        , 0.        , 0.        , 0.        ,\n",
       "        0.29485773, 0.        , 0.        , 0.21929439, 0.        ,\n",
       "        0.        , 0.        , 0.        , 0.        , 0.        ,\n",
       "        0.        , 0.29485773, 0.        , 0.        , 0.        ,\n",
       "        0.        , 0.29485773, 0.        , 0.        , 0.        ,\n",
       "        0.        , 0.        , 0.        , 0.        , 0.        ,\n",
       "        0.        , 0.29485773, 0.29485773, 0.        , 0.        ,\n",
       "        0.        , 0.        , 0.        , 0.        , 0.        ,\n",
       "        0.        , 0.        , 0.250656  , 0.        , 0.        ,\n",
       "        0.        , 0.250656  , 0.29485773, 0.        , 0.        ,\n",
       "        0.        , 0.        , 0.        , 0.        , 0.21929439,\n",
       "        0.        , 0.        , 0.28746209, 0.        , 0.        ,\n",
       "        0.        , 0.        , 0.        , 0.        , 0.        ,\n",
       "        0.        , 0.        , 0.        ],\n",
       "       [0.        , 0.        , 0.31617585, 0.        , 0.        ,\n",
       "        0.        , 0.31617585, 0.31617585, 0.31617585, 0.        ,\n",
       "        0.        , 0.        , 0.        , 0.        , 0.        ,\n",
       "        0.        , 0.        , 0.        , 0.        , 0.        ,\n",
       "        0.        , 0.        , 0.        , 0.47029861, 0.        ,\n",
       "        0.        , 0.        , 0.        , 0.        , 0.        ,\n",
       "        0.        , 0.        , 0.        , 0.        , 0.31617585,\n",
       "        0.        , 0.        , 0.        , 0.        , 0.        ,\n",
       "        0.23514931, 0.        , 0.        , 0.        , 0.        ,\n",
       "        0.        , 0.        , 0.        , 0.31617585, 0.        ,\n",
       "        0.        , 0.        , 0.        , 0.        , 0.        ,\n",
       "        0.        , 0.        , 0.        , 0.31617585, 0.        ,\n",
       "        0.        , 0.        , 0.        , 0.        , 0.        ,\n",
       "        0.        , 0.        , 0.        , 0.        , 0.        ,\n",
       "        0.        , 0.        , 0.15412276, 0.        , 0.        ,\n",
       "        0.        , 0.        , 0.        , 0.        , 0.        ,\n",
       "        0.        , 0.        , 0.        ],\n",
       "       [0.        , 0.        , 0.        , 0.        , 0.        ,\n",
       "        0.        , 0.        , 0.        , 0.        , 0.        ,\n",
       "        0.        , 0.        , 0.        , 0.        , 0.        ,\n",
       "        0.        , 0.        , 0.        , 0.        , 0.        ,\n",
       "        0.        , 0.        , 0.        , 0.        , 0.5       ,\n",
       "        0.        , 0.        , 0.        , 0.5       , 0.        ,\n",
       "        0.        , 0.        , 0.        , 0.        , 0.        ,\n",
       "        0.        , 0.        , 0.        , 0.        , 0.        ,\n",
       "        0.        , 0.5       , 0.        , 0.        , 0.        ,\n",
       "        0.        , 0.        , 0.        , 0.        , 0.        ,\n",
       "        0.        , 0.        , 0.        , 0.        , 0.        ,\n",
       "        0.        , 0.        , 0.        , 0.        , 0.        ,\n",
       "        0.        , 0.        , 0.        , 0.        , 0.        ,\n",
       "        0.        , 0.        , 0.        , 0.        , 0.        ,\n",
       "        0.        , 0.        , 0.        , 0.        , 0.        ,\n",
       "        0.        , 0.5       , 0.        , 0.        , 0.        ,\n",
       "        0.        , 0.        , 0.        ],\n",
       "       [0.        , 0.        , 0.        , 0.        , 0.1934462 ,\n",
       "        0.1934462 , 0.        , 0.        , 0.        , 0.        ,\n",
       "        0.        , 0.        , 0.        , 0.        , 0.        ,\n",
       "        0.        , 0.        , 0.        , 0.        , 0.1934462 ,\n",
       "        0.        , 0.        , 0.        , 0.        , 0.        ,\n",
       "        0.        , 0.38689239, 0.        , 0.        , 0.        ,\n",
       "        0.        , 0.        , 0.        , 0.        , 0.        ,\n",
       "        0.        , 0.        , 0.        , 0.        , 0.        ,\n",
       "        0.        , 0.        , 0.38689239, 0.38689239, 0.        ,\n",
       "        0.16444694, 0.        , 0.        , 0.        , 0.        ,\n",
       "        0.        , 0.        , 0.        , 0.        , 0.        ,\n",
       "        0.        , 0.        , 0.        , 0.        , 0.        ,\n",
       "        0.38689239, 0.        , 0.        , 0.        , 0.38689239,\n",
       "        0.        , 0.        , 0.1934462 , 0.        , 0.        ,\n",
       "        0.        , 0.        , 0.        , 0.        , 0.        ,\n",
       "        0.1934462 , 0.        , 0.        , 0.        , 0.        ,\n",
       "        0.1934462 , 0.        , 0.        ],\n",
       "       [0.        , 0.        , 0.        , 0.        , 0.        ,\n",
       "        0.        , 0.        , 0.        , 0.        , 0.        ,\n",
       "        0.        , 0.        , 0.        , 0.29761136, 0.        ,\n",
       "        0.        , 0.        , 0.        , 0.        , 0.        ,\n",
       "        0.        , 0.        , 0.        , 0.        , 0.        ,\n",
       "        0.        , 0.        , 0.        , 0.        , 0.        ,\n",
       "        0.        , 0.        , 0.        , 0.        , 0.        ,\n",
       "        0.        , 0.        , 0.29761136, 0.        , 0.        ,\n",
       "        0.22134235, 0.        , 0.        , 0.        , 0.        ,\n",
       "        0.        , 0.        , 0.        , 0.        , 0.        ,\n",
       "        0.29761136, 0.        , 0.        , 0.        , 0.        ,\n",
       "        0.        , 0.        , 0.25299685, 0.        , 0.        ,\n",
       "        0.        , 0.        , 0.        , 0.29761136, 0.        ,\n",
       "        0.        , 0.        , 0.        , 0.        , 0.44268469,\n",
       "        0.        , 0.        , 0.58029332, 0.        , 0.        ,\n",
       "        0.        , 0.        , 0.        , 0.        , 0.        ,\n",
       "        0.        , 0.        , 0.        ],\n",
       "       [0.        , 0.        , 0.        , 0.        , 0.        ,\n",
       "        0.        , 0.        , 0.        , 0.        , 0.        ,\n",
       "        0.        , 0.        , 0.        , 0.        , 0.        ,\n",
       "        0.63245553, 0.        , 0.        , 0.31622777, 0.        ,\n",
       "        0.        , 0.        , 0.        , 0.        , 0.        ,\n",
       "        0.        , 0.        , 0.31622777, 0.        , 0.31622777,\n",
       "        0.        , 0.        , 0.31622777, 0.        , 0.        ,\n",
       "        0.        , 0.        , 0.        , 0.        , 0.31622777,\n",
       "        0.        , 0.        , 0.        , 0.        , 0.        ,\n",
       "        0.        , 0.        , 0.        , 0.        , 0.        ,\n",
       "        0.        , 0.        , 0.        , 0.        , 0.        ,\n",
       "        0.        , 0.        , 0.        , 0.        , 0.        ,\n",
       "        0.        , 0.        , 0.        , 0.        , 0.        ,\n",
       "        0.        , 0.        , 0.        , 0.        , 0.        ,\n",
       "        0.        , 0.        , 0.        , 0.        , 0.        ,\n",
       "        0.        , 0.        , 0.        , 0.31622777, 0.        ,\n",
       "        0.        , 0.        , 0.        ],\n",
       "       [0.        , 0.37930893, 0.        , 0.        , 0.        ,\n",
       "        0.        , 0.        , 0.        , 0.        , 0.        ,\n",
       "        0.        , 0.        , 0.        , 0.        , 0.        ,\n",
       "        0.        , 0.        , 0.        , 0.        , 0.        ,\n",
       "        0.        , 0.        , 0.        , 0.        , 0.        ,\n",
       "        0.        , 0.        , 0.        , 0.        , 0.        ,\n",
       "        0.        , 0.        , 0.        , 0.        , 0.        ,\n",
       "        0.37930893, 0.        , 0.        , 0.        , 0.        ,\n",
       "        0.        , 0.        , 0.        , 0.        , 0.        ,\n",
       "        0.        , 0.        , 0.        , 0.        , 0.        ,\n",
       "        0.        , 0.37930893, 0.        , 0.        , 0.        ,\n",
       "        0.        , 0.        , 0.        , 0.        , 0.        ,\n",
       "        0.        , 0.        , 0.        , 0.        , 0.        ,\n",
       "        0.        , 0.        , 0.        , 0.37930893, 0.        ,\n",
       "        0.37930893, 0.        , 0.36979509, 0.        , 0.        ,\n",
       "        0.        , 0.        , 0.        , 0.        , 0.        ,\n",
       "        0.        , 0.37930893, 0.        ],\n",
       "       [0.        , 0.        , 0.        , 0.3523064 , 0.        ,\n",
       "        0.        , 0.        , 0.        , 0.        , 0.        ,\n",
       "        0.        , 0.        , 0.        , 0.        , 0.        ,\n",
       "        0.        , 0.        , 0.        , 0.        , 0.        ,\n",
       "        0.        , 0.        , 0.        , 0.26202066, 0.        ,\n",
       "        0.        , 0.        , 0.        , 0.        , 0.        ,\n",
       "        0.        , 0.        , 0.        , 0.        , 0.        ,\n",
       "        0.        , 0.        , 0.        , 0.        , 0.        ,\n",
       "        0.        , 0.        , 0.        , 0.        , 0.        ,\n",
       "        0.        , 0.        , 0.        , 0.        , 0.        ,\n",
       "        0.        , 0.        , 0.        , 0.        , 0.        ,\n",
       "        0.3523064 , 0.3523064 , 0.        , 0.        , 0.        ,\n",
       "        0.        , 0.        , 0.        , 0.        , 0.        ,\n",
       "        0.3523064 , 0.        , 0.        , 0.        , 0.26202066,\n",
       "        0.        , 0.3523064 , 0.34346984, 0.        , 0.        ,\n",
       "        0.        , 0.        , 0.        , 0.        , 0.3523064 ,\n",
       "        0.        , 0.        , 0.        ],\n",
       "       [0.        , 0.        , 0.        , 0.        , 0.        ,\n",
       "        0.        , 0.        , 0.        , 0.        , 0.        ,\n",
       "        0.        , 0.        , 0.24335544, 0.        , 0.        ,\n",
       "        0.        , 0.        , 0.24335544, 0.        , 0.        ,\n",
       "        0.        , 0.24335544, 0.24335544, 0.        , 0.        ,\n",
       "        0.        , 0.        , 0.        , 0.        , 0.        ,\n",
       "        0.24335544, 0.        , 0.        , 0.        , 0.        ,\n",
       "        0.        , 0.        , 0.        , 0.24335544, 0.        ,\n",
       "        0.36198123, 0.        , 0.        , 0.        , 0.        ,\n",
       "        0.20687435, 0.        , 0.        , 0.        , 0.24335544,\n",
       "        0.        , 0.        , 0.24335544, 0.24335544, 0.        ,\n",
       "        0.        , 0.        , 0.        , 0.        , 0.        ,\n",
       "        0.        , 0.        , 0.        , 0.        , 0.        ,\n",
       "        0.        , 0.24335544, 0.        , 0.        , 0.        ,\n",
       "        0.        , 0.        , 0.23725158, 0.24335544, 0.24335544,\n",
       "        0.        , 0.        , 0.24335544, 0.        , 0.        ,\n",
       "        0.        , 0.        , 0.        ],\n",
       "       [0.        , 0.        , 0.        , 0.        , 0.        ,\n",
       "        0.        , 0.        , 0.        , 0.        , 0.        ,\n",
       "        0.3020573 , 0.3020573 , 0.        , 0.        , 0.3020573 ,\n",
       "        0.        , 0.3020573 , 0.        , 0.        , 0.        ,\n",
       "        0.        , 0.        , 0.        , 0.        , 0.        ,\n",
       "        0.3020573 , 0.        , 0.        , 0.        , 0.        ,\n",
       "        0.        , 0.        , 0.        , 0.3020573 , 0.        ,\n",
       "        0.        , 0.        , 0.        , 0.        , 0.        ,\n",
       "        0.        , 0.        , 0.        , 0.        , 0.3020573 ,\n",
       "        0.        , 0.        , 0.        , 0.        , 0.        ,\n",
       "        0.        , 0.        , 0.        , 0.        , 0.3020573 ,\n",
       "        0.        , 0.        , 0.        , 0.        , 0.3020573 ,\n",
       "        0.        , 0.2567763 , 0.        , 0.        , 0.        ,\n",
       "        0.        , 0.        , 0.        , 0.        , 0.        ,\n",
       "        0.        , 0.        , 0.14724054, 0.        , 0.        ,\n",
       "        0.        , 0.        , 0.        , 0.        , 0.        ,\n",
       "        0.        , 0.        , 0.3020573 ]])"
      ]
     },
     "execution_count": 101,
     "metadata": {},
     "output_type": "execute_result"
    }
   ],
   "source": [
    "tf_idf.fit_transform(corpus).toarray()"
   ]
  },
  {
   "cell_type": "code",
   "execution_count": null,
   "id": "cee3f6bc",
   "metadata": {},
   "outputs": [],
   "source": []
  }
 ],
 "metadata": {
  "kernelspec": {
   "display_name": "Python 3",
   "language": "python",
   "name": "python3"
  },
  "language_info": {
   "codemirror_mode": {
    "name": "ipython",
    "version": 3
   },
   "file_extension": ".py",
   "mimetype": "text/x-python",
   "name": "python",
   "nbconvert_exporter": "python",
   "pygments_lexer": "ipython3",
   "version": "3.8.8"
  }
 },
 "nbformat": 4,
 "nbformat_minor": 5
}
