{
 "cells": [
  {
   "cell_type": "code",
   "execution_count": 7,
   "id": "e88e4c02",
   "metadata": {},
   "outputs": [],
   "source": [
    "#import statement\n",
    "import pandas as pd\n",
    "import numpy as np \n",
    "import matplotlib.pyplot as plt \n",
    "from scipy.linalg import eig \n",
    "from numpy.linalg import eig"
   ]
  },
  {
   "cell_type": "code",
   "execution_count": 8,
   "id": "2678fdbf",
   "metadata": {},
   "outputs": [],
   "source": [
    "# two dimension data\n",
    "data = np.array([[3,4],[2,8],[6,9],[10,12]])"
   ]
  },
  {
   "cell_type": "code",
   "execution_count": 9,
   "id": "1d7e9c1f",
   "metadata": {},
   "outputs": [
    {
     "name": "stdout",
     "output_type": "stream",
     "text": [
      "[[ 3  4]\n",
      " [ 2  8]\n",
      " [ 6  9]\n",
      " [10 12]]\n"
     ]
    }
   ],
   "source": [
    "print(data)"
   ]
  },
  {
   "cell_type": "code",
   "execution_count": 10,
   "id": "513c24f0",
   "metadata": {},
   "outputs": [],
   "source": [
    "# create dataframe \n",
    "df=pd.DataFrame(data,columns=[\"ML\",\"DL\"])"
   ]
  },
  {
   "cell_type": "code",
   "execution_count": 11,
   "id": "02e98ceb",
   "metadata": {},
   "outputs": [
    {
     "data": {
      "text/plain": [
       "<matplotlib.collections.PathCollection at 0x281c6341610>"
      ]
     },
     "execution_count": 11,
     "metadata": {},
     "output_type": "execute_result"
    },
    {
     "data": {
      "image/png": "[encoded data removed]",
      "text/plain": [
       "<Figure size 432x288 with 1 Axes>"
      ]
     },
     "metadata": {
      "needs_background": "light"
     },
     "output_type": "display_data"
    }
   ],
   "source": [
    "plt.scatter(df[\"ML\"],df[\"DL\"])"
   ]
  },
  {
   "cell_type": "code",
   "execution_count": 12,
   "id": "af3441a4",
   "metadata": {},
   "outputs": [
    {
     "ename": "SyntaxError",
     "evalue": "invalid syntax (<ipython-input-12-b67879645f0b>, line 2)",
     "output_type": "error",
     "traceback": [
      "\u001b[1;36m  File \u001b[1;32m\"<ipython-input-12-b67879645f0b>\"\u001b[1;36m, line \u001b[1;32m2\u001b[0m\n\u001b[1;33m    1. standarization of the data(ZERO centric data)\u001b[0m\n\u001b[1;37m       ^\u001b[0m\n\u001b[1;31mSyntaxError\u001b[0m\u001b[1;31m:\u001b[0m invalid syntax\n"
     ]
    }
   ],
   "source": [
    "#PCA steps\n",
    "1. standarization of the data(ZERO centric data)\n",
    "2. cov matrix\n",
    "3. eig value and eig vector\n",
    "4. find principle component"
   ]
  },
  {
   "cell_type": "code",
   "execution_count": 13,
   "id": "077d9b53",
   "metadata": {},
   "outputs": [
    {
     "data": {
      "text/plain": [
       "array([[ 3,  4],\n",
       "       [ 2,  8],\n",
       "       [ 6,  9],\n",
       "       [10, 12]])"
      ]
     },
     "execution_count": 13,
     "metadata": {},
     "output_type": "execute_result"
    }
   ],
   "source": [
    "data"
   ]
  },
  {
   "cell_type": "code",
   "execution_count": 14,
   "id": "4c5a4f2c",
   "metadata": {},
   "outputs": [
    {
     "data": {
      "text/plain": [
       "21"
      ]
     },
     "execution_count": 14,
     "metadata": {},
     "output_type": "execute_result"
    }
   ],
   "source": [
    "3+2+6+10"
   ]
  },
  {
   "cell_type": "code",
   "execution_count": 15,
   "id": "d5613252",
   "metadata": {},
   "outputs": [
    {
     "data": {
      "text/plain": [
       "5.25"
      ]
     },
     "execution_count": 15,
     "metadata": {},
     "output_type": "execute_result"
    }
   ],
   "source": [
    "21/4"
   ]
  },
  {
   "cell_type": "code",
   "execution_count": 16,
   "id": "4bbf613c",
   "metadata": {},
   "outputs": [
    {
     "data": {
      "text/plain": [
       "array([[ 3,  2,  6, 10],\n",
       "       [ 4,  8,  9, 12]])"
      ]
     },
     "execution_count": 16,
     "metadata": {},
     "output_type": "execute_result"
    }
   ],
   "source": [
    "data.T"
   ]
  },
  {
   "cell_type": "code",
   "execution_count": 17,
   "id": "9116faf8",
   "metadata": {},
   "outputs": [
    {
     "data": {
      "text/plain": [
       "array([5.25, 8.25])"
      ]
     },
     "execution_count": 17,
     "metadata": {},
     "output_type": "execute_result"
    }
   ],
   "source": [
    "np.mean(data.T, axis=1)"
   ]
  },
  {
   "cell_type": "code",
   "execution_count": 18,
   "id": "aec84a07",
   "metadata": {},
   "outputs": [],
   "source": [
    "meanbycol=np.mean(data, axis=0)"
   ]
  },
  {
   "cell_type": "code",
   "execution_count": 19,
   "id": "18ae6836",
   "metadata": {},
   "outputs": [
    {
     "data": {
      "text/plain": [
       "array([[-2.25, -4.25],\n",
       "       [-3.25, -0.25],\n",
       "       [ 0.75,  0.75],\n",
       "       [ 4.75,  3.75]])"
      ]
     },
     "execution_count": 19,
     "metadata": {},
     "output_type": "execute_result"
    }
   ],
   "source": [
    "data-meanbycol"
   ]
  },
  {
   "cell_type": "code",
   "execution_count": 20,
   "id": "2209d798",
   "metadata": {},
   "outputs": [
    {
     "data": {
      "text/plain": [
       "array([[ 3,  4],\n",
       "       [ 2,  8],\n",
       "       [ 6,  9],\n",
       "       [10, 12]])"
      ]
     },
     "execution_count": 20,
     "metadata": {},
     "output_type": "execute_result"
    }
   ],
   "source": [
    "data"
   ]
  },
  {
   "cell_type": "code",
   "execution_count": 21,
   "id": "97dbc73d",
   "metadata": {},
   "outputs": [
    {
     "name": "stdout",
     "output_type": "stream",
     "text": [
      "-2.25\n"
     ]
    }
   ],
   "source": [
    "print(3-5.25)"
   ]
  },
  {
   "cell_type": "code",
   "execution_count": 22,
   "id": "2d87a291",
   "metadata": {},
   "outputs": [],
   "source": [
    "scaled_data=data-meanbycol"
   ]
  },
  {
   "cell_type": "code",
   "execution_count": 23,
   "id": "dcd804d1",
   "metadata": {},
   "outputs": [
    {
     "data": {
      "text/plain": [
       "array([[-2.25, -4.25],\n",
       "       [-3.25, -0.25],\n",
       "       [ 0.75,  0.75],\n",
       "       [ 4.75,  3.75]])"
      ]
     },
     "execution_count": 23,
     "metadata": {},
     "output_type": "execute_result"
    }
   ],
   "source": [
    "scaled_data"
   ]
  },
  {
   "cell_type": "code",
   "execution_count": 24,
   "id": "92c8735d",
   "metadata": {},
   "outputs": [],
   "source": [
    "# step-2 cov matrix because we want relation between variable"
   ]
  },
  {
   "cell_type": "code",
   "execution_count": 25,
   "id": "cf397fb2",
   "metadata": {},
   "outputs": [],
   "source": [
    "cov_mat=np.cov(scaled_data.T)"
   ]
  },
  {
   "cell_type": "code",
   "execution_count": 26,
   "id": "18085e27",
   "metadata": {},
   "outputs": [],
   "source": [
    "# step-3 eign value and eign vector\n",
    "eig_val,eig_vec=np.linalg.eig(cov_mat)"
   ]
  },
  {
   "cell_type": "code",
   "execution_count": 27,
   "id": "3fa5cf21",
   "metadata": {},
   "outputs": [
    {
     "data": {
      "text/plain": [
       "array([[ 0.74289445, -0.66940857],\n",
       "       [ 0.66940857,  0.74289445]])"
      ]
     },
     "execution_count": 27,
     "metadata": {},
     "output_type": "execute_result"
    }
   ],
   "source": [
    "eig_vec"
   ]
  },
  {
   "cell_type": "code",
   "execution_count": 28,
   "id": "50ff2106",
   "metadata": {},
   "outputs": [
    {
     "data": {
      "text/plain": [
       "array([21.55203266,  2.28130068])"
      ]
     },
     "execution_count": 28,
     "metadata": {},
     "output_type": "execute_result"
    }
   ],
   "source": [
    "eig_val"
   ]
  },
  {
   "cell_type": "code",
   "execution_count": 29,
   "id": "5a1f106c",
   "metadata": {},
   "outputs": [
    {
     "data": {
      "text/plain": [
       "4"
      ]
     },
     "execution_count": 29,
     "metadata": {},
     "output_type": "execute_result"
    }
   ],
   "source": [
    "2*2"
   ]
  },
  {
   "cell_type": "code",
   "execution_count": 30,
   "id": "e90c3a99",
   "metadata": {},
   "outputs": [
    {
     "data": {
      "text/plain": [
       "array([[-2.25, -4.25],\n",
       "       [-3.25, -0.25],\n",
       "       [ 0.75,  0.75],\n",
       "       [ 4.75,  3.75]])"
      ]
     },
     "execution_count": 30,
     "metadata": {},
     "output_type": "execute_result"
    }
   ],
   "source": [
    "scaled_data"
   ]
  },
  {
   "cell_type": "code",
   "execution_count": 31,
   "id": "bf5186d4",
   "metadata": {},
   "outputs": [
    {
     "data": {
      "text/plain": [
       "array([[-4.51649894, -1.65113213],\n",
       "       [-2.58175911,  1.98985424],\n",
       "       [ 1.05922727,  0.05511441],\n",
       "       [ 6.03903078, -0.39383652]])"
      ]
     },
     "execution_count": 31,
     "metadata": {},
     "output_type": "execute_result"
    }
   ],
   "source": [
    "eig_vec.T.dot(scaled_data.T).T"
   ]
  },
  {
   "cell_type": "code",
   "execution_count": 32,
   "id": "9c339f8e",
   "metadata": {},
   "outputs": [],
   "source": [
    "from sklearn.decomposition import PCA\n",
    "pca=PCA()"
   ]
  },
  {
   "cell_type": "code",
   "execution_count": 33,
   "id": "99f7663d",
   "metadata": {},
   "outputs": [
    {
     "data": {
      "text/html": [
       "<div>\n",
       "<style scoped>\n",
       "    .dataframe tbody tr th:only-of-type {\n",
       "        vertical-align: middle;\n",
       "    }\n",
       "\n",
       "    .dataframe tbody tr th {\n",
       "        vertical-align: top;\n",
       "    }\n",
       "\n",
       "    .dataframe thead th {\n",
       "        text-align: right;\n",
       "    }\n",
       "</style>\n",
       "<table border=\"1\" class=\"dataframe\">\n",
       "  <thead>\n",
       "    <tr style=\"text-align: right;\">\n",
       "      <th></th>\n",
       "      <th>PC1</th>\n",
       "      <th>PC2</th>\n",
       "    </tr>\n",
       "  </thead>\n",
       "  <tbody>\n",
       "    <tr>\n",
       "      <th>0</th>\n",
       "      <td>-4.516499</td>\n",
       "      <td>-1.651132</td>\n",
       "    </tr>\n",
       "    <tr>\n",
       "      <th>1</th>\n",
       "      <td>-2.581759</td>\n",
       "      <td>1.989854</td>\n",
       "    </tr>\n",
       "    <tr>\n",
       "      <th>2</th>\n",
       "      <td>1.059227</td>\n",
       "      <td>0.055114</td>\n",
       "    </tr>\n",
       "    <tr>\n",
       "      <th>3</th>\n",
       "      <td>6.039031</td>\n",
       "      <td>-0.393837</td>\n",
       "    </tr>\n",
       "  </tbody>\n",
       "</table>\n",
       "</div>"
      ],
      "text/plain": [
       "        PC1       PC2\n",
       "0 -4.516499 -1.651132\n",
       "1 -2.581759  1.989854\n",
       "2  1.059227  0.055114\n",
       "3  6.039031 -0.393837"
      ]
     },
     "execution_count": 33,
     "metadata": {},
     "output_type": "execute_result"
    }
   ],
   "source": [
    "pd.DataFrame(data=pca.fit_transform(scaled_data),columns=[\"PC1\",\"PC2\"])"
   ]
  },
  {
   "cell_type": "code",
   "execution_count": 34,
   "id": "1ff6ec44",
   "metadata": {},
   "outputs": [
    {
     "data": {
      "text/plain": [
       "array([[-2.25, -4.25],\n",
       "       [-3.25, -0.25],\n",
       "       [ 0.75,  0.75],\n",
       "       [ 4.75,  3.75]])"
      ]
     },
     "execution_count": 34,
     "metadata": {},
     "output_type": "execute_result"
    }
   ],
   "source": [
    "pca.inverse_transform(pca.fit_transform(scaled_data))"
   ]
  },
  {
   "cell_type": "code",
   "execution_count": 35,
   "id": "1be1e69e",
   "metadata": {},
   "outputs": [
    {
     "data": {
      "text/plain": [
       "array([[-2.25, -4.25],\n",
       "       [-3.25, -0.25],\n",
       "       [ 0.75,  0.75],\n",
       "       [ 4.75,  3.75]])"
      ]
     },
     "execution_count": 35,
     "metadata": {},
     "output_type": "execute_result"
    }
   ],
   "source": [
    "scaled_data"
   ]
  },
  {
   "cell_type": "code",
   "execution_count": 36,
   "id": "b1bafa83",
   "metadata": {},
   "outputs": [
    {
     "data": {
      "text/plain": [
       "array([0.90428109, 0.09571891])"
      ]
     },
     "execution_count": 36,
     "metadata": {},
     "output_type": "execute_result"
    }
   ],
   "source": [
    "pca.explained_variance_ratio_"
   ]
  },
  {
   "cell_type": "code",
   "execution_count": 37,
   "id": "be8eabd4",
   "metadata": {},
   "outputs": [
    {
     "data": {
      "text/plain": [
       "1.0"
      ]
     },
     "execution_count": 37,
     "metadata": {},
     "output_type": "execute_result"
    }
   ],
   "source": [
    "0.90428109+0.09571891"
   ]
  },
  {
   "cell_type": "markdown",
   "id": "d17d376e",
   "metadata": {},
   "source": [
    "\"\"model for machine learning\n",
    "\n",
    "there is two col \n",
    "\n",
    "i have to choose one col \n",
    "\n",
    "pc1 or pc2\n",
    "\n",
    "pc1=representing more variation\"\""
   ]
  },
  {
   "cell_type": "code",
   "execution_count": 38,
   "id": "46f0f929",
   "metadata": {},
   "outputs": [],
   "source": [
    "new_data=pd.read_csv(\"glass.data\")"
   ]
  },
  {
   "cell_type": "code",
   "execution_count": 39,
   "id": "2f4f5ad3",
   "metadata": {},
   "outputs": [
    {
     "data": {
      "text/html": [
       "<div>\n",
       "<style scoped>\n",
       "    .dataframe tbody tr th:only-of-type {\n",
       "        vertical-align: middle;\n",
       "    }\n",
       "\n",
       "    .dataframe tbody tr th {\n",
       "        vertical-align: top;\n",
       "    }\n",
       "\n",
       "    .dataframe thead th {\n",
       "        text-align: right;\n",
       "    }\n",
       "</style>\n",
       "<table border=\"1\" class=\"dataframe\">\n",
       "  <thead>\n",
       "    <tr style=\"text-align: right;\">\n",
       "      <th></th>\n",
       "      <th>1</th>\n",
       "      <th>1.52101</th>\n",
       "      <th>13.64</th>\n",
       "      <th>4.49</th>\n",
       "      <th>1.10</th>\n",
       "      <th>71.78</th>\n",
       "      <th>0.06</th>\n",
       "      <th>8.75</th>\n",
       "      <th>0.00</th>\n",
       "      <th>0.00.1</th>\n",
       "      <th>1.1</th>\n",
       "    </tr>\n",
       "  </thead>\n",
       "  <tbody>\n",
       "    <tr>\n",
       "      <th>0</th>\n",
       "      <td>2</td>\n",
       "      <td>1.51761</td>\n",
       "      <td>13.89</td>\n",
       "      <td>3.60</td>\n",
       "      <td>1.36</td>\n",
       "      <td>72.73</td>\n",
       "      <td>0.48</td>\n",
       "      <td>7.83</td>\n",
       "      <td>0.0</td>\n",
       "      <td>0.00</td>\n",
       "      <td>1</td>\n",
       "    </tr>\n",
       "    <tr>\n",
       "      <th>1</th>\n",
       "      <td>3</td>\n",
       "      <td>1.51618</td>\n",
       "      <td>13.53</td>\n",
       "      <td>3.55</td>\n",
       "      <td>1.54</td>\n",
       "      <td>72.99</td>\n",
       "      <td>0.39</td>\n",
       "      <td>7.78</td>\n",
       "      <td>0.0</td>\n",
       "      <td>0.00</td>\n",
       "      <td>1</td>\n",
       "    </tr>\n",
       "    <tr>\n",
       "      <th>2</th>\n",
       "      <td>4</td>\n",
       "      <td>1.51766</td>\n",
       "      <td>13.21</td>\n",
       "      <td>3.69</td>\n",
       "      <td>1.29</td>\n",
       "      <td>72.61</td>\n",
       "      <td>0.57</td>\n",
       "      <td>8.22</td>\n",
       "      <td>0.0</td>\n",
       "      <td>0.00</td>\n",
       "      <td>1</td>\n",
       "    </tr>\n",
       "    <tr>\n",
       "      <th>3</th>\n",
       "      <td>5</td>\n",
       "      <td>1.51742</td>\n",
       "      <td>13.27</td>\n",
       "      <td>3.62</td>\n",
       "      <td>1.24</td>\n",
       "      <td>73.08</td>\n",
       "      <td>0.55</td>\n",
       "      <td>8.07</td>\n",
       "      <td>0.0</td>\n",
       "      <td>0.00</td>\n",
       "      <td>1</td>\n",
       "    </tr>\n",
       "    <tr>\n",
       "      <th>4</th>\n",
       "      <td>6</td>\n",
       "      <td>1.51596</td>\n",
       "      <td>12.79</td>\n",
       "      <td>3.61</td>\n",
       "      <td>1.62</td>\n",
       "      <td>72.97</td>\n",
       "      <td>0.64</td>\n",
       "      <td>8.07</td>\n",
       "      <td>0.0</td>\n",
       "      <td>0.26</td>\n",
       "      <td>1</td>\n",
       "    </tr>\n",
       "  </tbody>\n",
       "</table>\n",
       "</div>"
      ],
      "text/plain": [
       "   1  1.52101  13.64  4.49  1.10  71.78  0.06  8.75  0.00  0.00.1  1.1\n",
       "0  2  1.51761  13.89  3.60  1.36  72.73  0.48  7.83   0.0    0.00    1\n",
       "1  3  1.51618  13.53  3.55  1.54  72.99  0.39  7.78   0.0    0.00    1\n",
       "2  4  1.51766  13.21  3.69  1.29  72.61  0.57  8.22   0.0    0.00    1\n",
       "3  5  1.51742  13.27  3.62  1.24  73.08  0.55  8.07   0.0    0.00    1\n",
       "4  6  1.51596  12.79  3.61  1.62  72.97  0.64  8.07   0.0    0.26    1"
      ]
     },
     "execution_count": 39,
     "metadata": {},
     "output_type": "execute_result"
    }
   ],
   "source": [
    "new_data.head()"
   ]
  },
  {
   "cell_type": "code",
   "execution_count": 40,
   "id": "f0145242",
   "metadata": {},
   "outputs": [],
   "source": [
    "column_names = ['Index', 'RI', 'Na', 'Mg', 'Al', 'Si', 'K', 'Ca', 'Ba', 'Fe', 'Class']\n",
    "new_data.columns = column_names\n"
   ]
  },
  {
   "cell_type": "code",
   "execution_count": 41,
   "id": "a9cbb04e",
   "metadata": {},
   "outputs": [
    {
     "data": {
      "text/html": [
       "<div>\n",
       "<style scoped>\n",
       "    .dataframe tbody tr th:only-of-type {\n",
       "        vertical-align: middle;\n",
       "    }\n",
       "\n",
       "    .dataframe tbody tr th {\n",
       "        vertical-align: top;\n",
       "    }\n",
       "\n",
       "    .dataframe thead th {\n",
       "        text-align: right;\n",
       "    }\n",
       "</style>\n",
       "<table border=\"1\" class=\"dataframe\">\n",
       "  <thead>\n",
       "    <tr style=\"text-align: right;\">\n",
       "      <th></th>\n",
       "      <th>Index</th>\n",
       "      <th>RI</th>\n",
       "      <th>Na</th>\n",
       "      <th>Mg</th>\n",
       "      <th>Al</th>\n",
       "      <th>Si</th>\n",
       "      <th>K</th>\n",
       "      <th>Ca</th>\n",
       "      <th>Ba</th>\n",
       "      <th>Fe</th>\n",
       "      <th>Class</th>\n",
       "    </tr>\n",
       "  </thead>\n",
       "  <tbody>\n",
       "    <tr>\n",
       "      <th>0</th>\n",
       "      <td>2</td>\n",
       "      <td>1.51761</td>\n",
       "      <td>13.89</td>\n",
       "      <td>3.60</td>\n",
       "      <td>1.36</td>\n",
       "      <td>72.73</td>\n",
       "      <td>0.48</td>\n",
       "      <td>7.83</td>\n",
       "      <td>0.0</td>\n",
       "      <td>0.00</td>\n",
       "      <td>1</td>\n",
       "    </tr>\n",
       "    <tr>\n",
       "      <th>1</th>\n",
       "      <td>3</td>\n",
       "      <td>1.51618</td>\n",
       "      <td>13.53</td>\n",
       "      <td>3.55</td>\n",
       "      <td>1.54</td>\n",
       "      <td>72.99</td>\n",
       "      <td>0.39</td>\n",
       "      <td>7.78</td>\n",
       "      <td>0.0</td>\n",
       "      <td>0.00</td>\n",
       "      <td>1</td>\n",
       "    </tr>\n",
       "    <tr>\n",
       "      <th>2</th>\n",
       "      <td>4</td>\n",
       "      <td>1.51766</td>\n",
       "      <td>13.21</td>\n",
       "      <td>3.69</td>\n",
       "      <td>1.29</td>\n",
       "      <td>72.61</td>\n",
       "      <td>0.57</td>\n",
       "      <td>8.22</td>\n",
       "      <td>0.0</td>\n",
       "      <td>0.00</td>\n",
       "      <td>1</td>\n",
       "    </tr>\n",
       "    <tr>\n",
       "      <th>3</th>\n",
       "      <td>5</td>\n",
       "      <td>1.51742</td>\n",
       "      <td>13.27</td>\n",
       "      <td>3.62</td>\n",
       "      <td>1.24</td>\n",
       "      <td>73.08</td>\n",
       "      <td>0.55</td>\n",
       "      <td>8.07</td>\n",
       "      <td>0.0</td>\n",
       "      <td>0.00</td>\n",
       "      <td>1</td>\n",
       "    </tr>\n",
       "    <tr>\n",
       "      <th>4</th>\n",
       "      <td>6</td>\n",
       "      <td>1.51596</td>\n",
       "      <td>12.79</td>\n",
       "      <td>3.61</td>\n",
       "      <td>1.62</td>\n",
       "      <td>72.97</td>\n",
       "      <td>0.64</td>\n",
       "      <td>8.07</td>\n",
       "      <td>0.0</td>\n",
       "      <td>0.26</td>\n",
       "      <td>1</td>\n",
       "    </tr>\n",
       "  </tbody>\n",
       "</table>\n",
       "</div>"
      ],
      "text/plain": [
       "   Index       RI     Na    Mg    Al     Si     K    Ca   Ba    Fe  Class\n",
       "0      2  1.51761  13.89  3.60  1.36  72.73  0.48  7.83  0.0  0.00      1\n",
       "1      3  1.51618  13.53  3.55  1.54  72.99  0.39  7.78  0.0  0.00      1\n",
       "2      4  1.51766  13.21  3.69  1.29  72.61  0.57  8.22  0.0  0.00      1\n",
       "3      5  1.51742  13.27  3.62  1.24  73.08  0.55  8.07  0.0  0.00      1\n",
       "4      6  1.51596  12.79  3.61  1.62  72.97  0.64  8.07  0.0  0.26      1"
      ]
     },
     "execution_count": 41,
     "metadata": {},
     "output_type": "execute_result"
    }
   ],
   "source": [
    "new_data.head()"
   ]
  },
  {
   "cell_type": "code",
   "execution_count": 42,
   "id": "25b88a4e",
   "metadata": {},
   "outputs": [],
   "source": [
    "new_df=new_data.drop(labels=['Index','Class'],axis=1)"
   ]
  },
  {
   "cell_type": "code",
   "execution_count": 43,
   "id": "b2af2904",
   "metadata": {},
   "outputs": [
    {
     "data": {
      "text/html": [
       "<div>\n",
       "<style scoped>\n",
       "    .dataframe tbody tr th:only-of-type {\n",
       "        vertical-align: middle;\n",
       "    }\n",
       "\n",
       "    .dataframe tbody tr th {\n",
       "        vertical-align: top;\n",
       "    }\n",
       "\n",
       "    .dataframe thead th {\n",
       "        text-align: right;\n",
       "    }\n",
       "</style>\n",
       "<table border=\"1\" class=\"dataframe\">\n",
       "  <thead>\n",
       "    <tr style=\"text-align: right;\">\n",
       "      <th></th>\n",
       "      <th>RI</th>\n",
       "      <th>Na</th>\n",
       "      <th>Mg</th>\n",
       "      <th>Al</th>\n",
       "      <th>Si</th>\n",
       "      <th>K</th>\n",
       "      <th>Ca</th>\n",
       "      <th>Ba</th>\n",
       "      <th>Fe</th>\n",
       "    </tr>\n",
       "  </thead>\n",
       "  <tbody>\n",
       "    <tr>\n",
       "      <th>0</th>\n",
       "      <td>1.51761</td>\n",
       "      <td>13.89</td>\n",
       "      <td>3.60</td>\n",
       "      <td>1.36</td>\n",
       "      <td>72.73</td>\n",
       "      <td>0.48</td>\n",
       "      <td>7.83</td>\n",
       "      <td>0.0</td>\n",
       "      <td>0.00</td>\n",
       "    </tr>\n",
       "    <tr>\n",
       "      <th>1</th>\n",
       "      <td>1.51618</td>\n",
       "      <td>13.53</td>\n",
       "      <td>3.55</td>\n",
       "      <td>1.54</td>\n",
       "      <td>72.99</td>\n",
       "      <td>0.39</td>\n",
       "      <td>7.78</td>\n",
       "      <td>0.0</td>\n",
       "      <td>0.00</td>\n",
       "    </tr>\n",
       "    <tr>\n",
       "      <th>2</th>\n",
       "      <td>1.51766</td>\n",
       "      <td>13.21</td>\n",
       "      <td>3.69</td>\n",
       "      <td>1.29</td>\n",
       "      <td>72.61</td>\n",
       "      <td>0.57</td>\n",
       "      <td>8.22</td>\n",
       "      <td>0.0</td>\n",
       "      <td>0.00</td>\n",
       "    </tr>\n",
       "    <tr>\n",
       "      <th>3</th>\n",
       "      <td>1.51742</td>\n",
       "      <td>13.27</td>\n",
       "      <td>3.62</td>\n",
       "      <td>1.24</td>\n",
       "      <td>73.08</td>\n",
       "      <td>0.55</td>\n",
       "      <td>8.07</td>\n",
       "      <td>0.0</td>\n",
       "      <td>0.00</td>\n",
       "    </tr>\n",
       "    <tr>\n",
       "      <th>4</th>\n",
       "      <td>1.51596</td>\n",
       "      <td>12.79</td>\n",
       "      <td>3.61</td>\n",
       "      <td>1.62</td>\n",
       "      <td>72.97</td>\n",
       "      <td>0.64</td>\n",
       "      <td>8.07</td>\n",
       "      <td>0.0</td>\n",
       "      <td>0.26</td>\n",
       "    </tr>\n",
       "  </tbody>\n",
       "</table>\n",
       "</div>"
      ],
      "text/plain": [
       "        RI     Na    Mg    Al     Si     K    Ca   Ba    Fe\n",
       "0  1.51761  13.89  3.60  1.36  72.73  0.48  7.83  0.0  0.00\n",
       "1  1.51618  13.53  3.55  1.54  72.99  0.39  7.78  0.0  0.00\n",
       "2  1.51766  13.21  3.69  1.29  72.61  0.57  8.22  0.0  0.00\n",
       "3  1.51742  13.27  3.62  1.24  73.08  0.55  8.07  0.0  0.00\n",
       "4  1.51596  12.79  3.61  1.62  72.97  0.64  8.07  0.0  0.26"
      ]
     },
     "execution_count": 43,
     "metadata": {},
     "output_type": "execute_result"
    }
   ],
   "source": [
    "new_df.head()"
   ]
  },
  {
   "cell_type": "code",
   "execution_count": 44,
   "id": "155cb982",
   "metadata": {},
   "outputs": [
    {
     "data": {
      "text/plain": [
       "RI    0\n",
       "Na    0\n",
       "Mg    0\n",
       "Al    0\n",
       "Si    0\n",
       "K     0\n",
       "Ca    0\n",
       "Ba    0\n",
       "Fe    0\n",
       "dtype: int64"
      ]
     },
     "execution_count": 44,
     "metadata": {},
     "output_type": "execute_result"
    }
   ],
   "source": [
    "new_df.isnull().sum()"
   ]
  },
  {
   "cell_type": "code",
   "execution_count": 45,
   "id": "12b29d6c",
   "metadata": {},
   "outputs": [
    {
     "data": {
      "text/html": [
       "<div>\n",
       "<style scoped>\n",
       "    .dataframe tbody tr th:only-of-type {\n",
       "        vertical-align: middle;\n",
       "    }\n",
       "\n",
       "    .dataframe tbody tr th {\n",
       "        vertical-align: top;\n",
       "    }\n",
       "\n",
       "    .dataframe thead th {\n",
       "        text-align: right;\n",
       "    }\n",
       "</style>\n",
       "<table border=\"1\" class=\"dataframe\">\n",
       "  <thead>\n",
       "    <tr style=\"text-align: right;\">\n",
       "      <th></th>\n",
       "      <th>count</th>\n",
       "      <th>mean</th>\n",
       "      <th>std</th>\n",
       "      <th>min</th>\n",
       "      <th>25%</th>\n",
       "      <th>50%</th>\n",
       "      <th>75%</th>\n",
       "      <th>max</th>\n",
       "    </tr>\n",
       "  </thead>\n",
       "  <tbody>\n",
       "    <tr>\n",
       "      <th>RI</th>\n",
       "      <td>213.0</td>\n",
       "      <td>1.518353</td>\n",
       "      <td>0.003039</td>\n",
       "      <td>1.51115</td>\n",
       "      <td>1.51652</td>\n",
       "      <td>1.51768</td>\n",
       "      <td>1.51915</td>\n",
       "      <td>1.53393</td>\n",
       "    </tr>\n",
       "    <tr>\n",
       "      <th>Na</th>\n",
       "      <td>213.0</td>\n",
       "      <td>13.406761</td>\n",
       "      <td>0.818371</td>\n",
       "      <td>10.73000</td>\n",
       "      <td>12.90000</td>\n",
       "      <td>13.30000</td>\n",
       "      <td>13.83000</td>\n",
       "      <td>17.38000</td>\n",
       "    </tr>\n",
       "    <tr>\n",
       "      <th>Mg</th>\n",
       "      <td>213.0</td>\n",
       "      <td>2.676056</td>\n",
       "      <td>1.440453</td>\n",
       "      <td>0.00000</td>\n",
       "      <td>2.09000</td>\n",
       "      <td>3.48000</td>\n",
       "      <td>3.60000</td>\n",
       "      <td>3.98000</td>\n",
       "    </tr>\n",
       "    <tr>\n",
       "      <th>Al</th>\n",
       "      <td>213.0</td>\n",
       "      <td>1.446526</td>\n",
       "      <td>0.499882</td>\n",
       "      <td>0.29000</td>\n",
       "      <td>1.19000</td>\n",
       "      <td>1.36000</td>\n",
       "      <td>1.63000</td>\n",
       "      <td>3.50000</td>\n",
       "    </tr>\n",
       "    <tr>\n",
       "      <th>Si</th>\n",
       "      <td>213.0</td>\n",
       "      <td>72.655023</td>\n",
       "      <td>0.774052</td>\n",
       "      <td>69.81000</td>\n",
       "      <td>72.28000</td>\n",
       "      <td>72.79000</td>\n",
       "      <td>73.09000</td>\n",
       "      <td>75.41000</td>\n",
       "    </tr>\n",
       "    <tr>\n",
       "      <th>K</th>\n",
       "      <td>213.0</td>\n",
       "      <td>0.499108</td>\n",
       "      <td>0.653035</td>\n",
       "      <td>0.00000</td>\n",
       "      <td>0.13000</td>\n",
       "      <td>0.56000</td>\n",
       "      <td>0.61000</td>\n",
       "      <td>6.21000</td>\n",
       "    </tr>\n",
       "    <tr>\n",
       "      <th>Ca</th>\n",
       "      <td>213.0</td>\n",
       "      <td>8.957934</td>\n",
       "      <td>1.426435</td>\n",
       "      <td>5.43000</td>\n",
       "      <td>8.24000</td>\n",
       "      <td>8.60000</td>\n",
       "      <td>9.18000</td>\n",
       "      <td>16.19000</td>\n",
       "    </tr>\n",
       "    <tr>\n",
       "      <th>Ba</th>\n",
       "      <td>213.0</td>\n",
       "      <td>0.175869</td>\n",
       "      <td>0.498245</td>\n",
       "      <td>0.00000</td>\n",
       "      <td>0.00000</td>\n",
       "      <td>0.00000</td>\n",
       "      <td>0.00000</td>\n",
       "      <td>3.15000</td>\n",
       "    </tr>\n",
       "    <tr>\n",
       "      <th>Fe</th>\n",
       "      <td>213.0</td>\n",
       "      <td>0.057277</td>\n",
       "      <td>0.097589</td>\n",
       "      <td>0.00000</td>\n",
       "      <td>0.00000</td>\n",
       "      <td>0.00000</td>\n",
       "      <td>0.10000</td>\n",
       "      <td>0.51000</td>\n",
       "    </tr>\n",
       "  </tbody>\n",
       "</table>\n",
       "</div>"
      ],
      "text/plain": [
       "    count       mean       std       min       25%       50%       75%  \\\n",
       "RI  213.0   1.518353  0.003039   1.51115   1.51652   1.51768   1.51915   \n",
       "Na  213.0  13.406761  0.818371  10.73000  12.90000  13.30000  13.83000   \n",
       "Mg  213.0   2.676056  1.440453   0.00000   2.09000   3.48000   3.60000   \n",
       "Al  213.0   1.446526  0.499882   0.29000   1.19000   1.36000   1.63000   \n",
       "Si  213.0  72.655023  0.774052  69.81000  72.28000  72.79000  73.09000   \n",
       "K   213.0   0.499108  0.653035   0.00000   0.13000   0.56000   0.61000   \n",
       "Ca  213.0   8.957934  1.426435   5.43000   8.24000   8.60000   9.18000   \n",
       "Ba  213.0   0.175869  0.498245   0.00000   0.00000   0.00000   0.00000   \n",
       "Fe  213.0   0.057277  0.097589   0.00000   0.00000   0.00000   0.10000   \n",
       "\n",
       "         max  \n",
       "RI   1.53393  \n",
       "Na  17.38000  \n",
       "Mg   3.98000  \n",
       "Al   3.50000  \n",
       "Si  75.41000  \n",
       "K    6.21000  \n",
       "Ca  16.19000  \n",
       "Ba   3.15000  \n",
       "Fe   0.51000  "
      ]
     },
     "execution_count": 45,
     "metadata": {},
     "output_type": "execute_result"
    }
   ],
   "source": [
    "new_df.describe().T"
   ]
  },
  {
   "cell_type": "code",
   "execution_count": 46,
   "id": "9f2f8dae",
   "metadata": {},
   "outputs": [],
   "source": [
    "#PCA \n",
    "#step-1 standarization of data \n",
    "from sklearn.preprocessing import StandardScaler\n",
    "scaler=StandardScaler()"
   ]
  },
  {
   "cell_type": "code",
   "execution_count": 47,
   "id": "bf3fe809",
   "metadata": {},
   "outputs": [],
   "source": [
    "scale_data=scaler.fit_transform(new_df)"
   ]
  },
  {
   "cell_type": "code",
   "execution_count": 48,
   "id": "354d32a1",
   "metadata": {},
   "outputs": [],
   "source": [
    "scaled_df=pd.DataFrame(data=scale_data,columns=new_df.columns)"
   ]
  },
  {
   "cell_type": "code",
   "execution_count": 49,
   "id": "379d5e4e",
   "metadata": {},
   "outputs": [
    {
     "data": {
      "text/plain": [
       "array([[-0.2451006 ,  0.59188032,  0.64293659, ..., -0.79259935,\n",
       "        -0.35380764, -0.58830108],\n",
       "       [-0.71682556,  0.15094587,  0.60814353, ..., -0.82773435,\n",
       "        -0.35380764, -0.58830108],\n",
       "       [-0.22860672, -0.24099586,  0.7055641 , ..., -0.51854637,\n",
       "        -0.35380764, -0.58830108],\n",
       "       ...,\n",
       "       [ 0.75772729,  1.16754474, -1.8621639 , ..., -0.36395239,\n",
       "         2.94550057, -0.58830108],\n",
       "       [-0.60796596,  1.19204109, -1.8621639 , ..., -0.33584439,\n",
       "         2.80467644, -0.58830108],\n",
       "       [-0.4100394 ,  1.00831841, -1.8621639 , ..., -0.2374664 ,\n",
       "         3.00585377, -0.58830108]])"
      ]
     },
     "execution_count": 49,
     "metadata": {},
     "output_type": "execute_result"
    }
   ],
   "source": [
    "scale_data"
   ]
  },
  {
   "cell_type": "code",
   "execution_count": 50,
   "id": "565a7a7c",
   "metadata": {},
   "outputs": [],
   "source": [
    "scaled_df=pd.DataFrame(data=scale_data,columns=new_df.columns)"
   ]
  },
  {
   "cell_type": "code",
   "execution_count": 51,
   "id": "e300f5b1",
   "metadata": {},
   "outputs": [
    {
     "data": {
      "text/html": [
       "<div>\n",
       "<style scoped>\n",
       "    .dataframe tbody tr th:only-of-type {\n",
       "        vertical-align: middle;\n",
       "    }\n",
       "\n",
       "    .dataframe tbody tr th {\n",
       "        vertical-align: top;\n",
       "    }\n",
       "\n",
       "    .dataframe thead th {\n",
       "        text-align: right;\n",
       "    }\n",
       "</style>\n",
       "<table border=\"1\" class=\"dataframe\">\n",
       "  <thead>\n",
       "    <tr style=\"text-align: right;\">\n",
       "      <th></th>\n",
       "      <th>RI</th>\n",
       "      <th>Na</th>\n",
       "      <th>Mg</th>\n",
       "      <th>Al</th>\n",
       "      <th>Si</th>\n",
       "      <th>K</th>\n",
       "      <th>Ca</th>\n",
       "      <th>Ba</th>\n",
       "      <th>Fe</th>\n",
       "    </tr>\n",
       "  </thead>\n",
       "  <tbody>\n",
       "    <tr>\n",
       "      <th>0</th>\n",
       "      <td>-0.245101</td>\n",
       "      <td>0.591880</td>\n",
       "      <td>0.642937</td>\n",
       "      <td>-0.173500</td>\n",
       "      <td>0.097091</td>\n",
       "      <td>-0.029329</td>\n",
       "      <td>-0.792599</td>\n",
       "      <td>-0.353808</td>\n",
       "      <td>-0.588301</td>\n",
       "    </tr>\n",
       "    <tr>\n",
       "      <th>1</th>\n",
       "      <td>-0.716826</td>\n",
       "      <td>0.150946</td>\n",
       "      <td>0.608144</td>\n",
       "      <td>0.187433</td>\n",
       "      <td>0.433777</td>\n",
       "      <td>-0.167472</td>\n",
       "      <td>-0.827734</td>\n",
       "      <td>-0.353808</td>\n",
       "      <td>-0.588301</td>\n",
       "    </tr>\n",
       "    <tr>\n",
       "      <th>2</th>\n",
       "      <td>-0.228607</td>\n",
       "      <td>-0.240996</td>\n",
       "      <td>0.705564</td>\n",
       "      <td>-0.313863</td>\n",
       "      <td>-0.058303</td>\n",
       "      <td>0.108813</td>\n",
       "      <td>-0.518546</td>\n",
       "      <td>-0.353808</td>\n",
       "      <td>-0.588301</td>\n",
       "    </tr>\n",
       "    <tr>\n",
       "      <th>3</th>\n",
       "      <td>-0.307777</td>\n",
       "      <td>-0.167507</td>\n",
       "      <td>0.656854</td>\n",
       "      <td>-0.414122</td>\n",
       "      <td>0.550322</td>\n",
       "      <td>0.078115</td>\n",
       "      <td>-0.623951</td>\n",
       "      <td>-0.353808</td>\n",
       "      <td>-0.588301</td>\n",
       "    </tr>\n",
       "    <tr>\n",
       "      <th>4</th>\n",
       "      <td>-0.789399</td>\n",
       "      <td>-0.755419</td>\n",
       "      <td>0.649895</td>\n",
       "      <td>0.347848</td>\n",
       "      <td>0.407878</td>\n",
       "      <td>0.216258</td>\n",
       "      <td>-0.623951</td>\n",
       "      <td>-0.353808</td>\n",
       "      <td>2.082200</td>\n",
       "    </tr>\n",
       "  </tbody>\n",
       "</table>\n",
       "</div>"
      ],
      "text/plain": [
       "         RI        Na        Mg        Al        Si         K        Ca  \\\n",
       "0 -0.245101  0.591880  0.642937 -0.173500  0.097091 -0.029329 -0.792599   \n",
       "1 -0.716826  0.150946  0.608144  0.187433  0.433777 -0.167472 -0.827734   \n",
       "2 -0.228607 -0.240996  0.705564 -0.313863 -0.058303  0.108813 -0.518546   \n",
       "3 -0.307777 -0.167507  0.656854 -0.414122  0.550322  0.078115 -0.623951   \n",
       "4 -0.789399 -0.755419  0.649895  0.347848  0.407878  0.216258 -0.623951   \n",
       "\n",
       "         Ba        Fe  \n",
       "0 -0.353808 -0.588301  \n",
       "1 -0.353808 -0.588301  \n",
       "2 -0.353808 -0.588301  \n",
       "3 -0.353808 -0.588301  \n",
       "4 -0.353808  2.082200  "
      ]
     },
     "execution_count": 51,
     "metadata": {},
     "output_type": "execute_result"
    }
   ],
   "source": [
    "scaled_df.head()"
   ]
  },
  {
   "cell_type": "code",
   "execution_count": 52,
   "id": "d5955489",
   "metadata": {},
   "outputs": [
    {
     "data": {
      "text/html": [
       "<div>\n",
       "<style scoped>\n",
       "    .dataframe tbody tr th:only-of-type {\n",
       "        vertical-align: middle;\n",
       "    }\n",
       "\n",
       "    .dataframe tbody tr th {\n",
       "        vertical-align: top;\n",
       "    }\n",
       "\n",
       "    .dataframe thead th {\n",
       "        text-align: right;\n",
       "    }\n",
       "</style>\n",
       "<table border=\"1\" class=\"dataframe\">\n",
       "  <thead>\n",
       "    <tr style=\"text-align: right;\">\n",
       "      <th></th>\n",
       "      <th>count</th>\n",
       "      <th>mean</th>\n",
       "      <th>std</th>\n",
       "      <th>min</th>\n",
       "      <th>25%</th>\n",
       "      <th>50%</th>\n",
       "      <th>75%</th>\n",
       "      <th>max</th>\n",
       "    </tr>\n",
       "  </thead>\n",
       "  <tbody>\n",
       "    <tr>\n",
       "      <th>RI</th>\n",
       "      <td>213.0</td>\n",
       "      <td>-5.837792e-15</td>\n",
       "      <td>1.002356</td>\n",
       "      <td>-2.376110</td>\n",
       "      <td>-0.604667</td>\n",
       "      <td>-0.222009</td>\n",
       "      <td>0.262911</td>\n",
       "      <td>5.138502</td>\n",
       "    </tr>\n",
       "    <tr>\n",
       "      <th>Na</th>\n",
       "      <td>213.0</td>\n",
       "      <td>-1.717979e-15</td>\n",
       "      <td>1.002356</td>\n",
       "      <td>-3.278544</td>\n",
       "      <td>-0.620689</td>\n",
       "      <td>-0.130762</td>\n",
       "      <td>0.518391</td>\n",
       "      <td>4.866495</td>\n",
       "    </tr>\n",
       "    <tr>\n",
       "      <th>Mg</th>\n",
       "      <td>213.0</td>\n",
       "      <td>6.671763e-17</td>\n",
       "      <td>1.002356</td>\n",
       "      <td>-1.862164</td>\n",
       "      <td>-0.407814</td>\n",
       "      <td>0.559433</td>\n",
       "      <td>0.642937</td>\n",
       "      <td>0.907364</td>\n",
       "    </tr>\n",
       "    <tr>\n",
       "      <th>Al</th>\n",
       "      <td>213.0</td>\n",
       "      <td>-1.000764e-16</td>\n",
       "      <td>1.002356</td>\n",
       "      <td>-2.319047</td>\n",
       "      <td>-0.514381</td>\n",
       "      <td>-0.173500</td>\n",
       "      <td>0.367899</td>\n",
       "      <td>4.117593</td>\n",
       "    </tr>\n",
       "    <tr>\n",
       "      <th>Si</th>\n",
       "      <td>213.0</td>\n",
       "      <td>1.460491e-14</td>\n",
       "      <td>1.002356</td>\n",
       "      <td>-3.684153</td>\n",
       "      <td>-0.485635</td>\n",
       "      <td>0.174787</td>\n",
       "      <td>0.563271</td>\n",
       "      <td>3.567547</td>\n",
       "    </tr>\n",
       "    <tr>\n",
       "      <th>K</th>\n",
       "      <td>213.0</td>\n",
       "      <td>-4.169852e-17</td>\n",
       "      <td>1.002356</td>\n",
       "      <td>-0.766090</td>\n",
       "      <td>-0.566550</td>\n",
       "      <td>0.093464</td>\n",
       "      <td>0.170210</td>\n",
       "      <td>8.765749</td>\n",
       "    </tr>\n",
       "    <tr>\n",
       "      <th>Ca</th>\n",
       "      <td>213.0</td>\n",
       "      <td>-3.836264e-16</td>\n",
       "      <td>1.002356</td>\n",
       "      <td>-2.479079</td>\n",
       "      <td>-0.504492</td>\n",
       "      <td>-0.251520</td>\n",
       "      <td>0.156046</td>\n",
       "      <td>5.081972</td>\n",
       "    </tr>\n",
       "    <tr>\n",
       "      <th>Ba</th>\n",
       "      <td>213.0</td>\n",
       "      <td>-3.335881e-17</td>\n",
       "      <td>1.002356</td>\n",
       "      <td>-0.353808</td>\n",
       "      <td>-0.353808</td>\n",
       "      <td>-0.353808</td>\n",
       "      <td>-0.353808</td>\n",
       "      <td>5.983278</td>\n",
       "    </tr>\n",
       "    <tr>\n",
       "      <th>Fe</th>\n",
       "      <td>213.0</td>\n",
       "      <td>-1.355202e-17</td>\n",
       "      <td>1.002356</td>\n",
       "      <td>-0.588301</td>\n",
       "      <td>-0.588301</td>\n",
       "      <td>-0.588301</td>\n",
       "      <td>0.438815</td>\n",
       "      <td>4.649990</td>\n",
       "    </tr>\n",
       "  </tbody>\n",
       "</table>\n",
       "</div>"
      ],
      "text/plain": [
       "    count          mean       std       min       25%       50%       75%  \\\n",
       "RI  213.0 -5.837792e-15  1.002356 -2.376110 -0.604667 -0.222009  0.262911   \n",
       "Na  213.0 -1.717979e-15  1.002356 -3.278544 -0.620689 -0.130762  0.518391   \n",
       "Mg  213.0  6.671763e-17  1.002356 -1.862164 -0.407814  0.559433  0.642937   \n",
       "Al  213.0 -1.000764e-16  1.002356 -2.319047 -0.514381 -0.173500  0.367899   \n",
       "Si  213.0  1.460491e-14  1.002356 -3.684153 -0.485635  0.174787  0.563271   \n",
       "K   213.0 -4.169852e-17  1.002356 -0.766090 -0.566550  0.093464  0.170210   \n",
       "Ca  213.0 -3.836264e-16  1.002356 -2.479079 -0.504492 -0.251520  0.156046   \n",
       "Ba  213.0 -3.335881e-17  1.002356 -0.353808 -0.353808 -0.353808 -0.353808   \n",
       "Fe  213.0 -1.355202e-17  1.002356 -0.588301 -0.588301 -0.588301  0.438815   \n",
       "\n",
       "         max  \n",
       "RI  5.138502  \n",
       "Na  4.866495  \n",
       "Mg  0.907364  \n",
       "Al  4.117593  \n",
       "Si  3.567547  \n",
       "K   8.765749  \n",
       "Ca  5.081972  \n",
       "Ba  5.983278  \n",
       "Fe  4.649990  "
      ]
     },
     "execution_count": 52,
     "metadata": {},
     "output_type": "execute_result"
    }
   ],
   "source": [
    "scaled_df.describe().T"
   ]
  },
  {
   "cell_type": "code",
   "execution_count": 53,
   "id": "87b645cd",
   "metadata": {},
   "outputs": [],
   "source": [
    "from sklearn.decomposition import PCA\n",
    "pca=PCA()"
   ]
  },
  {
   "cell_type": "code",
   "execution_count": 54,
   "id": "4bc70ef7",
   "metadata": {},
   "outputs": [],
   "source": [
    "pca=PCA()"
   ]
  },
  {
   "cell_type": "code",
   "execution_count": 55,
   "id": "64f00af2",
   "metadata": {},
   "outputs": [
    {
     "data": {
      "text/plain": [
       "array([[-0.57740964, -0.75555522, -0.54131111, ..., -0.02855076,\n",
       "        -0.28624473, -0.01052633],\n",
       "       [-0.9422224 , -0.92494715, -0.54953705, ..., -0.3701861 ,\n",
       "        -0.09768518,  0.0217974 ],\n",
       "       [-0.14521009, -0.96082439, -0.10984278, ..., -0.0576203 ,\n",
       "        -0.00500546,  0.09215013],\n",
       "       ...,\n",
       "       [-1.65315732,  3.28863753, -0.93120716, ...,  0.6730498 ,\n",
       "        -0.89009734,  0.04644362],\n",
       "       [-2.34437523,  2.76379413, -1.2408532 , ...,  0.67853223,\n",
       "         0.07604161, -0.02742114],\n",
       "       [-2.23570365,  3.03487926, -0.8950945 , ...,  0.46165628,\n",
       "         0.06444171, -0.01953852]])"
      ]
     },
     "execution_count": 55,
     "metadata": {},
     "output_type": "execute_result"
    }
   ],
   "source": [
    "pca.fit_transform(scaled_df)"
   ]
  },
  {
   "cell_type": "code",
   "execution_count": 56,
   "id": "0e799caf",
   "metadata": {},
   "outputs": [
    {
     "data": {
      "text/plain": [
       "(213, 9)"
      ]
     },
     "execution_count": 56,
     "metadata": {},
     "output_type": "execute_result"
    }
   ],
   "source": [
    "scaled_df.shape"
   ]
  },
  {
   "cell_type": "code",
   "execution_count": 57,
   "id": "b7d96412",
   "metadata": {},
   "outputs": [],
   "source": [
    "pc_df=pd.DataFrame(data=pca.fit_transform(scaled_df))"
   ]
  },
  {
   "cell_type": "code",
   "execution_count": 58,
   "id": "3db583ef",
   "metadata": {},
   "outputs": [
    {
     "data": {
      "text/plain": [
       "(213, 9)"
      ]
     },
     "execution_count": 58,
     "metadata": {},
     "output_type": "execute_result"
    }
   ],
   "source": [
    "pc_df.shape"
   ]
  },
  {
   "cell_type": "code",
   "execution_count": 59,
   "id": "e70cf489",
   "metadata": {},
   "outputs": [
    {
     "data": {
      "text/html": [
       "<div>\n",
       "<style scoped>\n",
       "    .dataframe tbody tr th:only-of-type {\n",
       "        vertical-align: middle;\n",
       "    }\n",
       "\n",
       "    .dataframe tbody tr th {\n",
       "        vertical-align: top;\n",
       "    }\n",
       "\n",
       "    .dataframe thead th {\n",
       "        text-align: right;\n",
       "    }\n",
       "</style>\n",
       "<table border=\"1\" class=\"dataframe\">\n",
       "  <thead>\n",
       "    <tr style=\"text-align: right;\">\n",
       "      <th></th>\n",
       "      <th>0</th>\n",
       "      <th>1</th>\n",
       "      <th>2</th>\n",
       "      <th>3</th>\n",
       "      <th>4</th>\n",
       "      <th>5</th>\n",
       "      <th>6</th>\n",
       "      <th>7</th>\n",
       "      <th>8</th>\n",
       "    </tr>\n",
       "  </thead>\n",
       "  <tbody>\n",
       "    <tr>\n",
       "      <th>0</th>\n",
       "      <td>-0.577410</td>\n",
       "      <td>-0.755555</td>\n",
       "      <td>-0.541311</td>\n",
       "      <td>0.775011</td>\n",
       "      <td>-0.265563</td>\n",
       "      <td>-0.111058</td>\n",
       "      <td>-0.028551</td>\n",
       "      <td>-0.286245</td>\n",
       "      <td>-0.010526</td>\n",
       "    </tr>\n",
       "    <tr>\n",
       "      <th>1</th>\n",
       "      <td>-0.942222</td>\n",
       "      <td>-0.924947</td>\n",
       "      <td>-0.549537</td>\n",
       "      <td>0.218914</td>\n",
       "      <td>-0.240031</td>\n",
       "      <td>0.127787</td>\n",
       "      <td>-0.370186</td>\n",
       "      <td>-0.097685</td>\n",
       "      <td>0.021797</td>\n",
       "    </tr>\n",
       "    <tr>\n",
       "      <th>2</th>\n",
       "      <td>-0.145210</td>\n",
       "      <td>-0.960824</td>\n",
       "      <td>-0.109843</td>\n",
       "      <td>0.423085</td>\n",
       "      <td>-0.481010</td>\n",
       "      <td>0.289024</td>\n",
       "      <td>-0.057620</td>\n",
       "      <td>-0.005005</td>\n",
       "      <td>0.092150</td>\n",
       "    </tr>\n",
       "    <tr>\n",
       "      <th>3</th>\n",
       "      <td>-0.353912</td>\n",
       "      <td>-1.090275</td>\n",
       "      <td>-0.484283</td>\n",
       "      <td>0.083220</td>\n",
       "      <td>-0.434338</td>\n",
       "      <td>0.300431</td>\n",
       "      <td>0.154550</td>\n",
       "      <td>-0.192563</td>\n",
       "      <td>0.002486</td>\n",
       "    </tr>\n",
       "    <tr>\n",
       "      <th>4</th>\n",
       "      <td>-0.284636</td>\n",
       "      <td>-1.329052</td>\n",
       "      <td>0.846054</td>\n",
       "      <td>-0.915688</td>\n",
       "      <td>1.818969</td>\n",
       "      <td>-0.146221</td>\n",
       "      <td>-0.259813</td>\n",
       "      <td>0.033631</td>\n",
       "      <td>-0.001834</td>\n",
       "    </tr>\n",
       "  </tbody>\n",
       "</table>\n",
       "</div>"
      ],
      "text/plain": [
       "          0         1         2         3         4         5         6  \\\n",
       "0 -0.577410 -0.755555 -0.541311  0.775011 -0.265563 -0.111058 -0.028551   \n",
       "1 -0.942222 -0.924947 -0.549537  0.218914 -0.240031  0.127787 -0.370186   \n",
       "2 -0.145210 -0.960824 -0.109843  0.423085 -0.481010  0.289024 -0.057620   \n",
       "3 -0.353912 -1.090275 -0.484283  0.083220 -0.434338  0.300431  0.154550   \n",
       "4 -0.284636 -1.329052  0.846054 -0.915688  1.818969 -0.146221 -0.259813   \n",
       "\n",
       "          7         8  \n",
       "0 -0.286245 -0.010526  \n",
       "1 -0.097685  0.021797  \n",
       "2 -0.005005  0.092150  \n",
       "3 -0.192563  0.002486  \n",
       "4  0.033631 -0.001834  "
      ]
     },
     "execution_count": 59,
     "metadata": {},
     "output_type": "execute_result"
    }
   ],
   "source": [
    "pc_df.head()"
   ]
  },
  {
   "cell_type": "code",
   "execution_count": 60,
   "id": "42129093",
   "metadata": {},
   "outputs": [],
   "source": [
    "var=pca.explained_variance_ratio_"
   ]
  },
  {
   "cell_type": "code",
   "execution_count": 63,
   "id": "c703eeee",
   "metadata": {},
   "outputs": [
    {
     "data": {
      "text/plain": [
       "array([2.78925243e-01, 2.28432952e-01, 1.56446801e-01, 1.27580286e-01,\n",
       "       1.01684574e-01, 5.86461415e-02, 4.10083097e-02, 7.09648332e-03,\n",
       "       1.79209062e-04])"
      ]
     },
     "execution_count": 63,
     "metadata": {},
     "output_type": "execute_result"
    }
   ],
   "source": [
    "var"
   ]
  },
  {
   "cell_type": "code",
   "execution_count": 61,
   "id": "843842de",
   "metadata": {},
   "outputs": [
    {
     "data": {
      "text/plain": [
       "numpy.ndarray"
      ]
     },
     "execution_count": 61,
     "metadata": {},
     "output_type": "execute_result"
    }
   ],
   "source": [
    "type(var)"
   ]
  },
  {
   "cell_type": "code",
   "execution_count": 62,
   "id": "55a67f31",
   "metadata": {},
   "outputs": [
    {
     "data": {
      "text/plain": [
       "27.89252430320831"
      ]
     },
     "execution_count": 62,
     "metadata": {},
     "output_type": "execute_result"
    }
   ],
   "source": [
    "max(var)*100"
   ]
  },
  {
   "cell_type": "code",
   "execution_count": 73,
   "id": "964f29c3",
   "metadata": {},
   "outputs": [
    {
     "data": {
      "text/plain": [
       "0.017920906152587023"
      ]
     },
     "execution_count": 73,
     "metadata": {},
     "output_type": "execute_result"
    }
   ],
   "source": [
    "min(var)*100"
   ]
  },
  {
   "cell_type": "code",
   "execution_count": 74,
   "id": "e80bcecf",
   "metadata": {},
   "outputs": [
    {
     "data": {
      "text/plain": [
       "1.0"
      ]
     },
     "execution_count": 74,
     "metadata": {},
     "output_type": "execute_result"
    }
   ],
   "source": [
    "sum(var)"
   ]
  },
  {
   "cell_type": "code",
   "execution_count": null,
   "id": "a8e98c1c",
   "metadata": {},
   "outputs": [],
   "source": [
    "data=1 \n",
    "pca=all component(0.9999999999999998)"
   ]
  },
  {
   "cell_type": "code",
   "execution_count": 83,
   "id": "69dd412a",
   "metadata": {},
   "outputs": [
    {
     "data": {
      "text/plain": [
       "0.0"
      ]
     },
     "execution_count": 83,
     "metadata": {},
     "output_type": "execute_result"
    }
   ],
   "source": [
    "1-1.0"
   ]
  },
  {
   "cell_type": "code",
   "execution_count": 81,
   "id": "cd0b6eed",
   "metadata": {},
   "outputs": [],
   "source": [
    "1-0.9999999999999998"
   ]
  },
  {
   "cell_type": "code",
   "execution_count": 87,
   "id": "ec056b5b",
   "metadata": {},
   "outputs": [
    {
     "data": {
      "text/plain": [
       "array([2.78925243e-01, 2.28432952e-01, 1.56446801e-01, 1.27580286e-01,\n",
       "       1.01684574e-01, 5.86461415e-02, 4.10083097e-02, 7.09648332e-03,\n",
       "       1.79209062e-04])"
      ]
     },
     "execution_count": 87,
     "metadata": {},
     "output_type": "execute_result"
    }
   ],
   "source": [
    "var"
   ]
  },
  {
   "cell_type": "code",
   "execution_count": 88,
   "id": "0c15287c",
   "metadata": {},
   "outputs": [
    {
     "data": {
      "text/plain": [
       "array([1.79209062e-04, 7.09648332e-03, 4.10083097e-02, 5.86461415e-02,\n",
       "       1.01684574e-01, 1.27580286e-01, 1.56446801e-01, 2.28432952e-01,\n",
       "       2.78925243e-01])"
      ]
     },
     "execution_count": 88,
     "metadata": {},
     "output_type": "execute_result"
    }
   ],
   "source": [
    "np.sort(var)"
   ]
  },
  {
   "cell_type": "code",
   "execution_count": null,
   "id": "564e53e2",
   "metadata": {},
   "outputs": [],
   "source": [
    "np.sort(arr)[::-1]"
   ]
  },
  {
   "cell_type": "code",
   "execution_count": 90,
   "id": "ed180154",
   "metadata": {},
   "outputs": [
    {
     "data": {
      "text/plain": [
       "0.9517159978858756"
      ]
     },
     "execution_count": 90,
     "metadata": {},
     "output_type": "execute_result"
    }
   ],
   "source": [
    "sum(sorted(var,reverse=True)[:6])"
   ]
  },
  {
   "cell_type": "code",
   "execution_count": 84,
   "id": "1f621547",
   "metadata": {},
   "outputs": [
    {
     "data": {
      "image/png": "[encoded data removed]",
      "text/plain": [
       "<Figure size 432x288 with 1 Axes>"
      ]
     },
     "metadata": {
      "needs_background": "light"
     },
     "output_type": "display_data"
    }
   ],
   "source": [
    "plt.figure()\n",
    "plt.plot(np.cumsum(var))\n",
    "plt.xlabel(\"number of component\")\n",
    "plt.ylabel(\"variance\")\n",
    "plt.title(\"pca_repersentation\")\n",
    "plt.show()"
   ]
  },
  {
   "cell_type": "code",
   "execution_count": 85,
   "id": "878ff19e",
   "metadata": {},
   "outputs": [
    {
     "data": {
      "text/html": [
       "<div>\n",
       "<style scoped>\n",
       "    .dataframe tbody tr th:only-of-type {\n",
       "        vertical-align: middle;\n",
       "    }\n",
       "\n",
       "    .dataframe tbody tr th {\n",
       "        vertical-align: top;\n",
       "    }\n",
       "\n",
       "    .dataframe thead th {\n",
       "        text-align: right;\n",
       "    }\n",
       "</style>\n",
       "<table border=\"1\" class=\"dataframe\">\n",
       "  <thead>\n",
       "    <tr style=\"text-align: right;\">\n",
       "      <th></th>\n",
       "      <th>RI</th>\n",
       "      <th>Na</th>\n",
       "      <th>Mg</th>\n",
       "      <th>Al</th>\n",
       "      <th>Si</th>\n",
       "      <th>K</th>\n",
       "      <th>Ca</th>\n",
       "      <th>Ba</th>\n",
       "      <th>Fe</th>\n",
       "    </tr>\n",
       "  </thead>\n",
       "  <tbody>\n",
       "    <tr>\n",
       "      <th>0</th>\n",
       "      <td>1.51761</td>\n",
       "      <td>13.89</td>\n",
       "      <td>3.60</td>\n",
       "      <td>1.36</td>\n",
       "      <td>72.73</td>\n",
       "      <td>0.48</td>\n",
       "      <td>7.83</td>\n",
       "      <td>0.0</td>\n",
       "      <td>0.00</td>\n",
       "    </tr>\n",
       "    <tr>\n",
       "      <th>1</th>\n",
       "      <td>1.51618</td>\n",
       "      <td>13.53</td>\n",
       "      <td>3.55</td>\n",
       "      <td>1.54</td>\n",
       "      <td>72.99</td>\n",
       "      <td>0.39</td>\n",
       "      <td>7.78</td>\n",
       "      <td>0.0</td>\n",
       "      <td>0.00</td>\n",
       "    </tr>\n",
       "    <tr>\n",
       "      <th>2</th>\n",
       "      <td>1.51766</td>\n",
       "      <td>13.21</td>\n",
       "      <td>3.69</td>\n",
       "      <td>1.29</td>\n",
       "      <td>72.61</td>\n",
       "      <td>0.57</td>\n",
       "      <td>8.22</td>\n",
       "      <td>0.0</td>\n",
       "      <td>0.00</td>\n",
       "    </tr>\n",
       "    <tr>\n",
       "      <th>3</th>\n",
       "      <td>1.51742</td>\n",
       "      <td>13.27</td>\n",
       "      <td>3.62</td>\n",
       "      <td>1.24</td>\n",
       "      <td>73.08</td>\n",
       "      <td>0.55</td>\n",
       "      <td>8.07</td>\n",
       "      <td>0.0</td>\n",
       "      <td>0.00</td>\n",
       "    </tr>\n",
       "    <tr>\n",
       "      <th>4</th>\n",
       "      <td>1.51596</td>\n",
       "      <td>12.79</td>\n",
       "      <td>3.61</td>\n",
       "      <td>1.62</td>\n",
       "      <td>72.97</td>\n",
       "      <td>0.64</td>\n",
       "      <td>8.07</td>\n",
       "      <td>0.0</td>\n",
       "      <td>0.26</td>\n",
       "    </tr>\n",
       "  </tbody>\n",
       "</table>\n",
       "</div>"
      ],
      "text/plain": [
       "        RI     Na    Mg    Al     Si     K    Ca   Ba    Fe\n",
       "0  1.51761  13.89  3.60  1.36  72.73  0.48  7.83  0.0  0.00\n",
       "1  1.51618  13.53  3.55  1.54  72.99  0.39  7.78  0.0  0.00\n",
       "2  1.51766  13.21  3.69  1.29  72.61  0.57  8.22  0.0  0.00\n",
       "3  1.51742  13.27  3.62  1.24  73.08  0.55  8.07  0.0  0.00\n",
       "4  1.51596  12.79  3.61  1.62  72.97  0.64  8.07  0.0  0.26"
      ]
     },
     "execution_count": 85,
     "metadata": {},
     "output_type": "execute_result"
    }
   ],
   "source": [
    "new_df.head()"
   ]
  },
  {
   "cell_type": "code",
   "execution_count": 86,
   "id": "30eaf999",
   "metadata": {},
   "outputs": [
    {
     "data": {
      "text/html": [
       "<div>\n",
       "<style scoped>\n",
       "    .dataframe tbody tr th:only-of-type {\n",
       "        vertical-align: middle;\n",
       "    }\n",
       "\n",
       "    .dataframe tbody tr th {\n",
       "        vertical-align: top;\n",
       "    }\n",
       "\n",
       "    .dataframe thead th {\n",
       "        text-align: right;\n",
       "    }\n",
       "</style>\n",
       "<table border=\"1\" class=\"dataframe\">\n",
       "  <thead>\n",
       "    <tr style=\"text-align: right;\">\n",
       "      <th></th>\n",
       "      <th>0</th>\n",
       "      <th>1</th>\n",
       "      <th>2</th>\n",
       "      <th>3</th>\n",
       "      <th>4</th>\n",
       "      <th>5</th>\n",
       "      <th>6</th>\n",
       "      <th>7</th>\n",
       "      <th>8</th>\n",
       "    </tr>\n",
       "  </thead>\n",
       "  <tbody>\n",
       "    <tr>\n",
       "      <th>0</th>\n",
       "      <td>-0.577410</td>\n",
       "      <td>-0.755555</td>\n",
       "      <td>-0.541311</td>\n",
       "      <td>0.775011</td>\n",
       "      <td>-0.265563</td>\n",
       "      <td>-0.111058</td>\n",
       "      <td>-0.028551</td>\n",
       "      <td>-0.286245</td>\n",
       "      <td>-0.010526</td>\n",
       "    </tr>\n",
       "    <tr>\n",
       "      <th>1</th>\n",
       "      <td>-0.942222</td>\n",
       "      <td>-0.924947</td>\n",
       "      <td>-0.549537</td>\n",
       "      <td>0.218914</td>\n",
       "      <td>-0.240031</td>\n",
       "      <td>0.127787</td>\n",
       "      <td>-0.370186</td>\n",
       "      <td>-0.097685</td>\n",
       "      <td>0.021797</td>\n",
       "    </tr>\n",
       "    <tr>\n",
       "      <th>2</th>\n",
       "      <td>-0.145210</td>\n",
       "      <td>-0.960824</td>\n",
       "      <td>-0.109843</td>\n",
       "      <td>0.423085</td>\n",
       "      <td>-0.481010</td>\n",
       "      <td>0.289024</td>\n",
       "      <td>-0.057620</td>\n",
       "      <td>-0.005005</td>\n",
       "      <td>0.092150</td>\n",
       "    </tr>\n",
       "    <tr>\n",
       "      <th>3</th>\n",
       "      <td>-0.353912</td>\n",
       "      <td>-1.090275</td>\n",
       "      <td>-0.484283</td>\n",
       "      <td>0.083220</td>\n",
       "      <td>-0.434338</td>\n",
       "      <td>0.300431</td>\n",
       "      <td>0.154550</td>\n",
       "      <td>-0.192563</td>\n",
       "      <td>0.002486</td>\n",
       "    </tr>\n",
       "    <tr>\n",
       "      <th>4</th>\n",
       "      <td>-0.284636</td>\n",
       "      <td>-1.329052</td>\n",
       "      <td>0.846054</td>\n",
       "      <td>-0.915688</td>\n",
       "      <td>1.818969</td>\n",
       "      <td>-0.146221</td>\n",
       "      <td>-0.259813</td>\n",
       "      <td>0.033631</td>\n",
       "      <td>-0.001834</td>\n",
       "    </tr>\n",
       "  </tbody>\n",
       "</table>\n",
       "</div>"
      ],
      "text/plain": [
       "          0         1         2         3         4         5         6  \\\n",
       "0 -0.577410 -0.755555 -0.541311  0.775011 -0.265563 -0.111058 -0.028551   \n",
       "1 -0.942222 -0.924947 -0.549537  0.218914 -0.240031  0.127787 -0.370186   \n",
       "2 -0.145210 -0.960824 -0.109843  0.423085 -0.481010  0.289024 -0.057620   \n",
       "3 -0.353912 -1.090275 -0.484283  0.083220 -0.434338  0.300431  0.154550   \n",
       "4 -0.284636 -1.329052  0.846054 -0.915688  1.818969 -0.146221 -0.259813   \n",
       "\n",
       "          7         8  \n",
       "0 -0.286245 -0.010526  \n",
       "1 -0.097685  0.021797  \n",
       "2 -0.005005  0.092150  \n",
       "3 -0.192563  0.002486  \n",
       "4  0.033631 -0.001834  "
      ]
     },
     "execution_count": 86,
     "metadata": {},
     "output_type": "execute_result"
    }
   ],
   "source": [
    "pc_df.head()"
   ]
  },
  {
   "cell_type": "code",
   "execution_count": 91,
   "id": "25df41b6",
   "metadata": {},
   "outputs": [
    {
     "data": {
      "text/plain": [
       "PCA(n_components=6)"
      ]
     },
     "execution_count": 91,
     "metadata": {},
     "output_type": "execute_result"
    }
   ],
   "source": [
    "PCA(n_components=6)"
   ]
  },
  {
   "cell_type": "code",
   "execution_count": null,
   "id": "eca9b078",
   "metadata": {},
   "outputs": [],
   "source": []
  }
 ],
 "metadata": {
  "kernelspec": {
   "display_name": "Python 3",
   "language": "python",
   "name": "python3"
  },
  "language_info": {
   "codemirror_mode": {
    "name": "ipython",
    "version": 3
   },
   "file_extension": ".py",
   "mimetype": "text/x-python",
   "name": "python",
   "nbconvert_exporter": "python",
   "pygments_lexer": "ipython3",
   "version": "3.8.8"
  }
 },
 "nbformat": 4,
 "nbformat_minor": 5
}
