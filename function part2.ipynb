{
 "cells": [
  {
   "cell_type": "code",
   "execution_count": 2,
   "id": "dfdc9592",
   "metadata": {},
   "outputs": [],
   "source": [
    "def test(a,b,c,d,e):\n",
    "    return a,b,c,d,e"
   ]
  },
  {
   "cell_type": "code",
   "execution_count": 3,
   "id": "249facf2",
   "metadata": {},
   "outputs": [
    {
     "data": {
      "text/plain": [
       "(34, 56, 76, 787, 878)"
      ]
     },
     "execution_count": 3,
     "metadata": {},
     "output_type": "execute_result"
    }
   ],
   "source": [
    "test(34,56,76,787,878)"
   ]
  },
  {
   "cell_type": "code",
   "execution_count": 4,
   "id": "d2a76a78",
   "metadata": {},
   "outputs": [],
   "source": [
    "def test1(*args):\n",
    "    return args"
   ]
  },
  {
   "cell_type": "code",
   "execution_count": 5,
   "id": "2f58e36a",
   "metadata": {},
   "outputs": [
    {
     "data": {
      "text/plain": [
       "(45, 56, 78)"
      ]
     },
     "execution_count": 5,
     "metadata": {},
     "output_type": "execute_result"
    }
   ],
   "source": [
    "test1(45,56,78)"
   ]
  },
  {
   "cell_type": "code",
   "execution_count": 6,
   "id": "80b9bf49",
   "metadata": {},
   "outputs": [
    {
     "data": {
      "text/plain": [
       "(45, 34, 'sudh', 45, 67)"
      ]
     },
     "execution_count": 6,
     "metadata": {},
     "output_type": "execute_result"
    }
   ],
   "source": [
    "test1(45,34,\"sudh\",45,67)"
   ]
  },
  {
   "cell_type": "code",
   "execution_count": 7,
   "id": "a2f456fc",
   "metadata": {},
   "outputs": [
    {
     "data": {
      "text/plain": [
       "([1, 2, 43, 4, 5], (45, 67, 76, 78), 'sagu', (345+7j))"
      ]
     },
     "execution_count": 7,
     "metadata": {},
     "output_type": "execute_result"
    }
   ],
   "source": [
    "test1([1,2,43,4,5],(45,67,76,78),\"sagu\",345+7j)"
   ]
  },
  {
   "cell_type": "code",
   "execution_count": 12,
   "id": "d689888b",
   "metadata": {},
   "outputs": [],
   "source": [
    "def test2(*sudh):\n",
    "    return sudh"
   ]
  },
  {
   "cell_type": "code",
   "execution_count": 13,
   "id": "079011f2",
   "metadata": {},
   "outputs": [
    {
     "data": {
      "text/plain": [
       "('sagu', 345, '234234', 345)"
      ]
     },
     "execution_count": 13,
     "metadata": {},
     "output_type": "execute_result"
    }
   ],
   "source": [
    "test2(\"sagu\",345,'234234',345)"
   ]
  },
  {
   "cell_type": "code",
   "execution_count": 14,
   "id": "f686148c",
   "metadata": {},
   "outputs": [],
   "source": [
    "def test3(*sudh,a):\n",
    "    return sudh , a"
   ]
  },
  {
   "cell_type": "code",
   "execution_count": 15,
   "id": "642c0392",
   "metadata": {},
   "outputs": [
    {
     "data": {
      "text/plain": [
       "((34, 56, 767), 6546)"
      ]
     },
     "execution_count": 15,
     "metadata": {},
     "output_type": "execute_result"
    }
   ],
   "source": [
    "test3(34,56,767, a=6546)"
   ]
  },
  {
   "cell_type": "code",
   "execution_count": 16,
   "id": "1a445286",
   "metadata": {},
   "outputs": [],
   "source": [
    "def test4(*sudh,a,b,c,d):\n",
    "    return sudh,a,b,c,d"
   ]
  },
  {
   "cell_type": "code",
   "execution_count": 17,
   "id": "71cf47d8",
   "metadata": {},
   "outputs": [
    {
     "data": {
      "text/plain": [
       "((345, 353, 656, 76), [4, 5, 7, 7, 4], [35445, 65, 65, 56], 'sagu', 345.656)"
      ]
     },
     "execution_count": 17,
     "metadata": {},
     "output_type": "execute_result"
    }
   ],
   "source": [
    "test4(345,353,656,76, a= [4,5,7,7,4], b=[35445,65,65,56],c=\"sagu\", d=345.656)"
   ]
  },
  {
   "cell_type": "code",
   "execution_count": 18,
   "id": "9f2af7d5",
   "metadata": {},
   "outputs": [],
   "source": [
    "def test3(a,*sudh):\n",
    "    return sudh,a"
   ]
  },
  {
   "cell_type": "code",
   "execution_count": 19,
   "id": "a4dddabc",
   "metadata": {},
   "outputs": [
    {
     "ename": "TypeError",
     "evalue": "test3() got multiple values for argument 'a'",
     "output_type": "error",
     "traceback": [
      "\u001b[1;31m---------------------------------------------------------------------------\u001b[0m",
      "\u001b[1;31mTypeError\u001b[0m                                 Traceback (most recent call last)",
      "\u001b[1;32m<ipython-input-19-6205a66aeaad>\u001b[0m in \u001b[0;36m<module>\u001b[1;34m\u001b[0m\n\u001b[1;32m----> 1\u001b[1;33m \u001b[0mtest3\u001b[0m\u001b[1;33m(\u001b[0m\u001b[1;34m\"sagu\"\u001b[0m\u001b[1;33m,\u001b[0m\u001b[1;36m2354\u001b[0m\u001b[1;33m,\u001b[0m\u001b[1;36m54\u001b[0m\u001b[1;33m,\u001b[0m\u001b[1;36m56\u001b[0m\u001b[1;33m,\u001b[0m \u001b[0ma\u001b[0m\u001b[1;33m=\u001b[0m\u001b[1;34m\"sagu\"\u001b[0m\u001b[1;33m)\u001b[0m\u001b[1;33m\u001b[0m\u001b[1;33m\u001b[0m\u001b[0m\n\u001b[0m",
      "\u001b[1;31mTypeError\u001b[0m: test3() got multiple values for argument 'a'"
     ]
    }
   ],
   "source": [
    "test3(\"sagu\",2354,54,56, a=\"sagu\")"
   ]
  },
  {
   "cell_type": "code",
   "execution_count": 21,
   "id": "0362c719",
   "metadata": {},
   "outputs": [],
   "source": [
    "def test5(a,*sudh,b,c):\n",
    "          return a, sudh,b,c"
   ]
  },
  {
   "cell_type": "code",
   "execution_count": 23,
   "id": "e1a9fa84",
   "metadata": {},
   "outputs": [
    {
     "data": {
      "text/plain": [
       "('sagu', ([2, 3, 4, 5], 45, 6, 56, 5, 6, 67, 6, 7), 6, 7)"
      ]
     },
     "execution_count": 23,
     "metadata": {},
     "output_type": "execute_result"
    }
   ],
   "source": [
    "test5(\"sagu\",[2,3,4,5],45,6,56,5,6,67,6,7, b=6,c=7)"
   ]
  },
  {
   "cell_type": "code",
   "execution_count": 28,
   "id": "e1358b16",
   "metadata": {},
   "outputs": [],
   "source": [
    "def test6(*args):\n",
    "    l=[]\n",
    "    for i in args:\n",
    "        if type(i)==list:\n",
    "            l.append(i)\n",
    "    return l"
   ]
  },
  {
   "cell_type": "code",
   "execution_count": 29,
   "id": "c85d4bcc",
   "metadata": {},
   "outputs": [
    {
     "data": {
      "text/plain": [
       "[[23, 54, 5, 4, 565656]]"
      ]
     },
     "execution_count": 29,
     "metadata": {},
     "output_type": "execute_result"
    }
   ],
   "source": [
    "test6(45,67,6,776,[23,54,5,4,565656])"
   ]
  },
  {
   "cell_type": "code",
   "execution_count": 31,
   "id": "42d20f85",
   "metadata": {},
   "outputs": [
    {
     "data": {
      "text/plain": [
       "[[3, 434, 56, 54], [234, 6, 678]]"
      ]
     },
     "execution_count": 31,
     "metadata": {},
     "output_type": "execute_result"
    }
   ],
   "source": [
    "test6(546,675,67567,567,[3,434,56,54],[234,6,678],\"sagu\")"
   ]
  },
  {
   "cell_type": "code",
   "execution_count": 32,
   "id": "705c4a55",
   "metadata": {},
   "outputs": [],
   "source": [
    "d={\"a\":[2,3,4,5,6],6:[4,54,4,5,5,6]}"
   ]
  },
  {
   "cell_type": "code",
   "execution_count": 33,
   "id": "70c67eae",
   "metadata": {},
   "outputs": [
    {
     "data": {
      "text/plain": [
       "[2, 3, 4, 5, 6]"
      ]
     },
     "execution_count": 33,
     "metadata": {},
     "output_type": "execute_result"
    }
   ],
   "source": [
    "d[\"a\"]"
   ]
  },
  {
   "cell_type": "code",
   "execution_count": 35,
   "id": "37c41e22",
   "metadata": {},
   "outputs": [],
   "source": [
    "def test7(**kiargs):\n",
    "    return kiargs"
   ]
  },
  {
   "cell_type": "code",
   "execution_count": 36,
   "id": "2373f37b",
   "metadata": {},
   "outputs": [
    {
     "data": {
      "text/plain": [
       "{'a': 345, 'b': [45, 5, 54, 6, 6]}"
      ]
     },
     "execution_count": 36,
     "metadata": {},
     "output_type": "execute_result"
    }
   ],
   "source": [
    "test7(a=345, b=[45,5,54,6,6])"
   ]
  },
  {
   "cell_type": "code",
   "execution_count": 37,
   "id": "322c8fd1",
   "metadata": {},
   "outputs": [],
   "source": [
    "def test8(**sudh):\n",
    "    return sudh"
   ]
  },
  {
   "cell_type": "code",
   "execution_count": 38,
   "id": "0775708c",
   "metadata": {},
   "outputs": [
    {
     "data": {
      "text/plain": [
       "{'b': 787, 'g': 235, 'f': [345, 546, 76, 78, 87, 87]}"
      ]
     },
     "execution_count": 38,
     "metadata": {},
     "output_type": "execute_result"
    }
   ],
   "source": [
    "test8(b=787,g=235,f=[345,546,76,78,87,87])"
   ]
  },
  {
   "cell_type": "code",
   "execution_count": 40,
   "id": "d91c0a69",
   "metadata": {},
   "outputs": [
    {
     "ename": "SyntaxError",
     "evalue": "expression cannot contain assignment, perhaps you meant \"==\"? (<ipython-input-40-2d4669ed63bd>, line 1)",
     "output_type": "error",
     "traceback": [
      "\u001b[1;36m  File \u001b[1;32m\"<ipython-input-40-2d4669ed63bd>\"\u001b[1;36m, line \u001b[1;32m1\u001b[0m\n\u001b[1;33m    test8(4=\"sagu\")\u001b[0m\n\u001b[1;37m          ^\u001b[0m\n\u001b[1;31mSyntaxError\u001b[0m\u001b[1;31m:\u001b[0m expression cannot contain assignment, perhaps you meant \"==\"?\n"
     ]
    }
   ],
   "source": [
    "test8(4=\"sagu\")"
   ]
  },
  {
   "cell_type": "code",
   "execution_count": 41,
   "id": "46e13752",
   "metadata": {},
   "outputs": [],
   "source": [
    "def test9(**sudh):\n",
    "    return sudh"
   ]
  },
  {
   "cell_type": "code",
   "execution_count": 43,
   "id": "04e1a4f8",
   "metadata": {},
   "outputs": [
    {
     "data": {
      "text/plain": [
       "{'name': 'sudh',\n",
       " 'age': '31',\n",
       " 'phone_number': '4234',\n",
       " 'mail_id': 'anything@.com',\n",
       " 'adr': 'something'}"
      ]
     },
     "execution_count": 43,
     "metadata": {},
     "output_type": "execute_result"
    }
   ],
   "source": [
    "test9(name=\"sudh\",age=\"31\", phone_number=\"4234\",mail_id=\"anything@.com\", adr=\"something\")"
   ]
  },
  {
   "cell_type": "code",
   "execution_count": 46,
   "id": "4e13a368",
   "metadata": {},
   "outputs": [],
   "source": [
    "def test10(a,**sudh):\n",
    "    return sudh, a"
   ]
  },
  {
   "cell_type": "code",
   "execution_count": 47,
   "id": "4a696266",
   "metadata": {},
   "outputs": [
    {
     "data": {
      "text/plain": [
       "({'t': 67, 'b': 78, 'c': 7, 'd': 8, 'e': 78}, 45)"
      ]
     },
     "execution_count": 47,
     "metadata": {},
     "output_type": "execute_result"
    }
   ],
   "source": [
    "test10(45,t=67,b=78,c=7,d=8,e=78)"
   ]
  },
  {
   "cell_type": "code",
   "execution_count": 48,
   "id": "6d5dff82",
   "metadata": {},
   "outputs": [
    {
     "ename": "SyntaxError",
     "evalue": "invalid syntax (<ipython-input-48-ba61154e87d7>, line 1)",
     "output_type": "error",
     "traceback": [
      "\u001b[1;36m  File \u001b[1;32m\"<ipython-input-48-ba61154e87d7>\"\u001b[1;36m, line \u001b[1;32m1\u001b[0m\n\u001b[1;33m    def test11(a,**sudh,*args):\u001b[0m\n\u001b[1;37m                        ^\u001b[0m\n\u001b[1;31mSyntaxError\u001b[0m\u001b[1;31m:\u001b[0m invalid syntax\n"
     ]
    }
   ],
   "source": [
    "def test11(a,**sudh,*args):\n",
    "    return sudh,a,args"
   ]
  },
  {
   "cell_type": "code",
   "execution_count": 49,
   "id": "c6b435e5",
   "metadata": {},
   "outputs": [],
   "source": [
    "def test12(a,*args, **kwargs):\n",
    "    return a,args,kwargs"
   ]
  },
  {
   "cell_type": "code",
   "execution_count": 50,
   "id": "cc8089d0",
   "metadata": {},
   "outputs": [
    {
     "data": {
      "text/plain": [
       "(45, (56, 67, 6, 7, 67), {'g': 5476, 'l': 46})"
      ]
     },
     "execution_count": 50,
     "metadata": {},
     "output_type": "execute_result"
    }
   ],
   "source": [
    "test12(45,56,67,6,7,67,g=5476,l=46)"
   ]
  },
  {
   "cell_type": "code",
   "execution_count": 54,
   "id": "d5133af2",
   "metadata": {},
   "outputs": [],
   "source": [
    "def test13(a,b):\n",
    "    return a*b"
   ]
  },
  {
   "cell_type": "code",
   "execution_count": 55,
   "id": "7368582b",
   "metadata": {},
   "outputs": [
    {
     "data": {
      "text/plain": [
       "3015"
      ]
     },
     "execution_count": 55,
     "metadata": {},
     "output_type": "execute_result"
    }
   ],
   "source": [
    "test13(45,67)"
   ]
  },
  {
   "cell_type": "code",
   "execution_count": 56,
   "id": "904ca496",
   "metadata": {},
   "outputs": [],
   "source": [
    "a= lambda a,b :(a*b,a+b)"
   ]
  },
  {
   "cell_type": "code",
   "execution_count": 57,
   "id": "e24bdc4a",
   "metadata": {},
   "outputs": [
    {
     "data": {
      "text/plain": [
       "(3015, 112)"
      ]
     },
     "execution_count": 57,
     "metadata": {},
     "output_type": "execute_result"
    }
   ],
   "source": [
    "a(45,67)"
   ]
  },
  {
   "cell_type": "code",
   "execution_count": 58,
   "id": "e93d7136",
   "metadata": {},
   "outputs": [],
   "source": [
    "a= lambda *a:a"
   ]
  },
  {
   "cell_type": "code",
   "execution_count": 60,
   "id": "85ac1c44",
   "metadata": {},
   "outputs": [
    {
     "data": {
      "text/plain": [
       "(56, 67, 78)"
      ]
     },
     "execution_count": 60,
     "metadata": {},
     "output_type": "execute_result"
    }
   ],
   "source": [
    "a(56,67,78)"
   ]
  },
  {
   "cell_type": "code",
   "execution_count": 62,
   "id": "524caab3",
   "metadata": {},
   "outputs": [],
   "source": [
    "x= lambda *a:a*a"
   ]
  },
  {
   "cell_type": "code",
   "execution_count": 63,
   "id": "d75f8ce4",
   "metadata": {},
   "outputs": [],
   "source": [
    "v = lambda *i:i**2"
   ]
  },
  {
   "cell_type": "code",
   "execution_count": 64,
   "id": "b8af003a",
   "metadata": {},
   "outputs": [],
   "source": [
    "a=lambda a,b :(a*b,a+b)"
   ]
  },
  {
   "cell_type": "code",
   "execution_count": 65,
   "id": "baccc034",
   "metadata": {},
   "outputs": [
    {
     "data": {
      "text/plain": [
       "(20, 9)"
      ]
     },
     "execution_count": 65,
     "metadata": {},
     "output_type": "execute_result"
    }
   ],
   "source": [
    "a(4,5)"
   ]
  },
  {
   "cell_type": "code",
   "execution_count": 66,
   "id": "17b7cbe2",
   "metadata": {},
   "outputs": [
    {
     "ename": "SyntaxError",
     "evalue": "invalid syntax (<ipython-input-66-d254eb02682e>, line 1)",
     "output_type": "error",
     "traceback": [
      "\u001b[1;36m  File \u001b[1;32m\"<ipython-input-66-d254eb02682e>\"\u001b[1;36m, line \u001b[1;32m1\u001b[0m\n\u001b[1;33m    x= lambda x: (for i in x : print(i))\u001b[0m\n\u001b[1;37m                  ^\u001b[0m\n\u001b[1;31mSyntaxError\u001b[0m\u001b[1;31m:\u001b[0m invalid syntax\n"
     ]
    }
   ],
   "source": [
    "x= lambda x: (for i in x : print(i))"
   ]
  },
  {
   "cell_type": "code",
   "execution_count": 71,
   "id": "69b08ffa",
   "metadata": {},
   "outputs": [],
   "source": [
    "x = lambda x :[i for i in x]"
   ]
  },
  {
   "cell_type": "code",
   "execution_count": 72,
   "id": "f5fbb399",
   "metadata": {},
   "outputs": [
    {
     "data": {
      "text/plain": [
       "[4, 5, 6, 6]"
      ]
     },
     "execution_count": 72,
     "metadata": {},
     "output_type": "execute_result"
    }
   ],
   "source": [
    "x([4,5,6,6])"
   ]
  },
  {
   "cell_type": "code",
   "execution_count": 73,
   "id": "4d4b96f8",
   "metadata": {},
   "outputs": [],
   "source": [
    "l=[4,5,6,7,7,8]"
   ]
  },
  {
   "cell_type": "code",
   "execution_count": 74,
   "id": "85ff5ad5",
   "metadata": {},
   "outputs": [],
   "source": [
    "l1 =[]\n",
    "for i in l:\n",
    "    l1.append(i)"
   ]
  },
  {
   "cell_type": "code",
   "execution_count": 75,
   "id": "2bdd2f27",
   "metadata": {},
   "outputs": [
    {
     "data": {
      "text/plain": [
       "[4, 5, 6, 7, 7, 8]"
      ]
     },
     "execution_count": 75,
     "metadata": {},
     "output_type": "execute_result"
    }
   ],
   "source": [
    "l1"
   ]
  },
  {
   "cell_type": "code",
   "execution_count": 76,
   "id": "454194ff",
   "metadata": {},
   "outputs": [
    {
     "data": {
      "text/plain": [
       "[4, 5, 6, 7, 7, 8]"
      ]
     },
     "execution_count": 76,
     "metadata": {},
     "output_type": "execute_result"
    }
   ],
   "source": [
    "[i for i in l]"
   ]
  },
  {
   "cell_type": "code",
   "execution_count": 78,
   "id": "63c82c21",
   "metadata": {},
   "outputs": [],
   "source": [
    "x=lambda x:[i for i in x]"
   ]
  },
  {
   "cell_type": "code",
   "execution_count": 80,
   "id": "9cade155",
   "metadata": {},
   "outputs": [
    {
     "data": {
      "text/plain": [
       "[45, 435, 56, 56, 5]"
      ]
     },
     "execution_count": 80,
     "metadata": {},
     "output_type": "execute_result"
    }
   ],
   "source": [
    "x([45,435,56,56,5])"
   ]
  },
  {
   "cell_type": "code",
   "execution_count": 81,
   "id": "a1237b25",
   "metadata": {},
   "outputs": [],
   "source": [
    "a= lambda **kwargs : kwargs"
   ]
  },
  {
   "cell_type": "code",
   "execution_count": 82,
   "id": "52b48f52",
   "metadata": {},
   "outputs": [
    {
     "data": {
      "text/plain": [
       "{'a': 45, 'b': 56}"
      ]
     },
     "execution_count": 82,
     "metadata": {},
     "output_type": "execute_result"
    }
   ],
   "source": [
    "a(a=45,b=56)"
   ]
  },
  {
   "cell_type": "code",
   "execution_count": 87,
   "id": "d1a443a3",
   "metadata": {},
   "outputs": [],
   "source": [
    "c =10\n",
    "def test16(c,d):\n",
    "    c=5\n",
    "    return c*d"
   ]
  },
  {
   "cell_type": "code",
   "execution_count": 88,
   "id": "9dada1bf",
   "metadata": {},
   "outputs": [
    {
     "data": {
      "text/plain": [
       "250"
      ]
     },
     "execution_count": 88,
     "metadata": {},
     "output_type": "execute_result"
    }
   ],
   "source": [
    "test16(10,50)"
   ]
  },
  {
   "cell_type": "code",
   "execution_count": 89,
   "id": "7923e82b",
   "metadata": {},
   "outputs": [
    {
     "data": {
      "text/plain": [
       "10"
      ]
     },
     "execution_count": 89,
     "metadata": {},
     "output_type": "execute_result"
    }
   ],
   "source": [
    "c"
   ]
  },
  {
   "cell_type": "code",
   "execution_count": 91,
   "id": "598dbe87",
   "metadata": {},
   "outputs": [],
   "source": [
    "l = [1,3,4,56,78,7,88,7]\n",
    "l1 = []\n",
    "for i in l:\n",
    "    l1.append(i+2)"
   ]
  },
  {
   "cell_type": "code",
   "execution_count": 92,
   "id": "36310b4b",
   "metadata": {},
   "outputs": [
    {
     "data": {
      "text/plain": [
       "[3, 5, 6, 58, 80, 9, 90, 9]"
      ]
     },
     "execution_count": 92,
     "metadata": {},
     "output_type": "execute_result"
    }
   ],
   "source": [
    "l1"
   ]
  },
  {
   "cell_type": "code",
   "execution_count": 97,
   "id": "a232c662",
   "metadata": {},
   "outputs": [],
   "source": [
    "def test17(a):\n",
    "    l1=[]\n",
    "    for i in a:\n",
    "        l1.append(i+2)\n",
    "    return l1"
   ]
  },
  {
   "cell_type": "code",
   "execution_count": 98,
   "id": "555e1fda",
   "metadata": {},
   "outputs": [
    {
     "data": {
      "text/plain": [
       "[3, 5, 6, 58, 80, 9, 90, 9]"
      ]
     },
     "execution_count": 98,
     "metadata": {},
     "output_type": "execute_result"
    }
   ],
   "source": [
    "test17(l)"
   ]
  },
  {
   "cell_type": "code",
   "execution_count": 104,
   "id": "da0d04b0",
   "metadata": {},
   "outputs": [],
   "source": [
    "a= lambda a :[i+2 for i in a]"
   ]
  },
  {
   "cell_type": "code",
   "execution_count": 105,
   "id": "bbe52c1f",
   "metadata": {},
   "outputs": [
    {
     "data": {
      "text/plain": [
       "[3, 5, 6, 58, 80, 9, 90, 9]"
      ]
     },
     "execution_count": 105,
     "metadata": {},
     "output_type": "execute_result"
    }
   ],
   "source": [
    "a(l)"
   ]
  },
  {
   "cell_type": "code",
   "execution_count": 106,
   "id": "e86bd7ff",
   "metadata": {},
   "outputs": [
    {
     "data": {
      "text/plain": [
       "[1, 3, 4, 56, 78, 7, 88, 7]"
      ]
     },
     "execution_count": 106,
     "metadata": {},
     "output_type": "execute_result"
    }
   ],
   "source": [
    "l"
   ]
  },
  {
   "cell_type": "code",
   "execution_count": 112,
   "id": "dc13a3b8",
   "metadata": {},
   "outputs": [
    {
     "data": {
      "text/plain": [
       "[(1, 2), (9, 6)]"
      ]
     },
     "execution_count": 112,
     "metadata": {},
     "output_type": "execute_result"
    }
   ],
   "source": [
    "[(i**2,i+i) for i in l if i <4]"
   ]
  },
  {
   "cell_type": "code",
   "execution_count": 113,
   "id": "119a6412",
   "metadata": {},
   "outputs": [],
   "source": [
    "l1=[]\n",
    "for i in l:\n",
    "    if i <4:\n",
    "        l1.append((i**2,i+i))"
   ]
  },
  {
   "cell_type": "code",
   "execution_count": 114,
   "id": "0c65d0b2",
   "metadata": {},
   "outputs": [
    {
     "data": {
      "text/plain": [
       "[(1, 2), (9, 6)]"
      ]
     },
     "execution_count": 114,
     "metadata": {},
     "output_type": "execute_result"
    }
   ],
   "source": [
    "l1"
   ]
  },
  {
   "cell_type": "code",
   "execution_count": 123,
   "id": "19753052",
   "metadata": {},
   "outputs": [],
   "source": [
    "d={1:1.,2:4,3:9}"
   ]
  },
  {
   "cell_type": "code",
   "execution_count": 125,
   "id": "4b8bd450",
   "metadata": {},
   "outputs": [
    {
     "data": {
      "text/plain": [
       "{0: 0, 1: 1, 2: 4, 3: 9, 4: 16, 5: 25, 6: 36, 7: 49, 8: 64, 9: 81}"
      ]
     },
     "execution_count": 125,
     "metadata": {},
     "output_type": "execute_result"
    }
   ],
   "source": [
    "{i:i**2 for i in range(10)}"
   ]
  },
  {
   "cell_type": "code",
   "execution_count": 127,
   "id": "636f1aa6",
   "metadata": {},
   "outputs": [],
   "source": [
    "d1 = {}\n",
    "for i in range(10):\n",
    "    d1[i]= i**2"
   ]
  },
  {
   "cell_type": "code",
   "execution_count": 128,
   "id": "fb557706",
   "metadata": {},
   "outputs": [
    {
     "data": {
      "text/plain": [
       "{0: 0, 1: 1, 2: 4, 3: 9, 4: 16, 5: 25, 6: 36, 7: 49, 8: 64, 9: 81}"
      ]
     },
     "execution_count": 128,
     "metadata": {},
     "output_type": "execute_result"
    }
   ],
   "source": [
    "d1"
   ]
  },
  {
   "cell_type": "code",
   "execution_count": 131,
   "id": "5da14d6e",
   "metadata": {},
   "outputs": [
    {
     "data": {
      "text/plain": [
       "(0, 1, 2, 3, 4, 5, 6, 7, 8, 9)"
      ]
     },
     "execution_count": 131,
     "metadata": {},
     "output_type": "execute_result"
    }
   ],
   "source": [
    "tuple(i for i in range(10))"
   ]
  },
  {
   "cell_type": "code",
   "execution_count": 132,
   "id": "8addcf5c",
   "metadata": {},
   "outputs": [
    {
     "ename": "TypeError",
     "evalue": "'int' object is not iterable",
     "output_type": "error",
     "traceback": [
      "\u001b[1;31m---------------------------------------------------------------------------\u001b[0m",
      "\u001b[1;31mTypeError\u001b[0m                                 Traceback (most recent call last)",
      "\u001b[1;32m<ipython-input-132-a22dd51ce2fc>\u001b[0m in \u001b[0;36m<module>\u001b[1;34m\u001b[0m\n\u001b[0;32m      1\u001b[0m \u001b[0ma\u001b[0m \u001b[1;33m=\u001b[0m\u001b[1;36m56\u001b[0m\u001b[1;33m\u001b[0m\u001b[1;33m\u001b[0m\u001b[0m\n\u001b[1;32m----> 2\u001b[1;33m \u001b[1;32mfor\u001b[0m \u001b[0mi\u001b[0m \u001b[1;32min\u001b[0m \u001b[0ma\u001b[0m\u001b[1;33m:\u001b[0m\u001b[1;33m\u001b[0m\u001b[1;33m\u001b[0m\u001b[0m\n\u001b[0m\u001b[0;32m      3\u001b[0m     \u001b[0mprint\u001b[0m\u001b[1;33m(\u001b[0m\u001b[0mi\u001b[0m\u001b[1;33m)\u001b[0m\u001b[1;33m\u001b[0m\u001b[1;33m\u001b[0m\u001b[0m\n",
      "\u001b[1;31mTypeError\u001b[0m: 'int' object is not iterable"
     ]
    }
   ],
   "source": [
    "a =56\n",
    "for i in a:\n",
    "    print(i)"
   ]
  },
  {
   "cell_type": "code",
   "execution_count": 133,
   "id": "43015915",
   "metadata": {},
   "outputs": [
    {
     "name": "stdout",
     "output_type": "stream",
     "text": [
      "s\n",
      "u\n",
      "d\n",
      "h\n"
     ]
    }
   ],
   "source": [
    "s = \"sudh\"\n",
    "for i in s:\n",
    "    print (i)"
   ]
  },
  {
   "cell_type": "code",
   "execution_count": 134,
   "id": "a7d4a36b",
   "metadata": {},
   "outputs": [
    {
     "ename": "TypeError",
     "evalue": "'str' object is not an iterator",
     "output_type": "error",
     "traceback": [
      "\u001b[1;31m---------------------------------------------------------------------------\u001b[0m",
      "\u001b[1;31mTypeError\u001b[0m                                 Traceback (most recent call last)",
      "\u001b[1;32m<ipython-input-134-61c30b5fe1d5>\u001b[0m in \u001b[0;36m<module>\u001b[1;34m\u001b[0m\n\u001b[1;32m----> 1\u001b[1;33m \u001b[0mnext\u001b[0m\u001b[1;33m(\u001b[0m\u001b[0ms\u001b[0m\u001b[1;33m)\u001b[0m\u001b[1;33m\u001b[0m\u001b[1;33m\u001b[0m\u001b[0m\n\u001b[0m",
      "\u001b[1;31mTypeError\u001b[0m: 'str' object is not an iterator"
     ]
    }
   ],
   "source": [
    "next(s)"
   ]
  },
  {
   "cell_type": "code",
   "execution_count": 135,
   "id": "9ef2d1f4",
   "metadata": {},
   "outputs": [],
   "source": [
    "b=iter(s)"
   ]
  },
  {
   "cell_type": "code",
   "execution_count": 136,
   "id": "c3d3ea3b",
   "metadata": {},
   "outputs": [
    {
     "data": {
      "text/plain": [
       "<str_iterator at 0x1894648bac0>"
      ]
     },
     "execution_count": 136,
     "metadata": {},
     "output_type": "execute_result"
    }
   ],
   "source": [
    "b"
   ]
  },
  {
   "cell_type": "code",
   "execution_count": 137,
   "id": "8f02382e",
   "metadata": {},
   "outputs": [
    {
     "data": {
      "text/plain": [
       "'s'"
      ]
     },
     "execution_count": 137,
     "metadata": {},
     "output_type": "execute_result"
    }
   ],
   "source": [
    "next(b)"
   ]
  },
  {
   "cell_type": "code",
   "execution_count": 138,
   "id": "9dc8deee",
   "metadata": {},
   "outputs": [
    {
     "data": {
      "text/plain": [
       "<str_iterator at 0x1894648bac0>"
      ]
     },
     "execution_count": 138,
     "metadata": {},
     "output_type": "execute_result"
    }
   ],
   "source": [
    "b"
   ]
  },
  {
   "cell_type": "code",
   "execution_count": 139,
   "id": "926d710a",
   "metadata": {},
   "outputs": [
    {
     "data": {
      "text/plain": [
       "'u'"
      ]
     },
     "execution_count": 139,
     "metadata": {},
     "output_type": "execute_result"
    }
   ],
   "source": [
    "next(b)"
   ]
  },
  {
   "cell_type": "code",
   "execution_count": 140,
   "id": "f968f6af",
   "metadata": {},
   "outputs": [
    {
     "data": {
      "text/plain": [
       "'d'"
      ]
     },
     "execution_count": 140,
     "metadata": {},
     "output_type": "execute_result"
    }
   ],
   "source": [
    "next(b)"
   ]
  },
  {
   "cell_type": "code",
   "execution_count": 141,
   "id": "0d2bfbc0",
   "metadata": {},
   "outputs": [
    {
     "name": "stdout",
     "output_type": "stream",
     "text": [
      "e\n",
      "x\n",
      "a\n",
      "m\n",
      "p\n",
      "l\n",
      "e\n"
     ]
    }
   ],
   "source": [
    "s =\"example\"\n",
    "for i in s:\n",
    "    print(i)"
   ]
  },
  {
   "cell_type": "code",
   "execution_count": 142,
   "id": "79fe72d0",
   "metadata": {},
   "outputs": [],
   "source": [
    "s= iter(s)"
   ]
  },
  {
   "cell_type": "code",
   "execution_count": 143,
   "id": "ff79c031",
   "metadata": {},
   "outputs": [
    {
     "data": {
      "text/plain": [
       "'e'"
      ]
     },
     "execution_count": 143,
     "metadata": {},
     "output_type": "execute_result"
    }
   ],
   "source": [
    "next(s)"
   ]
  },
  {
   "cell_type": "code",
   "execution_count": 144,
   "id": "510d6bb7",
   "metadata": {},
   "outputs": [
    {
     "data": {
      "text/plain": [
       "'x'"
      ]
     },
     "execution_count": 144,
     "metadata": {},
     "output_type": "execute_result"
    }
   ],
   "source": [
    "next(s)"
   ]
  },
  {
   "cell_type": "code",
   "execution_count": 145,
   "id": "0778bb04",
   "metadata": {},
   "outputs": [
    {
     "data": {
      "text/plain": [
       "'a'"
      ]
     },
     "execution_count": 145,
     "metadata": {},
     "output_type": "execute_result"
    }
   ],
   "source": [
    "next(s)"
   ]
  },
  {
   "cell_type": "code",
   "execution_count": 146,
   "id": "df22f66b",
   "metadata": {},
   "outputs": [
    {
     "data": {
      "text/plain": [
       "'m'"
      ]
     },
     "execution_count": 146,
     "metadata": {},
     "output_type": "execute_result"
    }
   ],
   "source": [
    "next(s)"
   ]
  },
  {
   "cell_type": "code",
   "execution_count": 147,
   "id": "2e49e011",
   "metadata": {},
   "outputs": [
    {
     "data": {
      "text/plain": [
       "'p'"
      ]
     },
     "execution_count": 147,
     "metadata": {},
     "output_type": "execute_result"
    }
   ],
   "source": [
    "next(s)"
   ]
  },
  {
   "cell_type": "code",
   "execution_count": 148,
   "id": "36c14827",
   "metadata": {},
   "outputs": [
    {
     "data": {
      "text/plain": [
       "'l'"
      ]
     },
     "execution_count": 148,
     "metadata": {},
     "output_type": "execute_result"
    }
   ],
   "source": [
    "next(s)"
   ]
  },
  {
   "cell_type": "code",
   "execution_count": 149,
   "id": "d1821879",
   "metadata": {},
   "outputs": [
    {
     "data": {
      "text/plain": [
       "'e'"
      ]
     },
     "execution_count": 149,
     "metadata": {},
     "output_type": "execute_result"
    }
   ],
   "source": [
    "next(s)"
   ]
  },
  {
   "cell_type": "code",
   "execution_count": 150,
   "id": "c8e7993e",
   "metadata": {},
   "outputs": [
    {
     "ename": "StopIteration",
     "evalue": "",
     "output_type": "error",
     "traceback": [
      "\u001b[1;31m---------------------------------------------------------------------------\u001b[0m",
      "\u001b[1;31mStopIteration\u001b[0m                             Traceback (most recent call last)",
      "\u001b[1;32m<ipython-input-150-61c30b5fe1d5>\u001b[0m in \u001b[0;36m<module>\u001b[1;34m\u001b[0m\n\u001b[1;32m----> 1\u001b[1;33m \u001b[0mnext\u001b[0m\u001b[1;33m(\u001b[0m\u001b[0ms\u001b[0m\u001b[1;33m)\u001b[0m\u001b[1;33m\u001b[0m\u001b[1;33m\u001b[0m\u001b[0m\n\u001b[0m",
      "\u001b[1;31mStopIteration\u001b[0m: "
     ]
    }
   ],
   "source": [
    "next(s)"
   ]
  },
  {
   "cell_type": "code",
   "execution_count": 166,
   "id": "96f2ee39",
   "metadata": {},
   "outputs": [],
   "source": [
    "l =[3,4,5,6,6]"
   ]
  },
  {
   "cell_type": "code",
   "execution_count": 167,
   "id": "9c8c247f",
   "metadata": {},
   "outputs": [
    {
     "ename": "TypeError",
     "evalue": "'list' object is not an iterator",
     "output_type": "error",
     "traceback": [
      "\u001b[1;31m---------------------------------------------------------------------------\u001b[0m",
      "\u001b[1;31mTypeError\u001b[0m                                 Traceback (most recent call last)",
      "\u001b[1;32m<ipython-input-167-cdc8a39da60d>\u001b[0m in \u001b[0;36m<module>\u001b[1;34m\u001b[0m\n\u001b[1;32m----> 1\u001b[1;33m \u001b[0mnext\u001b[0m\u001b[1;33m(\u001b[0m\u001b[0ml\u001b[0m\u001b[1;33m)\u001b[0m\u001b[1;33m\u001b[0m\u001b[1;33m\u001b[0m\u001b[0m\n\u001b[0m",
      "\u001b[1;31mTypeError\u001b[0m: 'list' object is not an iterator"
     ]
    }
   ],
   "source": [
    "next(l)"
   ]
  },
  {
   "cell_type": "code",
   "execution_count": 168,
   "id": "48f4f7cc",
   "metadata": {},
   "outputs": [
    {
     "ename": "TypeError",
     "evalue": "'int' object is not iterable",
     "output_type": "error",
     "traceback": [
      "\u001b[1;31m---------------------------------------------------------------------------\u001b[0m",
      "\u001b[1;31mTypeError\u001b[0m                                 Traceback (most recent call last)",
      "\u001b[1;32m<ipython-input-168-e50867f8c07e>\u001b[0m in \u001b[0;36m<module>\u001b[1;34m\u001b[0m\n\u001b[1;32m----> 1\u001b[1;33m \u001b[0miter\u001b[0m\u001b[1;33m(\u001b[0m\u001b[1;36m45\u001b[0m\u001b[1;33m)\u001b[0m\u001b[1;33m\u001b[0m\u001b[1;33m\u001b[0m\u001b[0m\n\u001b[0m",
      "\u001b[1;31mTypeError\u001b[0m: 'int' object is not iterable"
     ]
    }
   ],
   "source": [
    "iter(45)"
   ]
  },
  {
   "cell_type": "code",
   "execution_count": 169,
   "id": "aa50f946",
   "metadata": {},
   "outputs": [
    {
     "data": {
      "text/plain": [
       "[3, 4, 5, 6, 6]"
      ]
     },
     "execution_count": 169,
     "metadata": {},
     "output_type": "execute_result"
    }
   ],
   "source": [
    "l "
   ]
  },
  {
   "cell_type": "code",
   "execution_count": 170,
   "id": "e9bf1a42",
   "metadata": {},
   "outputs": [],
   "source": [
    "l=iter(l)"
   ]
  },
  {
   "cell_type": "code",
   "execution_count": 171,
   "id": "d57d0c50",
   "metadata": {},
   "outputs": [
    {
     "data": {
      "text/plain": [
       "3"
      ]
     },
     "execution_count": 171,
     "metadata": {},
     "output_type": "execute_result"
    }
   ],
   "source": [
    "next(l)"
   ]
  },
  {
   "cell_type": "code",
   "execution_count": 172,
   "id": "94cecab5",
   "metadata": {},
   "outputs": [
    {
     "data": {
      "text/plain": [
       "4"
      ]
     },
     "execution_count": 172,
     "metadata": {},
     "output_type": "execute_result"
    }
   ],
   "source": [
    "next(l)"
   ]
  },
  {
   "cell_type": "code",
   "execution_count": 173,
   "id": "030a511e",
   "metadata": {},
   "outputs": [
    {
     "data": {
      "text/plain": [
       "5"
      ]
     },
     "execution_count": 173,
     "metadata": {},
     "output_type": "execute_result"
    }
   ],
   "source": [
    "next(l)"
   ]
  },
  {
   "cell_type": "code",
   "execution_count": 174,
   "id": "173b2c6f",
   "metadata": {},
   "outputs": [
    {
     "data": {
      "text/plain": [
       "6"
      ]
     },
     "execution_count": 174,
     "metadata": {},
     "output_type": "execute_result"
    }
   ],
   "source": [
    "next(l)"
   ]
  },
  {
   "cell_type": "code",
   "execution_count": 175,
   "id": "a8c3edd3",
   "metadata": {},
   "outputs": [
    {
     "data": {
      "text/plain": [
       "6"
      ]
     },
     "execution_count": 175,
     "metadata": {},
     "output_type": "execute_result"
    }
   ],
   "source": [
    "next(l)"
   ]
  },
  {
   "cell_type": "code",
   "execution_count": 176,
   "id": "68249990",
   "metadata": {},
   "outputs": [
    {
     "ename": "StopIteration",
     "evalue": "",
     "output_type": "error",
     "traceback": [
      "\u001b[1;31m---------------------------------------------------------------------------\u001b[0m",
      "\u001b[1;31mStopIteration\u001b[0m                             Traceback (most recent call last)",
      "\u001b[1;32m<ipython-input-176-cdc8a39da60d>\u001b[0m in \u001b[0;36m<module>\u001b[1;34m\u001b[0m\n\u001b[1;32m----> 1\u001b[1;33m \u001b[0mnext\u001b[0m\u001b[1;33m(\u001b[0m\u001b[0ml\u001b[0m\u001b[1;33m)\u001b[0m\u001b[1;33m\u001b[0m\u001b[1;33m\u001b[0m\u001b[0m\n\u001b[0m",
      "\u001b[1;31mStopIteration\u001b[0m: "
     ]
    }
   ],
   "source": [
    "next(l)"
   ]
  },
  {
   "cell_type": "code",
   "execution_count": 177,
   "id": "b6dd8820",
   "metadata": {},
   "outputs": [
    {
     "name": "stdout",
     "output_type": "stream",
     "text": [
      "1\n",
      "2\n",
      "3\n"
     ]
    },
    {
     "ename": "StopIteration",
     "evalue": "",
     "output_type": "error",
     "traceback": [
      "\u001b[1;31m---------------------------------------------------------------------------\u001b[0m",
      "\u001b[1;31mStopIteration\u001b[0m                             Traceback (most recent call last)",
      "\u001b[1;32m<ipython-input-177-52276008919d>\u001b[0m in \u001b[0;36m<module>\u001b[1;34m\u001b[0m\n\u001b[0;32m     21\u001b[0m \u001b[1;33m\u001b[0m\u001b[0m\n\u001b[0;32m     22\u001b[0m \u001b[1;31m# raises StopIteration\u001b[0m\u001b[1;33m\u001b[0m\u001b[1;33m\u001b[0m\u001b[1;33m\u001b[0m\u001b[0m\n\u001b[1;32m---> 23\u001b[1;33m \u001b[0mprint\u001b[0m\u001b[1;33m(\u001b[0m\u001b[0mnext\u001b[0m\u001b[1;33m(\u001b[0m\u001b[0mprint_num_iter\u001b[0m\u001b[1;33m)\u001b[0m\u001b[1;33m)\u001b[0m\u001b[1;33m\u001b[0m\u001b[1;33m\u001b[0m\u001b[0m\n\u001b[0m",
      "\u001b[1;32m<ipython-input-177-52276008919d>\u001b[0m in \u001b[0;36m__next__\u001b[1;34m(self)\u001b[0m\n\u001b[0;32m      9\u001b[0m     \u001b[1;32mdef\u001b[0m \u001b[0m__next__\u001b[0m\u001b[1;33m(\u001b[0m\u001b[0mself\u001b[0m\u001b[1;33m)\u001b[0m\u001b[1;33m:\u001b[0m\u001b[1;33m\u001b[0m\u001b[1;33m\u001b[0m\u001b[0m\n\u001b[0;32m     10\u001b[0m         \u001b[1;32mif\u001b[0m\u001b[1;33m(\u001b[0m\u001b[0mself\u001b[0m\u001b[1;33m.\u001b[0m\u001b[0mnum\u001b[0m \u001b[1;33m>=\u001b[0m \u001b[0mself\u001b[0m\u001b[1;33m.\u001b[0m\u001b[0mmax\u001b[0m\u001b[1;33m)\u001b[0m\u001b[1;33m:\u001b[0m\u001b[1;33m\u001b[0m\u001b[1;33m\u001b[0m\u001b[0m\n\u001b[1;32m---> 11\u001b[1;33m             \u001b[1;32mraise\u001b[0m \u001b[0mStopIteration\u001b[0m\u001b[1;33m\u001b[0m\u001b[1;33m\u001b[0m\u001b[0m\n\u001b[0m\u001b[0;32m     12\u001b[0m         \u001b[0mself\u001b[0m\u001b[1;33m.\u001b[0m\u001b[0mnum\u001b[0m \u001b[1;33m+=\u001b[0m \u001b[1;36m1\u001b[0m\u001b[1;33m\u001b[0m\u001b[1;33m\u001b[0m\u001b[0m\n\u001b[0;32m     13\u001b[0m         \u001b[1;32mreturn\u001b[0m \u001b[0mself\u001b[0m\u001b[1;33m.\u001b[0m\u001b[0mnum\u001b[0m\u001b[1;33m\u001b[0m\u001b[1;33m\u001b[0m\u001b[0m\n",
      "\u001b[1;31mStopIteration\u001b[0m: "
     ]
    }
   ],
   "source": [
    "class PrintNumber:\n",
    "    def __init__(self, max):\n",
    "        self.max = max\n",
    "\n",
    "    def __iter__(self):\n",
    "        self.num = 0\n",
    "        return self\n",
    "\n",
    "    def __next__(self):\n",
    "        if(self.num >= self.max):\n",
    "            raise StopIteration\n",
    "        self.num += 1\n",
    "        return self.num\n",
    "\n",
    "print_num = PrintNumber(3)\n",
    "\n",
    "print_num_iter = iter(print_num)\n",
    "print(next(print_num_iter))  \n",
    "print(next(print_num_iter))  \n",
    "print(next(print_num_iter))  \n",
    "\n",
    "# raises StopIteration\n",
    "print(next(print_num_iter))\n"
   ]
  },
  {
   "cell_type": "code",
   "execution_count": 178,
   "id": "6ccef1db",
   "metadata": {},
   "outputs": [
    {
     "name": "stdout",
     "output_type": "stream",
     "text": [
      "1\n",
      "2\n",
      "3\n"
     ]
    },
    {
     "ename": "StopIteration",
     "evalue": "",
     "output_type": "error",
     "traceback": [
      "\u001b[1;31m---------------------------------------------------------------------------\u001b[0m",
      "\u001b[1;31mStopIteration\u001b[0m                             Traceback (most recent call last)",
      "\u001b[1;32m<ipython-input-178-7a2d9b97ffb3>\u001b[0m in \u001b[0;36m<module>\u001b[1;34m\u001b[0m\n\u001b[0;32m     11\u001b[0m \u001b[0mprint\u001b[0m\u001b[1;33m(\u001b[0m\u001b[0mnext\u001b[0m\u001b[1;33m(\u001b[0m\u001b[0mprint_num_iter\u001b[0m\u001b[1;33m)\u001b[0m\u001b[1;33m)\u001b[0m\u001b[1;33m\u001b[0m\u001b[1;33m\u001b[0m\u001b[0m\n\u001b[0;32m     12\u001b[0m \u001b[1;31m# raises StopIteration\u001b[0m\u001b[1;33m\u001b[0m\u001b[1;33m\u001b[0m\u001b[1;33m\u001b[0m\u001b[0m\n\u001b[1;32m---> 13\u001b[1;33m \u001b[0mprint\u001b[0m\u001b[1;33m(\u001b[0m\u001b[0mnext\u001b[0m\u001b[1;33m(\u001b[0m\u001b[0mprint_num_iter\u001b[0m\u001b[1;33m)\u001b[0m\u001b[1;33m)\u001b[0m\u001b[1;33m\u001b[0m\u001b[1;33m\u001b[0m\u001b[0m\n\u001b[0m",
      "\u001b[1;32m<ipython-input-177-52276008919d>\u001b[0m in \u001b[0;36m__next__\u001b[1;34m(self)\u001b[0m\n\u001b[0;32m      9\u001b[0m     \u001b[1;32mdef\u001b[0m \u001b[0m__next__\u001b[0m\u001b[1;33m(\u001b[0m\u001b[0mself\u001b[0m\u001b[1;33m)\u001b[0m\u001b[1;33m:\u001b[0m\u001b[1;33m\u001b[0m\u001b[1;33m\u001b[0m\u001b[0m\n\u001b[0;32m     10\u001b[0m         \u001b[1;32mif\u001b[0m\u001b[1;33m(\u001b[0m\u001b[0mself\u001b[0m\u001b[1;33m.\u001b[0m\u001b[0mnum\u001b[0m \u001b[1;33m>=\u001b[0m \u001b[0mself\u001b[0m\u001b[1;33m.\u001b[0m\u001b[0mmax\u001b[0m\u001b[1;33m)\u001b[0m\u001b[1;33m:\u001b[0m\u001b[1;33m\u001b[0m\u001b[1;33m\u001b[0m\u001b[0m\n\u001b[1;32m---> 11\u001b[1;33m             \u001b[1;32mraise\u001b[0m \u001b[0mStopIteration\u001b[0m\u001b[1;33m\u001b[0m\u001b[1;33m\u001b[0m\u001b[0m\n\u001b[0m\u001b[0;32m     12\u001b[0m         \u001b[0mself\u001b[0m\u001b[1;33m.\u001b[0m\u001b[0mnum\u001b[0m \u001b[1;33m+=\u001b[0m \u001b[1;36m1\u001b[0m\u001b[1;33m\u001b[0m\u001b[1;33m\u001b[0m\u001b[0m\n\u001b[0;32m     13\u001b[0m         \u001b[1;32mreturn\u001b[0m \u001b[0mself\u001b[0m\u001b[1;33m.\u001b[0m\u001b[0mnum\u001b[0m\u001b[1;33m\u001b[0m\u001b[1;33m\u001b[0m\u001b[0m\n",
      "\u001b[1;31mStopIteration\u001b[0m: "
     ]
    }
   ],
   "source": [
    "s = \"sudh\"\n",
    "s1 = iter(s)\n",
    "next(s1)\n",
    "next(s1)\n",
    "\n",
    "print_num = PrintNumber(3)\n",
    "\n",
    "print_num_iter = iter(print_num)\n",
    "print(next(print_num_iter))  \n",
    "print(next(print_num_iter))  \n",
    "print(next(print_num_iter))  \n",
    "# raises StopIteration\n",
    "print(next(print_num_iter))\n"
   ]
  },
  {
   "cell_type": "code",
   "execution_count": 179,
   "id": "aa1bba96",
   "metadata": {},
   "outputs": [],
   "source": [
    "def test6(*args):\n",
    "    l =[]\n",
    "    for i in args:\n",
    "        \n",
    "        if type(i)  == list:\n",
    "            l.append(i)\n",
    "    return l\n"
   ]
  },
  {
   "cell_type": "code",
   "execution_count": 180,
   "id": "ec5e809c",
   "metadata": {},
   "outputs": [
    {
     "data": {
      "text/plain": [
       "[]"
      ]
     },
     "execution_count": 180,
     "metadata": {},
     "output_type": "execute_result"
    }
   ],
   "source": [
    "list(l)"
   ]
  },
  {
   "cell_type": "code",
   "execution_count": 181,
   "id": "4c96b673",
   "metadata": {},
   "outputs": [
    {
     "name": "stdout",
     "output_type": "stream",
     "text": [
      "{4: 'd', 1: 'a', 2: 'b', 3: 'c'}\n"
     ]
    },
    {
     "data": {
      "text/plain": [
       "{4: 'd', 1: 'a', 2: 'b', 3: 'c'}"
      ]
     },
     "execution_count": 181,
     "metadata": {},
     "output_type": "execute_result"
    }
   ],
   "source": [
    "a={1:\"a\",2:\"b\",3:\"c\"}\n",
    "up={4:\"d\"}\n",
    "def insertion_beginning(dic,upk):\n",
    "      upk.update(dic)\n",
    "      print(upk)\n",
    "      return upk\n",
    "insertion_beginning(a,up)\n"
   ]
  },
  {
   "cell_type": "code",
   "execution_count": 182,
   "id": "e53a8c12",
   "metadata": {},
   "outputs": [],
   "source": [
    "def test21(d, e):\n",
    "    c = 5 # local declaration\n",
    "    d = 10\n",
    "    return c*d\n"
   ]
  },
  {
   "cell_type": "code",
   "execution_count": 183,
   "id": "c0e141c4",
   "metadata": {},
   "outputs": [
    {
     "data": {
      "text/plain": [
       "50"
      ]
     },
     "execution_count": 183,
     "metadata": {},
     "output_type": "execute_result"
    }
   ],
   "source": [
    "test21(4,5)"
   ]
  },
  {
   "cell_type": "code",
   "execution_count": 199,
   "id": "c0fb94d0",
   "metadata": {},
   "outputs": [
    {
     "data": {
      "text/plain": [
       "50"
      ]
     },
     "execution_count": 199,
     "metadata": {},
     "output_type": "execute_result"
    }
   ],
   "source": [
    "test21(50 , 45)"
   ]
  },
  {
   "cell_type": "code",
   "execution_count": 200,
   "id": "17202fbd",
   "metadata": {},
   "outputs": [
    {
     "data": {
      "text/plain": [
       "{0: 0, 1: 1, 2: 4, 3: 9, 4: 16, 5: 25, 6: 36, 7: 49, 8: 64, 9: 81}"
      ]
     },
     "execution_count": 200,
     "metadata": {},
     "output_type": "execute_result"
    }
   ],
   "source": [
    "d"
   ]
  },
  {
   "cell_type": "code",
   "execution_count": 201,
   "id": "30ee9028",
   "metadata": {},
   "outputs": [],
   "source": [
    "l = [3,4,5,6,76]"
   ]
  },
  {
   "cell_type": "code",
   "execution_count": 202,
   "id": "bc88d99d",
   "metadata": {},
   "outputs": [
    {
     "data": {
      "text/plain": [
       "5"
      ]
     },
     "execution_count": 202,
     "metadata": {},
     "output_type": "execute_result"
    }
   ],
   "source": [
    "len(l)"
   ]
  },
  {
   "cell_type": "code",
   "execution_count": 203,
   "id": "cee9304c",
   "metadata": {},
   "outputs": [],
   "source": [
    "def test(*ankit):\n",
    "    for i in ankit:\n",
    "        \n",
    "        if type(i)==list:\n",
    "            return ankit"
   ]
  },
  {
   "cell_type": "code",
   "execution_count": 204,
   "id": "61a76902",
   "metadata": {},
   "outputs": [
    {
     "data": {
      "text/plain": [
       "(345, 56, 56, 56, 5, 6, 56, 56, [3, 4, 56, 7, 67, 6, 7])"
      ]
     },
     "execution_count": 204,
     "metadata": {},
     "output_type": "execute_result"
    }
   ],
   "source": [
    "test(345,56,56,56,5,6,56,56,[3,4,56,7,67,6,7])"
   ]
  },
  {
   "cell_type": "code",
   "execution_count": 228,
   "id": "8e8fd76e",
   "metadata": {},
   "outputs": [
    {
     "name": "stdout",
     "output_type": "stream",
     "text": [
      "[1, 2, [3, 4, 5, 't', 't', 't', 't']]\n",
      "[1, 2, [3, 4, 5, 't', 't', 't', 't']]\n"
     ]
    },
    {
     "ename": "ValueError",
     "evalue": "list.remove(x): x not in list",
     "output_type": "error",
     "traceback": [
      "\u001b[1;31m---------------------------------------------------------------------------\u001b[0m",
      "\u001b[1;31mValueError\u001b[0m                                Traceback (most recent call last)",
      "\u001b[1;32m<ipython-input-228-7053603ad75a>\u001b[0m in \u001b[0;36m<module>\u001b[1;34m\u001b[0m\n\u001b[0;32m      5\u001b[0m         \u001b[1;32mfor\u001b[0m \u001b[0meach\u001b[0m \u001b[1;32min\u001b[0m \u001b[0mi\u001b[0m\u001b[1;33m:\u001b[0m\u001b[1;33m\u001b[0m\u001b[1;33m\u001b[0m\u001b[0m\n\u001b[0;32m      6\u001b[0m             \u001b[1;32mif\u001b[0m \u001b[0mtype\u001b[0m\u001b[1;33m(\u001b[0m\u001b[0meach\u001b[0m\u001b[1;33m)\u001b[0m\u001b[1;33m==\u001b[0m\u001b[0mstr\u001b[0m\u001b[1;33m:\u001b[0m\u001b[1;33m\u001b[0m\u001b[1;33m\u001b[0m\u001b[0m\n\u001b[1;32m----> 7\u001b[1;33m                 \u001b[0ml155\u001b[0m\u001b[1;33m.\u001b[0m\u001b[0mremove\u001b[0m\u001b[1;33m(\u001b[0m\u001b[0meach\u001b[0m\u001b[1;33m)\u001b[0m\u001b[1;33m\u001b[0m\u001b[1;33m\u001b[0m\u001b[0m\n\u001b[0m\u001b[0;32m      8\u001b[0m                 \u001b[1;32mcontinue\u001b[0m\u001b[1;33m\u001b[0m\u001b[1;33m\u001b[0m\u001b[0m\n\u001b[0;32m      9\u001b[0m     \u001b[0mprint\u001b[0m\u001b[1;33m(\u001b[0m\u001b[0ml155\u001b[0m\u001b[1;33m)\u001b[0m\u001b[1;33m\u001b[0m\u001b[1;33m\u001b[0m\u001b[0m\n",
      "\u001b[1;31mValueError\u001b[0m: list.remove(x): x not in list"
     ]
    }
   ],
   "source": [
    "l155=[1,2,[3,4,5,'t','t','t','t']]\n",
    "for i in l155:\n",
    "    l1=[]\n",
    "    if type(i)==list:\n",
    "        for each in i:\n",
    "            if type(each)==str:\n",
    "                l155.remove(each)\n",
    "                continue\n",
    "    print(l155)"
   ]
  },
  {
   "cell_type": "code",
   "execution_count": 206,
   "id": "9ca12ec2",
   "metadata": {},
   "outputs": [
    {
     "data": {
      "text/plain": [
       "[(1, 2), (9, 6)]"
      ]
     },
     "execution_count": 206,
     "metadata": {},
     "output_type": "execute_result"
    }
   ],
   "source": [
    "l1"
   ]
  },
  {
   "cell_type": "code",
   "execution_count": 207,
   "id": "d64e308e",
   "metadata": {},
   "outputs": [],
   "source": [
    "l = [3,4,5,'t','t','t','t']\n",
    "l.remove(\"t\")"
   ]
  },
  {
   "cell_type": "code",
   "execution_count": 208,
   "id": "fc7e0f2b",
   "metadata": {},
   "outputs": [
    {
     "data": {
      "text/plain": [
       "[3, 4, 5, 't', 't', 't']"
      ]
     },
     "execution_count": 208,
     "metadata": {},
     "output_type": "execute_result"
    }
   ],
   "source": [
    "l"
   ]
  },
  {
   "cell_type": "code",
   "execution_count": 229,
   "id": "69913ffb",
   "metadata": {},
   "outputs": [],
   "source": [
    "l333=[[1, 2],\n",
    " (3+4j),\n",
    " [3, 'shubham', 'shubham'],\n",
    " [5, 'nandan'],\n",
    " ['srivastava'],\n",
    " [7, 8],\n",
    " [9, 10]]\n",
    "for i in l333:\n",
    "    if type(i)==list:\n",
    "        j=0\n",
    "        while j < len(i):\n",
    "            if type(i[j])==str:\n",
    "                i.remove(i[j])\n",
    "                continue\n",
    "                \n",
    "            j=j+1\n"
   ]
  },
  {
   "cell_type": "code",
   "execution_count": 210,
   "id": "9b7a7e0c",
   "metadata": {},
   "outputs": [
    {
     "name": "stdout",
     "output_type": "stream",
     "text": [
      "bar car\n",
      "100 200\n",
      "bar car\n",
      "bar car\n",
      "bar car\n",
      "100 200\n"
     ]
    }
   ],
   "source": [
    "# this works\n",
    "spam={'bar':100,'car':200}\n",
    "\n",
    "for cat1,cat2 in spam.keys(),spam.values():\n",
    "    print(cat1,cat2)\n",
    "\n",
    "# this works\n",
    "spam = {'bar': 100, 'car': 200}\n",
    "\n",
    "for cat1, cat2 in spam,spam.keys():# also works with spam,spam.value()\n",
    "    print(cat1, cat2)\n",
    "\n",
    "# this would not work\n",
    "\n",
    "spam = {'bar': 100, 'car': 200}\n",
    "\n",
    "for cat1, cat2 in spam.keys(), spam.values():# also works with spam,spam.value()\n",
    "    print(cat1, cat2)\n"
   ]
  },
  {
   "cell_type": "code",
   "execution_count": 211,
   "id": "4e8348cb",
   "metadata": {},
   "outputs": [
    {
     "name": "stdout",
     "output_type": "stream",
     "text": [
      "bar\n",
      "car\n"
     ]
    }
   ],
   "source": [
    "for i in spam:\n",
    "    print(i)"
   ]
  },
  {
   "cell_type": "code",
   "execution_count": 212,
   "id": "a677e0a0",
   "metadata": {},
   "outputs": [
    {
     "data": {
      "text/plain": [
       "dict_keys(['bar', 'car'])"
      ]
     },
     "execution_count": 212,
     "metadata": {},
     "output_type": "execute_result"
    }
   ],
   "source": [
    "spam.keys()"
   ]
  },
  {
   "cell_type": "code",
   "execution_count": 213,
   "id": "269223a7",
   "metadata": {},
   "outputs": [
    {
     "data": {
      "text/plain": [
       "dict_values([100, 200])"
      ]
     },
     "execution_count": 213,
     "metadata": {},
     "output_type": "execute_result"
    }
   ],
   "source": [
    "spam.values()"
   ]
  },
  {
   "cell_type": "code",
   "execution_count": 233,
   "id": "9c814f85",
   "metadata": {},
   "outputs": [
    {
     "data": {
      "text/plain": [
       "[6, 7, 8]"
      ]
     },
     "execution_count": 233,
     "metadata": {},
     "output_type": "execute_result"
    }
   ],
   "source": [
    " d= lambda *a,b:[i+b for i in a ]\n",
    "d(1,2, 3,b=5)\n",
    "\n",
    "\n"
   ]
  },
  {
   "cell_type": "code",
   "execution_count": 215,
   "id": "ac408862",
   "metadata": {},
   "outputs": [],
   "source": [
    "def power(n0,powr):\n",
    "    \"\"\"\n",
    "    Power Function \n",
    "    \"\"\"\n",
    "    return int(n0) ** int(powr)\n",
    "\n",
    "def add(n0,n1):\n",
    "    \"\"\"\n",
    "    Addition Function\n",
    "    \"\"\"\n",
    "    return int(n0) + int(n1)\n",
    "\n",
    "def sub(n0,n1):\n",
    "    \"\"\"\n",
    "    Subtraction Function\n",
    "    \"\"\"\n",
    "    return int(n0) - int(n1)\n",
    "\n",
    "def mul(n0,n1):\n",
    "    \"\"\"\n",
    "    Multiplication Function\n",
    "    \"\"\"\n",
    "    return int(n0) * int(n1)\n",
    "\n",
    "def div(n0,n1):\n",
    "    \"\"\"\n",
    "    Divison Function\n",
    "    \"\"\"\n",
    "    try:\n",
    "        return int(n0) / int(n1)\n",
    "    except Exception as e:\n",
    "        return e.__class__\n"
   ]
  },
  {
   "cell_type": "code",
   "execution_count": 216,
   "id": "98af18bc",
   "metadata": {},
   "outputs": [],
   "source": [
    "def opr(function, n0, n1):\n",
    "    \"\"\"\n",
    "    This function is used to call builtin functions like power, add, sub, mul, div\n",
    "    Inputs are as follows function_name, Number 1 , Number 2\n",
    "    \"\"\"\n",
    "    try:\n",
    "        if(function == power or function == add or function == sub or function == mul or function == div):\n",
    "            return function(n0, n1)\n",
    "        elif (function == coc):\n",
    "            return \"check the function name\"\n",
    "    except NameError:\n",
    "        return NameError\n",
    "    except Exception as e1:    \n",
    "        return e1.__class__\n"
   ]
  },
  {
   "cell_type": "code",
   "execution_count": 217,
   "id": "fd2cef8a",
   "metadata": {},
   "outputs": [
    {
     "data": {
      "text/plain": [
       "NameError"
      ]
     },
     "execution_count": 217,
     "metadata": {},
     "output_type": "execute_result"
    }
   ],
   "source": [
    "opr(a,3,3)"
   ]
  },
  {
   "cell_type": "code",
   "execution_count": 218,
   "id": "aecf3f64",
   "metadata": {},
   "outputs": [
    {
     "data": {
      "text/plain": [
       "{1: 'a', 2: 'b', 3: 'c'}"
      ]
     },
     "execution_count": 218,
     "metadata": {},
     "output_type": "execute_result"
    }
   ],
   "source": [
    "a"
   ]
  },
  {
   "cell_type": "code",
   "execution_count": 219,
   "id": "fd119ee0",
   "metadata": {},
   "outputs": [
    {
     "data": {
      "text/plain": [
       "[0, 1, 2, 11, 22, 'UUUU', 90, 'gyan', 2222]"
      ]
     },
     "execution_count": 219,
     "metadata": {},
     "output_type": "execute_result"
    }
   ],
   "source": [
    "l=[]\n",
    "def test_nested_dict(d):\n",
    "\n",
    "      \n",
    "    for i in d:\n",
    "        if type(d[i])==dict:\n",
    "            test_nested_dict(d[i])\n",
    "            \n",
    "        else:\n",
    "            l.append(d[i])\n",
    "\n",
    "    return l\n",
    "\n",
    "test_nested_dict({'x':0,'one':{'a':1,'b':2,'c':{'p':11,'q':22,'r':{'u':'UUUU','v':{'xx':90,'zz':'gyan'}\n",
    "                                                      }\n",
    "                                   }\n",
    "                        },\n",
    "                  'two':2222})\n"
   ]
  },
  {
   "cell_type": "code",
   "execution_count": 221,
   "id": "6dbec992",
   "metadata": {},
   "outputs": [
    {
     "ename": "IndentationError",
     "evalue": "unindent does not match any outer indentation level (<tokenize>, line 5)",
     "output_type": "error",
     "traceback": [
      "\u001b[1;36m  File \u001b[1;32m\"<tokenize>\"\u001b[1;36m, line \u001b[1;32m5\u001b[0m\n\u001b[1;33m    except:\u001b[0m\n\u001b[1;37m    ^\u001b[0m\n\u001b[1;31mIndentationError\u001b[0m\u001b[1;31m:\u001b[0m unindent does not match any outer indentation level\n"
     ]
    }
   ],
   "source": [
    "try:\n",
    "        global l\n",
    "        if len(l)!=0:\n",
    "            pass\n",
    "    except:\n",
    "        l=[]\n"
   ]
  },
  {
   "cell_type": "code",
   "execution_count": 222,
   "id": "02293586",
   "metadata": {},
   "outputs": [
    {
     "data": {
      "text/plain": [
       "[0,\n",
       " 1,\n",
       " 2,\n",
       " 11,\n",
       " 22,\n",
       " 'UUUU',\n",
       " 90,\n",
       " 'gyan',\n",
       " 2222,\n",
       " 0,\n",
       " 1,\n",
       " 2,\n",
       " 11,\n",
       " 22,\n",
       " 'UUUU',\n",
       " 90,\n",
       " 'gyan',\n",
       " 2222]"
      ]
     },
     "execution_count": 222,
     "metadata": {},
     "output_type": "execute_result"
    }
   ],
   "source": [
    "#l=[]\n",
    "def test_nested_dict(d):\n",
    "    try:\n",
    "        global l\n",
    "        if len(l)!=0:\n",
    "            pass\n",
    "    except:\n",
    "        l=[]\n",
    "        \n",
    "    for i in d:\n",
    "        if type(d[i])==dict:\n",
    "            test_nested_dict(d[i])\n",
    "            \n",
    "        else:\n",
    "            l.append(d[i])\n",
    "\n",
    "    return l\n",
    "\n",
    "test_nested_dict({'x':0,\n",
    "                  'one':{'a':1,'b':2,\n",
    "                               'c':{'p':11,'q':22,'r':{'u':'UUUU',\n",
    "                                                       'v':{'xx':90,'zz':'gyan'}\n",
    "                                                      }\n",
    "                                   }\n",
    "                        },\n",
    "                  'two':2222})\n"
   ]
  },
  {
   "cell_type": "code",
   "execution_count": 223,
   "id": "cd94ef2b",
   "metadata": {},
   "outputs": [
    {
     "name": "stdout",
     "output_type": "stream",
     "text": [
      "Enter the length of the dict354\n",
      "Enter the keys544\n",
      "Enter the values54\n"
     ]
    },
    {
     "ename": "NameError",
     "evalue": "name 'keys' is not defined",
     "output_type": "error",
     "traceback": [
      "\u001b[1;31m---------------------------------------------------------------------------\u001b[0m",
      "\u001b[1;31mNameError\u001b[0m                                 Traceback (most recent call last)",
      "\u001b[1;32m<ipython-input-223-efb6d51c07ca>\u001b[0m in \u001b[0;36m<module>\u001b[1;34m\u001b[0m\n\u001b[0;32m      5\u001b[0m     \u001b[0mv\u001b[0m \u001b[1;33m=\u001b[0m \u001b[0minput\u001b[0m\u001b[1;33m(\u001b[0m\u001b[1;34m\"Enter the values\"\u001b[0m\u001b[1;33m)\u001b[0m\u001b[1;33m\u001b[0m\u001b[1;33m\u001b[0m\u001b[0m\n\u001b[0;32m      6\u001b[0m \u001b[1;33m\u001b[0m\u001b[0m\n\u001b[1;32m----> 7\u001b[1;33m     \u001b[0mprint\u001b[0m\u001b[1;33m(\u001b[0m\u001b[0mkeys\u001b[0m\u001b[1;33m)\u001b[0m\u001b[1;33m\u001b[0m\u001b[1;33m\u001b[0m\u001b[0m\n\u001b[0m\u001b[0;32m      8\u001b[0m \u001b[1;33m\u001b[0m\u001b[0m\n\u001b[0;32m      9\u001b[0m     \u001b[0mprint\u001b[0m\u001b[1;33m(\u001b[0m\u001b[0mvalues\u001b[0m\u001b[1;33m)\u001b[0m\u001b[1;33m\u001b[0m\u001b[1;33m\u001b[0m\u001b[0m\n",
      "\u001b[1;31mNameError\u001b[0m: name 'keys' is not defined"
     ]
    }
   ],
   "source": [
    "N= int(input(\"Enter the length of the dict\"))\n",
    "dict_var={}\n",
    "for i in range(1,N+1):\n",
    "    k = input(\"Enter the keys\")\n",
    "    v = input(\"Enter the values\")\n",
    "    \n",
    "    print(keys)\n",
    "   \n",
    "    print(values)\n",
    "    dict_var[k]=v\n",
    "    #x = {\"keys\": values}\n",
    "print(dict_var)\n"
   ]
  },
  {
   "cell_type": "code",
   "execution_count": 224,
   "id": "781ea4a1",
   "metadata": {},
   "outputs": [],
   "source": [
    "def test():\n",
    "    i = 0\n",
    "    while i< 4:\n",
    "        yield i \n",
    "        i=i+1"
   ]
  },
  {
   "cell_type": "code",
   "execution_count": 225,
   "id": "4f2cd6d4",
   "metadata": {},
   "outputs": [
    {
     "data": {
      "text/plain": [
       "[0, 1, 2, 3]"
      ]
     },
     "execution_count": 225,
     "metadata": {},
     "output_type": "execute_result"
    }
   ],
   "source": [
    "[i for i in test()]"
   ]
  },
  {
   "cell_type": "code",
   "execution_count": 234,
   "id": "6eb1d28f",
   "metadata": {},
   "outputs": [
    {
     "name": "stdout",
     "output_type": "stream",
     "text": [
      "Enter the length of the dicttrg\n"
     ]
    },
    {
     "ename": "ValueError",
     "evalue": "invalid literal for int() with base 10: 'trg'",
     "output_type": "error",
     "traceback": [
      "\u001b[1;31m---------------------------------------------------------------------------\u001b[0m",
      "\u001b[1;31mValueError\u001b[0m                                Traceback (most recent call last)",
      "\u001b[1;32m<ipython-input-234-ca422f2553ff>\u001b[0m in \u001b[0;36m<module>\u001b[1;34m\u001b[0m\n\u001b[1;32m----> 1\u001b[1;33m \u001b[0mN\u001b[0m\u001b[1;33m=\u001b[0m \u001b[0mint\u001b[0m\u001b[1;33m(\u001b[0m\u001b[0minput\u001b[0m\u001b[1;33m(\u001b[0m\u001b[1;34m\"Enter the length of the dict\"\u001b[0m\u001b[1;33m)\u001b[0m\u001b[1;33m)\u001b[0m\u001b[1;33m\u001b[0m\u001b[1;33m\u001b[0m\u001b[0m\n\u001b[0m\u001b[0;32m      2\u001b[0m \u001b[0mdict_var\u001b[0m\u001b[1;33m=\u001b[0m\u001b[1;33m{\u001b[0m\u001b[1;33m}\u001b[0m\u001b[1;33m\u001b[0m\u001b[1;33m\u001b[0m\u001b[0m\n\u001b[0;32m      3\u001b[0m \u001b[1;32mfor\u001b[0m \u001b[0mi\u001b[0m \u001b[1;32min\u001b[0m \u001b[0mrange\u001b[0m\u001b[1;33m(\u001b[0m\u001b[1;36m1\u001b[0m\u001b[1;33m,\u001b[0m\u001b[0mN\u001b[0m\u001b[1;33m+\u001b[0m\u001b[1;36m1\u001b[0m\u001b[1;33m)\u001b[0m\u001b[1;33m:\u001b[0m\u001b[1;33m\u001b[0m\u001b[1;33m\u001b[0m\u001b[0m\n\u001b[0;32m      4\u001b[0m     \u001b[0mk\u001b[0m \u001b[1;33m=\u001b[0m \u001b[0minput\u001b[0m\u001b[1;33m(\u001b[0m\u001b[1;34m\"Enter the keys\"\u001b[0m\u001b[1;33m)\u001b[0m\u001b[1;33m\u001b[0m\u001b[1;33m\u001b[0m\u001b[0m\n\u001b[0;32m      5\u001b[0m     \u001b[0mv\u001b[0m \u001b[1;33m=\u001b[0m \u001b[0minput\u001b[0m\u001b[1;33m(\u001b[0m\u001b[1;34m\"Enter the values\"\u001b[0m\u001b[1;33m)\u001b[0m\u001b[1;33m\u001b[0m\u001b[1;33m\u001b[0m\u001b[0m\n",
      "\u001b[1;31mValueError\u001b[0m: invalid literal for int() with base 10: 'trg'"
     ]
    }
   ],
   "source": [
    "N= int(input(\"Enter the length of the dict\"))\n",
    "dict_var={}\n",
    "for i in range(1,N+1):\n",
    "    k = input(\"Enter the keys\")\n",
    "    v = input(\"Enter the values\")\n",
    "    dict_var[k]=v\n",
    "print(dict_var)\n"
   ]
  },
  {
   "cell_type": "code",
   "execution_count": null,
   "id": "c17b829e",
   "metadata": {},
   "outputs": [],
   "source": []
  }
 ],
 "metadata": {
  "kernelspec": {
   "display_name": "Python 3",
   "language": "python",
   "name": "python3"
  },
  "language_info": {
   "codemirror_mode": {
    "name": "ipython",
    "version": 3
   },
   "file_extension": ".py",
   "mimetype": "text/x-python",
   "name": "python",
   "nbconvert_exporter": "python",
   "pygments_lexer": "ipython3",
   "version": "3.8.8"
  }
 },
 "nbformat": 4,
 "nbformat_minor": 5
}
