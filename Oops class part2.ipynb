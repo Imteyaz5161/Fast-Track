{
 "cells": [
  {
   "cell_type": "code",
   "execution_count": 1,
   "id": "5febd001",
   "metadata": {},
   "outputs": [],
   "source": [
    "class xyz:\n",
    "    def __init__(self,a,b,c):\n",
    "        self.a=a\n",
    "        self.b=b \n",
    "        self.c=c \n",
    "    def test(self):\n",
    "        p;rint(\"this is muy first test motion of xyz class\")\n",
    "    \n",
    "    def test1(self):\n",
    "        print(\"this is a test1 math of xyz class\")\n",
    "        \n",
    "    def test2(self):\n",
    "        print(\"this is my test2 math of xyz class\")"
   ]
  },
  {
   "cell_type": "code",
   "execution_count": 2,
   "id": "46b31d10",
   "metadata": {},
   "outputs": [],
   "source": [
    "p=xyz(1,2,3)"
   ]
  },
  {
   "cell_type": "code",
   "execution_count": 4,
   "id": "6f5d9661",
   "metadata": {},
   "outputs": [
    {
     "name": "stdout",
     "output_type": "stream",
     "text": [
      "this is a test1 math of xyz class\n"
     ]
    }
   ],
   "source": [
    "p.test1()"
   ]
  },
  {
   "cell_type": "code",
   "execution_count": null,
   "id": "607288ea",
   "metadata": {},
   "outputs": [],
   "source": []
  },
  {
   "cell_type": "code",
   "execution_count": 9,
   "id": "db26237d",
   "metadata": {},
   "outputs": [],
   "source": [
    "class xyz1(xyz):\n",
    "    pass"
   ]
  },
  {
   "cell_type": "code",
   "execution_count": 10,
   "id": "9ce7c0ed",
   "metadata": {},
   "outputs": [
    {
     "ename": "TypeError",
     "evalue": "__init__() missing 3 required positional arguments: 'a', 'b', and 'c'",
     "output_type": "error",
     "traceback": [
      "\u001b[1;31m---------------------------------------------------------------------------\u001b[0m",
      "\u001b[1;31mTypeError\u001b[0m                                 Traceback (most recent call last)",
      "\u001b[1;32m<ipython-input-10-4a306fa9141e>\u001b[0m in \u001b[0;36m<module>\u001b[1;34m\u001b[0m\n\u001b[1;32m----> 1\u001b[1;33m \u001b[0mq\u001b[0m\u001b[1;33m=\u001b[0m\u001b[0mxyz1\u001b[0m\u001b[1;33m(\u001b[0m\u001b[1;33m)\u001b[0m\u001b[1;33m\u001b[0m\u001b[1;33m\u001b[0m\u001b[0m\n\u001b[0m",
      "\u001b[1;31mTypeError\u001b[0m: __init__() missing 3 required positional arguments: 'a', 'b', and 'c'"
     ]
    }
   ],
   "source": [
    "q=xyz1()"
   ]
  },
  {
   "cell_type": "code",
   "execution_count": 11,
   "id": "aea53b6e",
   "metadata": {},
   "outputs": [],
   "source": [
    "q=xyz1(3,4,5)"
   ]
  },
  {
   "cell_type": "code",
   "execution_count": 12,
   "id": "fbaad0a2",
   "metadata": {},
   "outputs": [
    {
     "name": "stdout",
     "output_type": "stream",
     "text": [
      "this is a test1 math of xyz class\n"
     ]
    }
   ],
   "source": [
    "q.test1()"
   ]
  },
  {
   "cell_type": "code",
   "execution_count": 13,
   "id": "68e695d7",
   "metadata": {},
   "outputs": [],
   "source": [
    "class xyz1(xyz):\n",
    "    def test(self):\n",
    "        print(\"this is a test meth avilable in xyz1 \")\n",
    "        "
   ]
  },
  {
   "cell_type": "code",
   "execution_count": 14,
   "id": "68286661",
   "metadata": {},
   "outputs": [],
   "source": [
    "g =xyz1(4,5,6)"
   ]
  },
  {
   "cell_type": "code",
   "execution_count": 15,
   "id": "6fe6578d",
   "metadata": {},
   "outputs": [
    {
     "name": "stdout",
     "output_type": "stream",
     "text": [
      "this is a test meth avilable in xyz1 \n"
     ]
    }
   ],
   "source": [
    "g.test()"
   ]
  },
  {
   "cell_type": "code",
   "execution_count": 6,
   "id": "f17f764f",
   "metadata": {},
   "outputs": [],
   "source": [
    "class xyz:\n",
    "    def __init__(self,a,b,c):\n",
    "        self.a=a \n",
    "        self.b=b \n",
    "        self.c=c \n",
    "        \n",
    "        \n",
    "    def test(self):\n",
    "        print(\"this is a meth of xyz class\")\n",
    "        \n",
    "class xyz1:\n",
    "    \n",
    "    def __init__(self,p,q,v):\n",
    "        self.p=p \n",
    "        self.q=q \n",
    "        self.v=v\n",
    "        \n",
    "    def test1(self):\n",
    "        print(\"this is a meth form class xyz1\")\n",
    "        \n",
    "class child(xyz1,xyz):\n",
    "    def __init__(self,*args,**kwargs):\n",
    "        xyz.__init__(self,*args)\n",
    "        xyz1.__init__(self,**kwargs)\n",
    "        "
   ]
  },
  {
   "cell_type": "code",
   "execution_count": 8,
   "id": "8169040c",
   "metadata": {},
   "outputs": [],
   "source": [
    "n=child(4,5,6,p=3,q=4,v=5)"
   ]
  },
  {
   "cell_type": "code",
   "execution_count": 9,
   "id": "f33747e2",
   "metadata": {},
   "outputs": [
    {
     "data": {
      "text/plain": [
       "3"
      ]
     },
     "execution_count": 9,
     "metadata": {},
     "output_type": "execute_result"
    }
   ],
   "source": [
    "n.p"
   ]
  },
  {
   "cell_type": "code",
   "execution_count": 10,
   "id": "39254a40",
   "metadata": {},
   "outputs": [
    {
     "data": {
      "text/plain": [
       "4"
      ]
     },
     "execution_count": 10,
     "metadata": {},
     "output_type": "execute_result"
    }
   ],
   "source": [
    "n.q"
   ]
  },
  {
   "cell_type": "code",
   "execution_count": 11,
   "id": "ffe030e8",
   "metadata": {},
   "outputs": [
    {
     "data": {
      "text/plain": [
       "5"
      ]
     },
     "execution_count": 11,
     "metadata": {},
     "output_type": "execute_result"
    }
   ],
   "source": [
    "n.v"
   ]
  },
  {
   "cell_type": "code",
   "execution_count": 19,
   "id": "8fec4f95",
   "metadata": {},
   "outputs": [],
   "source": [
    "class xyz:\n",
    "    def __init__(self,a,b,c):\n",
    "        self.a=a \n",
    "        self.b=b \n",
    "        self.c=c \n",
    "        \n",
    "        \n",
    "    def test(self):\n",
    "        print(\"this is a meth of xyz class\")\n",
    "        \n",
    "class xyz1(xyz):\n",
    "    \n",
    "    def test1(self):\n",
    "        print(\"this is  a meth form class xyz1\")\n",
    "        \n",
    "class xyz2(xyz1):\n",
    "    def test2(self):\n",
    "        print(\"this is a meth form class 2\")\n",
    "        \n",
    "class xyz3(xyz2):\n",
    "    def test3(self):\n",
    "        print(\"this is my meth form class xyz3\")\n",
    "        "
   ]
  },
  {
   "cell_type": "code",
   "execution_count": 20,
   "id": "51b5da19",
   "metadata": {},
   "outputs": [],
   "source": [
    "v=xyz2(5,6,7)"
   ]
  },
  {
   "cell_type": "code",
   "execution_count": 22,
   "id": "c2097e1c",
   "metadata": {},
   "outputs": [],
   "source": [
    "m=xyz3(4,5,6)"
   ]
  },
  {
   "cell_type": "code",
   "execution_count": null,
   "id": "8a544959",
   "metadata": {},
   "outputs": [],
   "source": [
    "q1- create a file class for reading data forom respective file with a method name read and write.\n",
    "q2- try to inherit read and write method form parent class to child class to operform read and write operation"
   ]
  },
  {
   "cell_type": "code",
   "execution_count": 24,
   "id": "f78f7974",
   "metadata": {},
   "outputs": [
    {
     "name": "stdout",
     "output_type": "stream",
     "text": [
      "Inserted Lines .......\n"
     ]
    }
   ],
   "source": [
    "class readFile:\n",
    "    def __init__(self,fileObj, lines):\n",
    "        self.file = fileObj\n",
    "        self.lines = lines\n",
    "    def readFile(self):\n",
    "        file2=open(self.file,'r')\n",
    "        line=file2.readline()\n",
    "        while(line!=\"\"):\n",
    "            print(line)\n",
    "            line=file2.readline()\n",
    "\n",
    "    def writeFile(self):\n",
    "        content_write = open(self.file,'w')\n",
    "        content_write.writelines(lines)\n",
    "        content_write.close()\n",
    "        \n",
    "class readFile1(readFile):\n",
    "    def readFile1(self):\n",
    "        print(\"inheritance of readFile class\")\n",
    "\n",
    "file1 = r'test1.txt'\n",
    "lines = 'Inserted Lines .......'\n",
    "\n",
    "read_write = readFile1(file1,lines)\n",
    "read_write.writeFile()\n",
    "read_write.readFile()\n",
    "\n",
    "        "
   ]
  },
  {
   "cell_type": "code",
   "execution_count": 1,
   "id": "b59b2928",
   "metadata": {},
   "outputs": [],
   "source": [
    "class test :\n",
    "    def __init__(self,a,b,c):\n",
    "        self.a=a\n",
    "        self.b=b \n",
    "        self.c= c \n",
    "        \n",
    "class test1(test):\n",
    "    pass\n",
    "u=test(4,5,6)"
   ]
  },
  {
   "cell_type": "code",
   "execution_count": 2,
   "id": "a5654ff0",
   "metadata": {},
   "outputs": [],
   "source": [
    "v=test1(3,4,5)"
   ]
  },
  {
   "cell_type": "code",
   "execution_count": 32,
   "id": "e91896e4",
   "metadata": {},
   "outputs": [],
   "source": [
    "class test :\n",
    "    def __init__(self):\n",
    "        self.__a=4\n",
    "        \n",
    "class test1(test):\n",
    "    def __init__(self):\n",
    "        self.__a=7\n",
    "u=test()"
   ]
  },
  {
   "cell_type": "code",
   "execution_count": 33,
   "id": "af9921c7",
   "metadata": {},
   "outputs": [
    {
     "ename": "AttributeError",
     "evalue": "'test' object has no attribute 'a'",
     "output_type": "error",
     "traceback": [
      "\u001b[1;31m---------------------------------------------------------------------------\u001b[0m",
      "\u001b[1;31mAttributeError\u001b[0m                            Traceback (most recent call last)",
      "\u001b[1;32m<ipython-input-33-afa9342845d0>\u001b[0m in \u001b[0;36m<module>\u001b[1;34m\u001b[0m\n\u001b[1;32m----> 1\u001b[1;33m \u001b[0mu\u001b[0m\u001b[1;33m.\u001b[0m\u001b[0ma\u001b[0m\u001b[1;33m\u001b[0m\u001b[1;33m\u001b[0m\u001b[0m\n\u001b[0m",
      "\u001b[1;31mAttributeError\u001b[0m: 'test' object has no attribute 'a'"
     ]
    }
   ],
   "source": [
    "u.a"
   ]
  },
  {
   "cell_type": "code",
   "execution_count": 34,
   "id": "7e4396e1",
   "metadata": {},
   "outputs": [],
   "source": [
    "v=test1()"
   ]
  },
  {
   "cell_type": "code",
   "execution_count": 35,
   "id": "4a6db5f6",
   "metadata": {},
   "outputs": [
    {
     "ename": "AttributeError",
     "evalue": "'test1' object has no attribute 'a'",
     "output_type": "error",
     "traceback": [
      "\u001b[1;31m---------------------------------------------------------------------------\u001b[0m",
      "\u001b[1;31mAttributeError\u001b[0m                            Traceback (most recent call last)",
      "\u001b[1;32m<ipython-input-35-bd111c48723f>\u001b[0m in \u001b[0;36m<module>\u001b[1;34m\u001b[0m\n\u001b[1;32m----> 1\u001b[1;33m \u001b[0mv\u001b[0m\u001b[1;33m.\u001b[0m\u001b[0ma\u001b[0m\u001b[1;33m\u001b[0m\u001b[1;33m\u001b[0m\u001b[0m\n\u001b[0m",
      "\u001b[1;31mAttributeError\u001b[0m: 'test1' object has no attribute 'a'"
     ]
    }
   ],
   "source": [
    "v.a"
   ]
  },
  {
   "cell_type": "code",
   "execution_count": 42,
   "id": "6c893cfb",
   "metadata": {},
   "outputs": [],
   "source": [
    "class test:\n",
    "    def __init__(self,a,b,c):\n",
    "        self._a=a \n",
    "        self.__b=b \n",
    "        self.c=c \n",
    "    \n",
    "class test1(test):\n",
    "    pass\n",
    "v = test(4,5,6)"
   ]
  },
  {
   "cell_type": "code",
   "execution_count": 43,
   "id": "c5989a91",
   "metadata": {},
   "outputs": [
    {
     "data": {
      "text/plain": [
       "4"
      ]
     },
     "execution_count": 43,
     "metadata": {},
     "output_type": "execute_result"
    }
   ],
   "source": [
    "v._a"
   ]
  },
  {
   "cell_type": "code",
   "execution_count": 57,
   "id": "cdb4c68e",
   "metadata": {},
   "outputs": [
    {
     "data": {
      "text/plain": [
       "4"
      ]
     },
     "execution_count": 57,
     "metadata": {},
     "output_type": "execute_result"
    }
   ],
   "source": [
    "u._test__b"
   ]
  },
  {
   "cell_type": "code",
   "execution_count": 56,
   "id": "b2b1177d",
   "metadata": {},
   "outputs": [
    {
     "data": {
      "text/plain": [
       "5"
      ]
     },
     "execution_count": 56,
     "metadata": {},
     "output_type": "execute_result"
    }
   ],
   "source": [
    "v._test__b"
   ]
  },
  {
   "cell_type": "code",
   "execution_count": 45,
   "id": "1b826419",
   "metadata": {},
   "outputs": [
    {
     "data": {
      "text/plain": [
       "6"
      ]
     },
     "execution_count": 45,
     "metadata": {},
     "output_type": "execute_result"
    }
   ],
   "source": [
    "v.c"
   ]
  },
  {
   "cell_type": "code",
   "execution_count": 50,
   "id": "33b43255",
   "metadata": {},
   "outputs": [],
   "source": [
    "u=test1(3,4,7)"
   ]
  },
  {
   "cell_type": "code",
   "execution_count": 51,
   "id": "014f7baa",
   "metadata": {},
   "outputs": [
    {
     "data": {
      "text/plain": [
       "7"
      ]
     },
     "execution_count": 51,
     "metadata": {},
     "output_type": "execute_result"
    }
   ],
   "source": [
    "u.c"
   ]
  },
  {
   "cell_type": "code",
   "execution_count": 52,
   "id": "09e5339b",
   "metadata": {},
   "outputs": [
    {
     "data": {
      "text/plain": [
       "3"
      ]
     },
     "execution_count": 52,
     "metadata": {},
     "output_type": "execute_result"
    }
   ],
   "source": [
    "u._a"
   ]
  },
  {
   "cell_type": "code",
   "execution_count": 54,
   "id": "c1a51a54",
   "metadata": {},
   "outputs": [
    {
     "ename": "AttributeError",
     "evalue": "'test1' object has no attribute '_test1__b'",
     "output_type": "error",
     "traceback": [
      "\u001b[1;31m---------------------------------------------------------------------------\u001b[0m",
      "\u001b[1;31mAttributeError\u001b[0m                            Traceback (most recent call last)",
      "\u001b[1;32m<ipython-input-54-28b27c9c3546>\u001b[0m in \u001b[0;36m<module>\u001b[1;34m\u001b[0m\n\u001b[1;32m----> 1\u001b[1;33m \u001b[0mu\u001b[0m\u001b[1;33m.\u001b[0m\u001b[0m_test1__b\u001b[0m\u001b[1;33m\u001b[0m\u001b[1;33m\u001b[0m\u001b[0m\n\u001b[0m",
      "\u001b[1;31mAttributeError\u001b[0m: 'test1' object has no attribute '_test1__b'"
     ]
    }
   ],
   "source": [
    "u._test1__b"
   ]
  },
  {
   "cell_type": "code",
   "execution_count": 58,
   "id": "f72a9a55",
   "metadata": {},
   "outputs": [],
   "source": [
    "class bonousclaculator:\n",
    "    def __init__(self, empid , emprating) :\n",
    "        self.empid = empid\n",
    "        self.emprating = emprating\n",
    "        self._empmail = \"fdsfsfssf@gmail.com\"\n",
    "        self.__bonusforratingA = \"70%\"\n",
    "        self.__bonusforraringB = \"60%\"\n",
    "        self.__bonusforratinC = \"40%\"\n",
    "    \n",
    "    def bonuscalculator(self) :\n",
    "        if self.emprating == \"A\":\n",
    "            bonus = self.__bonusforratingA\n",
    "            return bonus\n",
    "        elif self.emprating == \"B\" :\n",
    "            bonus = self.__bonusforraringB\n",
    "            return bonus\n",
    "        else :\n",
    "            bonus = self.__bonusforratinC\n",
    "            return bonus"
   ]
  },
  {
   "cell_type": "code",
   "execution_count": 59,
   "id": "0bab7154",
   "metadata": {},
   "outputs": [],
   "source": [
    "emp1 = bonousclaculator(101 , \"A\")\n",
    "emp2 = bonousclaculator(102 , \"B\")\n",
    "emp3 = bonousclaculator(103, \"C\")"
   ]
  },
  {
   "cell_type": "code",
   "execution_count": 60,
   "id": "bbbc59b8",
   "metadata": {},
   "outputs": [
    {
     "data": {
      "text/plain": [
       "'70%'"
      ]
     },
     "execution_count": 60,
     "metadata": {},
     "output_type": "execute_result"
    }
   ],
   "source": [
    "emp1.bonuscalculator()"
   ]
  },
  {
   "cell_type": "code",
   "execution_count": 61,
   "id": "75190799",
   "metadata": {},
   "outputs": [
    {
     "data": {
      "text/plain": [
       "'60%'"
      ]
     },
     "execution_count": 61,
     "metadata": {},
     "output_type": "execute_result"
    }
   ],
   "source": [
    "emp2.bonuscalculator()"
   ]
  },
  {
   "cell_type": "code",
   "execution_count": 62,
   "id": "81ee4bcc",
   "metadata": {},
   "outputs": [
    {
     "data": {
      "text/plain": [
       "'40%'"
      ]
     },
     "execution_count": 62,
     "metadata": {},
     "output_type": "execute_result"
    }
   ],
   "source": [
    "emp3.bonuscalculator()"
   ]
  },
  {
   "cell_type": "code",
   "execution_count": 63,
   "id": "c30d5b30",
   "metadata": {},
   "outputs": [],
   "source": [
    "emp1.empid = 104"
   ]
  },
  {
   "cell_type": "code",
   "execution_count": 70,
   "id": "a30b2811",
   "metadata": {},
   "outputs": [
    {
     "data": {
      "text/plain": [
       "104"
      ]
     },
     "execution_count": 70,
     "metadata": {},
     "output_type": "execute_result"
    }
   ],
   "source": [
    "emp1.empid"
   ]
  },
  {
   "cell_type": "code",
   "execution_count": 65,
   "id": "d67a8dc3",
   "metadata": {},
   "outputs": [],
   "source": [
    "emp1.emprating= \"B\""
   ]
  },
  {
   "cell_type": "code",
   "execution_count": 66,
   "id": "b2d4f2a4",
   "metadata": {},
   "outputs": [
    {
     "data": {
      "text/plain": [
       "'60%'"
      ]
     },
     "execution_count": 66,
     "metadata": {},
     "output_type": "execute_result"
    }
   ],
   "source": [
    "emp1.bonuscalculator()"
   ]
  },
  {
   "cell_type": "code",
   "execution_count": 67,
   "id": "c714478b",
   "metadata": {},
   "outputs": [],
   "source": [
    "emp1.__bonusforraringB = \"90%\""
   ]
  },
  {
   "cell_type": "code",
   "execution_count": 69,
   "id": "fff17fa5",
   "metadata": {},
   "outputs": [
    {
     "data": {
      "text/plain": [
       "'60%'"
      ]
     },
     "execution_count": 69,
     "metadata": {},
     "output_type": "execute_result"
    }
   ],
   "source": [
    "emp1.bonuscalculator()"
   ]
  },
  {
   "cell_type": "code",
   "execution_count": 71,
   "id": "97112819",
   "metadata": {},
   "outputs": [
    {
     "data": {
      "text/plain": [
       "'B'"
      ]
     },
     "execution_count": 71,
     "metadata": {},
     "output_type": "execute_result"
    }
   ],
   "source": [
    "emp2.emprating"
   ]
  },
  {
   "cell_type": "code",
   "execution_count": 72,
   "id": "1c0e5987",
   "metadata": {},
   "outputs": [
    {
     "data": {
      "text/plain": [
       "'60%'"
      ]
     },
     "execution_count": 72,
     "metadata": {},
     "output_type": "execute_result"
    }
   ],
   "source": [
    "emp2.bonuscalculator()"
   ]
  },
  {
   "cell_type": "code",
   "execution_count": 73,
   "id": "873fb99d",
   "metadata": {},
   "outputs": [],
   "source": [
    "emp2= \"100%\""
   ]
  },
  {
   "cell_type": "code",
   "execution_count": 74,
   "id": "12bfffc1",
   "metadata": {},
   "outputs": [
    {
     "ename": "AttributeError",
     "evalue": "'str' object has no attribute 'bonuscalculator'",
     "output_type": "error",
     "traceback": [
      "\u001b[1;31m---------------------------------------------------------------------------\u001b[0m",
      "\u001b[1;31mAttributeError\u001b[0m                            Traceback (most recent call last)",
      "\u001b[1;32m<ipython-input-74-ea154c101e92>\u001b[0m in \u001b[0;36m<module>\u001b[1;34m\u001b[0m\n\u001b[1;32m----> 1\u001b[1;33m \u001b[0memp2\u001b[0m\u001b[1;33m.\u001b[0m\u001b[0mbonuscalculator\u001b[0m\u001b[1;33m(\u001b[0m\u001b[1;33m)\u001b[0m\u001b[1;33m\u001b[0m\u001b[1;33m\u001b[0m\u001b[0m\n\u001b[0m",
      "\u001b[1;31mAttributeError\u001b[0m: 'str' object has no attribute 'bonuscalculator'"
     ]
    }
   ],
   "source": [
    "emp2.bonuscalculator()"
   ]
  },
  {
   "cell_type": "code",
   "execution_count": 75,
   "id": "a214b91f",
   "metadata": {},
   "outputs": [
    {
     "ename": "AttributeError",
     "evalue": "'str' object has no attribute 'empid'",
     "output_type": "error",
     "traceback": [
      "\u001b[1;31m---------------------------------------------------------------------------\u001b[0m",
      "\u001b[1;31mAttributeError\u001b[0m                            Traceback (most recent call last)",
      "\u001b[1;32m<ipython-input-75-e7ea127b34b4>\u001b[0m in \u001b[0;36m<module>\u001b[1;34m\u001b[0m\n\u001b[1;32m----> 1\u001b[1;33m \u001b[0memp2\u001b[0m\u001b[1;33m.\u001b[0m\u001b[0mempid\u001b[0m \u001b[1;33m=\u001b[0m \u001b[1;36m34543543\u001b[0m\u001b[1;33m\u001b[0m\u001b[1;33m\u001b[0m\u001b[0m\n\u001b[0m",
      "\u001b[1;31mAttributeError\u001b[0m: 'str' object has no attribute 'empid'"
     ]
    }
   ],
   "source": [
    "emp2.empid = 34543543"
   ]
  },
  {
   "cell_type": "code",
   "execution_count": 76,
   "id": "88803664",
   "metadata": {},
   "outputs": [
    {
     "ename": "AttributeError",
     "evalue": "'str' object has no attribute 'empid'",
     "output_type": "error",
     "traceback": [
      "\u001b[1;31m---------------------------------------------------------------------------\u001b[0m",
      "\u001b[1;31mAttributeError\u001b[0m                            Traceback (most recent call last)",
      "\u001b[1;32m<ipython-input-76-92058fc93785>\u001b[0m in \u001b[0;36m<module>\u001b[1;34m\u001b[0m\n\u001b[1;32m----> 1\u001b[1;33m \u001b[0memp2\u001b[0m\u001b[1;33m.\u001b[0m\u001b[0mempid\u001b[0m\u001b[1;33m\u001b[0m\u001b[1;33m\u001b[0m\u001b[0m\n\u001b[0m",
      "\u001b[1;31mAttributeError\u001b[0m: 'str' object has no attribute 'empid'"
     ]
    }
   ],
   "source": [
    "emp2.empid"
   ]
  },
  {
   "cell_type": "code",
   "execution_count": 77,
   "id": "08290a64",
   "metadata": {},
   "outputs": [
    {
     "ename": "AttributeError",
     "evalue": "'str' object has no attribute '__bonusforraringB'",
     "output_type": "error",
     "traceback": [
      "\u001b[1;31m---------------------------------------------------------------------------\u001b[0m",
      "\u001b[1;31mAttributeError\u001b[0m                            Traceback (most recent call last)",
      "\u001b[1;32m<ipython-input-77-ea21f58f68f8>\u001b[0m in \u001b[0;36m<module>\u001b[1;34m\u001b[0m\n\u001b[1;32m----> 1\u001b[1;33m \u001b[0memp2\u001b[0m\u001b[1;33m.\u001b[0m\u001b[0m__bonusforraringB\u001b[0m \u001b[1;33m=\u001b[0m \u001b[1;34m\"fsadfsafs\"\u001b[0m\u001b[1;33m\u001b[0m\u001b[1;33m\u001b[0m\u001b[0m\n\u001b[0m",
      "\u001b[1;31mAttributeError\u001b[0m: 'str' object has no attribute '__bonusforraringB'"
     ]
    }
   ],
   "source": [
    "emp2.__bonusforraringB = \"fsadfsafs\""
   ]
  },
  {
   "cell_type": "code",
   "execution_count": 79,
   "id": "4f5c17a2",
   "metadata": {},
   "outputs": [
    {
     "ename": "AttributeError",
     "evalue": "'str' object has no attribute '_bonousclaculator__bonusforraringB'",
     "output_type": "error",
     "traceback": [
      "\u001b[1;31m---------------------------------------------------------------------------\u001b[0m",
      "\u001b[1;31mAttributeError\u001b[0m                            Traceback (most recent call last)",
      "\u001b[1;32m<ipython-input-79-f17638009fc8>\u001b[0m in \u001b[0;36m<module>\u001b[1;34m\u001b[0m\n\u001b[1;32m----> 1\u001b[1;33m \u001b[0memp2\u001b[0m\u001b[1;33m.\u001b[0m\u001b[0m_bonousclaculator__bonusforraringB\u001b[0m\u001b[1;33m\u001b[0m\u001b[1;33m\u001b[0m\u001b[0m\n\u001b[0m",
      "\u001b[1;31mAttributeError\u001b[0m: 'str' object has no attribute '_bonousclaculator__bonusforraringB'"
     ]
    }
   ],
   "source": [
    "emp2._bonousclaculator__bonusforraringB"
   ]
  },
  {
   "cell_type": "code",
   "execution_count": 80,
   "id": "82c38be3",
   "metadata": {},
   "outputs": [
    {
     "ename": "AttributeError",
     "evalue": "'str' object has no attribute '_bonousclaculator__bonusforraringB'",
     "output_type": "error",
     "traceback": [
      "\u001b[1;31m---------------------------------------------------------------------------\u001b[0m",
      "\u001b[1;31mAttributeError\u001b[0m                            Traceback (most recent call last)",
      "\u001b[1;32m<ipython-input-80-a7cbc7a05642>\u001b[0m in \u001b[0;36m<module>\u001b[1;34m\u001b[0m\n\u001b[1;32m----> 1\u001b[1;33m \u001b[0memp2\u001b[0m\u001b[1;33m.\u001b[0m\u001b[0m_bonousclaculator__bonusforraringB\u001b[0m  \u001b[1;33m=\u001b[0m \u001b[1;34m\"435456\"\u001b[0m\u001b[1;33m\u001b[0m\u001b[1;33m\u001b[0m\u001b[0m\n\u001b[0m",
      "\u001b[1;31mAttributeError\u001b[0m: 'str' object has no attribute '_bonousclaculator__bonusforraringB'"
     ]
    }
   ],
   "source": [
    "emp2._bonousclaculator__bonusforraringB  = \"435456\""
   ]
  },
  {
   "cell_type": "code",
   "execution_count": 81,
   "id": "8e65d1db",
   "metadata": {},
   "outputs": [
    {
     "ename": "AttributeError",
     "evalue": "'str' object has no attribute '_bonousclaculator__bonusforraringB'",
     "output_type": "error",
     "traceback": [
      "\u001b[1;31m---------------------------------------------------------------------------\u001b[0m",
      "\u001b[1;31mAttributeError\u001b[0m                            Traceback (most recent call last)",
      "\u001b[1;32m<ipython-input-81-dd140ad5df8f>\u001b[0m in \u001b[0;36m<module>\u001b[1;34m\u001b[0m\n\u001b[1;32m----> 1\u001b[1;33m \u001b[0memp2\u001b[0m\u001b[1;33m.\u001b[0m\u001b[0m_bonousclaculator__bonusforraringB\u001b[0m\u001b[1;33m\u001b[0m\u001b[1;33m\u001b[0m\u001b[0m\n\u001b[0m",
      "\u001b[1;31mAttributeError\u001b[0m: 'str' object has no attribute '_bonousclaculator__bonusforraringB'"
     ]
    }
   ],
   "source": [
    "emp2._bonousclaculator__bonusforraringB "
   ]
  },
  {
   "cell_type": "code",
   "execution_count": 82,
   "id": "9c3b4a16",
   "metadata": {},
   "outputs": [
    {
     "data": {
      "text/plain": [
       "'fdsfsfssf@gmail.com'"
      ]
     },
     "execution_count": 82,
     "metadata": {},
     "output_type": "execute_result"
    }
   ],
   "source": [
    "emp1._empmail "
   ]
  },
  {
   "cell_type": "code",
   "execution_count": 83,
   "id": "c4373dfb",
   "metadata": {},
   "outputs": [],
   "source": [
    "emp1._empmail  = \"sudhanshu@gmail.com\""
   ]
  },
  {
   "cell_type": "code",
   "execution_count": 84,
   "id": "1bbdc95c",
   "metadata": {},
   "outputs": [
    {
     "data": {
      "text/plain": [
       "'sudhanshu@gmail.com'"
      ]
     },
     "execution_count": 84,
     "metadata": {},
     "output_type": "execute_result"
    }
   ],
   "source": [
    "emp1._empmail"
   ]
  },
  {
   "cell_type": "code",
   "execution_count": 85,
   "id": "c511f307",
   "metadata": {},
   "outputs": [],
   "source": [
    "class xyz():\n",
    "    def __init__(self,a,b,c):\n",
    "        self.a=a\n",
    "        self.b=b\n",
    "        self.c=c\n",
    "    def test (self):\n",
    "        print (\"machine\")\n",
    "\n",
    "class xyz1(xyz):\n",
    "    def __init__(self,p,q,r):\n",
    "        self.p=p\n",
    "        self.q=q\n",
    "        self.r=r\n",
    "    def test1(self):\n",
    "        print (\"learning\")\n",
    "class xyz2(xyz1):\n",
    "    def test2(self):\n",
    "        print (\"ineuron\")\n"
   ]
  },
  {
   "cell_type": "code",
   "execution_count": 86,
   "id": "22395f74",
   "metadata": {},
   "outputs": [],
   "source": [
    "v=xyz2(3,4,5)"
   ]
  },
  {
   "cell_type": "code",
   "execution_count": 87,
   "id": "c3dbb6c1",
   "metadata": {},
   "outputs": [
    {
     "name": "stdout",
     "output_type": "stream",
     "text": [
      "machine\n"
     ]
    }
   ],
   "source": [
    "v.test()"
   ]
  },
  {
   "cell_type": "code",
   "execution_count": 89,
   "id": "c12364fd",
   "metadata": {},
   "outputs": [
    {
     "name": "stdout",
     "output_type": "stream",
     "text": [
      "Enter an integer4564\n",
      "Please enter a valid input, an integer\n",
      "Enter an integer456\n",
      "Please enter a valid input, an integer\n",
      "Enter an integer435\n",
      "435  is a prime number\n"
     ]
    }
   ],
   "source": [
    "def checkPrime():\n",
    "    ''' Checks if a number is Prime. Keeps on asking\n",
    "        for an input in correct form, >1 & an integer\n",
    "        '''\n",
    "    while True:\n",
    "        try:\n",
    "            num=int(input('Enter an integer'))\n",
    "            if num>1:\n",
    "                for i in range(2, num):\n",
    "                    \n",
    "                    if (num % i)==0:\n",
    "                        pss\n",
    "                        #print(num, ' is a not prime number')\n",
    "                        #break\n",
    "                \n",
    "                    else:\n",
    "                        print(num, ' is a prime number')\n",
    "                        break\n",
    "                        \n",
    "                break       \n",
    "                        \n",
    "                \n",
    "            else:\n",
    "                print('Please enter a number >1')\n",
    "        except:\n",
    "            print('Please enter a valid input, an integer')\n",
    "checkPrime()\n"
   ]
  },
  {
   "cell_type": "code",
   "execution_count": 90,
   "id": "5d0c0f50",
   "metadata": {},
   "outputs": [],
   "source": [
    "def largest_arr(*args):\n",
    "    lagest_list_iter=0\n",
    "    lagest_list=0\n",
    "    l=[]\n",
    "    for i in args:\n",
    "        if type(i)==list or type(i)==tuple or type(i)==set:\n",
    "            for j in i:\n",
    "                l.append(j)\n",
    "                lagest_list_iter=max(l)\n",
    "            return lagest_list_iter    \n",
    "                \n",
    "        else:\n",
    "            for i in args:\n",
    "                l.append(i)\n",
    "                lagest_list=max(l)\n",
    "            return lagest_list\n"
   ]
  },
  {
   "cell_type": "code",
   "execution_count": 91,
   "id": "aef302e5",
   "metadata": {},
   "outputs": [
    {
     "ename": "TypeError",
     "evalue": "'int' object is not iterable",
     "output_type": "error",
     "traceback": [
      "\u001b[1;31m---------------------------------------------------------------------------\u001b[0m",
      "\u001b[1;31mTypeError\u001b[0m                                 Traceback (most recent call last)",
      "\u001b[1;32m<ipython-input-91-040dd2cda7dc>\u001b[0m in \u001b[0;36m<module>\u001b[1;34m\u001b[0m\n\u001b[0;32m      1\u001b[0m \u001b[0ma\u001b[0m \u001b[1;33m=\u001b[0m \u001b[1;36m50\u001b[0m\u001b[1;33m\u001b[0m\u001b[1;33m\u001b[0m\u001b[0m\n\u001b[1;32m----> 2\u001b[1;33m \u001b[0miter\u001b[0m\u001b[1;33m(\u001b[0m\u001b[0ma\u001b[0m\u001b[1;33m)\u001b[0m\u001b[1;33m\u001b[0m\u001b[1;33m\u001b[0m\u001b[0m\n\u001b[0m",
      "\u001b[1;31mTypeError\u001b[0m: 'int' object is not iterable"
     ]
    }
   ],
   "source": [
    "a = 50\n",
    "iter(a)"
   ]
  },
  {
   "cell_type": "code",
   "execution_count": 92,
   "id": "cf482029",
   "metadata": {},
   "outputs": [],
   "source": [
    "b=[4,5,6]"
   ]
  },
  {
   "cell_type": "code",
   "execution_count": 93,
   "id": "49daa2c3",
   "metadata": {},
   "outputs": [
    {
     "data": {
      "text/plain": [
       "list_iterator"
      ]
     },
     "execution_count": 93,
     "metadata": {},
     "output_type": "execute_result"
    }
   ],
   "source": [
    "type(iter(b))"
   ]
  },
  {
   "cell_type": "code",
   "execution_count": 94,
   "id": "a8a3e809",
   "metadata": {},
   "outputs": [
    {
     "name": "stdout",
     "output_type": "stream",
     "text": [
      "do something\n"
     ]
    }
   ],
   "source": [
    "if list in [list, tuple,set]:\n",
    "    print(\"do something\")"
   ]
  },
  {
   "cell_type": "code",
   "execution_count": 95,
   "id": "8d2bdaef",
   "metadata": {},
   "outputs": [],
   "source": [
    "import array as arr"
   ]
  },
  {
   "cell_type": "code",
   "execution_count": 96,
   "id": "69af5d45",
   "metadata": {},
   "outputs": [
    {
     "data": {
      "text/plain": [
       "array('f', [1.0, 2.0, 3.0, 4.0])"
      ]
     },
     "execution_count": 96,
     "metadata": {},
     "output_type": "execute_result"
    }
   ],
   "source": [
    "a = arr.array('f' , [1,2,3,4])\n",
    "a"
   ]
  },
  {
   "cell_type": "code",
   "execution_count": 97,
   "id": "cc40adfb",
   "metadata": {},
   "outputs": [
    {
     "data": {
      "text/plain": [
       "array([1, 2, 3, 4])"
      ]
     },
     "execution_count": 97,
     "metadata": {},
     "output_type": "execute_result"
    }
   ],
   "source": [
    "import numpy as np\n",
    "np.array([1,2,3,4])"
   ]
  },
  {
   "cell_type": "code",
   "execution_count": 98,
   "id": "d0cc4434",
   "metadata": {},
   "outputs": [
    {
     "data": {
      "text/plain": [
       "array([ 3,  5, 67, 67])"
      ]
     },
     "execution_count": 98,
     "metadata": {},
     "output_type": "execute_result"
    }
   ],
   "source": [
    "np.asanyarray([3,5,67,67])"
   ]
  },
  {
   "cell_type": "code",
   "execution_count": 99,
   "id": "1ee0bd99",
   "metadata": {},
   "outputs": [
    {
     "data": {
      "text/plain": [
       "array([  34, 6565,   76,    7,    6])"
      ]
     },
     "execution_count": 99,
     "metadata": {},
     "output_type": "execute_result"
    }
   ],
   "source": [
    "np.asanyarray([34,6565,76,7,6])"
   ]
  },
  {
   "cell_type": "code",
   "execution_count": 100,
   "id": "488c8d22",
   "metadata": {},
   "outputs": [
    {
     "name": "stdout",
     "output_type": "stream",
     "text": [
      "1.0\n",
      "2.0\n",
      "3.0\n",
      "4.0\n"
     ]
    }
   ],
   "source": [
    "for i in a:\n",
    "    print(i)"
   ]
  },
  {
   "cell_type": "code",
   "execution_count": 101,
   "id": "15204e60",
   "metadata": {},
   "outputs": [
    {
     "data": {
      "text/plain": [
       "435"
      ]
     },
     "execution_count": 101,
     "metadata": {},
     "output_type": "execute_result"
    }
   ],
   "source": [
    "class parent:\n",
    "    def __init__(self, p, q, r):\n",
    "        self.p = p\n",
    "        self._q = q\n",
    "        self.__r = r\n",
    "        \n",
    "class child(parent):\n",
    "    pass\n",
    "\n",
    "c1 = child(4,5,6)\n",
    "\n",
    "# How is  this possible??? \n",
    "c1.z = 435\n",
    "c1.z"
   ]
  },
  {
   "cell_type": "code",
   "execution_count": 102,
   "id": "e54c6c9e",
   "metadata": {},
   "outputs": [],
   "source": [
    "a=10"
   ]
  },
  {
   "cell_type": "code",
   "execution_count": 103,
   "id": "abac36db",
   "metadata": {},
   "outputs": [],
   "source": [
    "c2=child(4,5,6)"
   ]
  },
  {
   "cell_type": "code",
   "execution_count": 104,
   "id": "76881f4d",
   "metadata": {},
   "outputs": [
    {
     "ename": "AttributeError",
     "evalue": "'child' object has no attribute 'z'",
     "output_type": "error",
     "traceback": [
      "\u001b[1;31m---------------------------------------------------------------------------\u001b[0m",
      "\u001b[1;31mAttributeError\u001b[0m                            Traceback (most recent call last)",
      "\u001b[1;32m<ipython-input-104-60f30b911812>\u001b[0m in \u001b[0;36m<module>\u001b[1;34m\u001b[0m\n\u001b[1;32m----> 1\u001b[1;33m \u001b[0mc2\u001b[0m\u001b[1;33m.\u001b[0m\u001b[0mz\u001b[0m\u001b[1;33m\u001b[0m\u001b[1;33m\u001b[0m\u001b[0m\n\u001b[0m",
      "\u001b[1;31mAttributeError\u001b[0m: 'child' object has no attribute 'z'"
     ]
    }
   ],
   "source": [
    "c2.z"
   ]
  },
  {
   "cell_type": "code",
   "execution_count": 105,
   "id": "5f555971",
   "metadata": {},
   "outputs": [
    {
     "data": {
      "text/plain": [
       "'60%'"
      ]
     },
     "execution_count": 105,
     "metadata": {},
     "output_type": "execute_result"
    }
   ],
   "source": [
    "class bonuscalculator:\n",
    "    def __init__(self,empid, emprating):\n",
    "        self.empid = empid\n",
    "        self.emprating = emprating\n",
    "        self.__bonusforratingA = \"70%\"\n",
    "        self.__bonusforratingB = \"60%\"\n",
    "        self.__bonusforratingC = \"40%\"\n",
    "\n",
    "    def bonuscalc(self):\n",
    "        if self.emprating == \"A\":\n",
    "            bonus = self.__bonusforratingA\n",
    "            return bonus\n",
    "        elif self.emprating == \"B\":\n",
    "            bonus = self.__bonusforratingB\n",
    "            return bonus\n",
    "        else : \n",
    "            bonus = self.__bonusforratingC\n",
    "            return bonus ,self.empid\n",
    "\n",
    "emp1 = bonuscalculator(101, \"A\")\n",
    "emp2 = bonuscalculator(102, \"B\")\n",
    "emp3 = bonuscalculator(103, \"C\")\n",
    "emp1.bonuscalc()\n",
    "emp2.bonuscalc()\n"
   ]
  },
  {
   "cell_type": "code",
   "execution_count": 106,
   "id": "fefbcc5c",
   "metadata": {},
   "outputs": [
    {
     "data": {
      "text/plain": [
       "('40%', 103)"
      ]
     },
     "execution_count": 106,
     "metadata": {},
     "output_type": "execute_result"
    }
   ],
   "source": [
    "emp3.bonuscalc()"
   ]
  },
  {
   "cell_type": "code",
   "execution_count": 107,
   "id": "9f6f2490",
   "metadata": {},
   "outputs": [
    {
     "data": {
      "text/plain": [
       "('60%', 102)"
      ]
     },
     "execution_count": 107,
     "metadata": {},
     "output_type": "execute_result"
    }
   ],
   "source": [
    "class bonuscalculator:\n",
    "    def __init__(self,empid,emprating):\n",
    "        self.empid = empid\n",
    "        self.emprating = emprating\n",
    "        self._empmail = \"abcd@gmail.com\"\n",
    "        self.__bonusforratingA = \"70%\"\n",
    "        self.__bonusforratingB = \"60%\"\n",
    "        self.__bonusforratingC = \"40%\"\n",
    "        \n",
    "    def bonuscalculator(self):\n",
    "        if self.emprating == \"A\":\n",
    "            bonus = self.__bonusforratingA\n",
    "            return bonus ,self.empid\n",
    "        elif self.emprating == \"B\":\n",
    "            bonus = self.__bonusforratingB\n",
    "            return bonus,self.empid\n",
    "        else:\n",
    "            bonus = self.__bonusforratingC\n",
    "            return bonus,self.empid\n",
    "emp1 = bonuscalculator(101,\"A\")\n",
    "emp2 = bonuscalculator(102,\"B\")\n",
    "emp3 = bonuscalculator(103,\"C\")\n",
    "emp1.bonuscalculator()\n",
    "emp2.bonuscalculator()\n",
    "\n"
   ]
  },
  {
   "cell_type": "code",
   "execution_count": 108,
   "id": "76fb3e0f",
   "metadata": {},
   "outputs": [
    {
     "data": {
      "text/plain": [
       "2"
      ]
     },
     "execution_count": 108,
     "metadata": {},
     "output_type": "execute_result"
    }
   ],
   "source": [
    "class Xyz:\n",
    "    objCount = 0\n",
    "    def __init__(self, a, b, c):\n",
    "        self.a = a\n",
    "        self.b = b\n",
    "        self.c = c\n",
    "        Xyz.objCount += 1\n",
    "        \n",
    "    def test(self):\n",
    "        print(\"Inside test method\")\n",
    "        \n",
    "    def test1(self):\n",
    "        print(\"Inside the test1 method\")\n",
    "        \n",
    "    def test2(self):\n",
    "        print(\"Inside the test2 method\")\n",
    "\n",
    "p = Xyz(1,2,3)\n",
    "p1 = Xyz(2,3,4)\n",
    "p1.objCount"
   ]
  },
  {
   "cell_type": "code",
   "execution_count": 109,
   "id": "898265a3",
   "metadata": {},
   "outputs": [],
   "source": [
    "p2 = Xyz(2,3,4)"
   ]
  },
  {
   "cell_type": "code",
   "execution_count": 110,
   "id": "07e22c6b",
   "metadata": {},
   "outputs": [
    {
     "data": {
      "text/plain": [
       "3"
      ]
     },
     "execution_count": 110,
     "metadata": {},
     "output_type": "execute_result"
    }
   ],
   "source": [
    "p1.objCount\n"
   ]
  },
  {
   "cell_type": "code",
   "execution_count": null,
   "id": "be289f60",
   "metadata": {},
   "outputs": [],
   "source": []
  }
 ],
 "metadata": {
  "kernelspec": {
   "display_name": "Python 3",
   "language": "python",
   "name": "python3"
  },
  "language_info": {
   "codemirror_mode": {
    "name": "ipython",
    "version": 3
   },
   "file_extension": ".py",
   "mimetype": "text/x-python",
   "name": "python",
   "nbconvert_exporter": "python",
   "pygments_lexer": "ipython3",
   "version": "3.8.8"
  }
 },
 "nbformat": 4,
 "nbformat_minor": 5
}
